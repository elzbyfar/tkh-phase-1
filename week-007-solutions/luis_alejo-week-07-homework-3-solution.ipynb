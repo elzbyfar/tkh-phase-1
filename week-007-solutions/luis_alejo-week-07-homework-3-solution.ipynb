{
 "cells": [
  {
   "cell_type": "markdown",
   "metadata": {},
   "source": [
    "# Week 7 HW"
   ]
  },
  {
   "cell_type": "markdown",
   "metadata": {},
   "source": [
    "# Exercise 3"
   ]
  },
  {
   "cell_type": "markdown",
   "metadata": {},
   "source": [
    "Create a script that will do the following:\n",
    "\n",
    "if you ran the script with an arbitrary amount of strings:\n",
    "```bash\n",
    "$ python your-name-ex3-script.py word1 word2 word3\n",
    "\n",
    "```\n",
    "\n",
    "the script would produce a file in the same directory called `output.html` with the following text:\n",
    "\n",
    "```\n",
    "<body>\n",
    "word1 word2 word3\n",
    "</body>\n",
    "\n",
    "```\n",
    "\n",
    "Submit your script. Not necessary to submit `output.html` file."
   ]
  },
  {
   "cell_type": "code",
   "execution_count": 4,
   "metadata": {},
   "outputs": [],
   "source": [
    "def script(*strings):\n",
    "    \n",
    "    open_file = open('output.html', 'w')\n",
    "    open_file.write(\"<body>\")\n",
    "    \n",
    "    for s in strings[1:]:\n",
    "        open_file.write(s + ' ')\n",
    "        \n",
    "    open_file.write(\"</body>\")\n",
    "    open_file.close()\n",
    "    \n",
    "    return f\"Successfully wrote {len(strings)} words onto output.html.\"\n",
    "\n",
    "if __name__ == '__main__':\n",
    "    import sys\n",
    "    script(*sys.argv)"
   ]
  }
 ],
 "metadata": {
  "kernelspec": {
   "display_name": "Python 3",
   "language": "python",
   "name": "python3"
  },
  "language_info": {
   "codemirror_mode": {
    "name": "ipython",
    "version": 3
   },
   "file_extension": ".py",
   "mimetype": "text/x-python",
   "name": "python",
   "nbconvert_exporter": "python",
   "pygments_lexer": "ipython3",
   "version": "3.9.0"
  }
 },
 "nbformat": 4,
 "nbformat_minor": 4
}
