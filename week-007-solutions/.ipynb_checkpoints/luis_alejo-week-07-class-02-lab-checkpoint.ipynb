{
 "cells": [
  {
   "cell_type": "markdown",
   "metadata": {},
   "source": [
    "<div style=\"background: #000;\n",
    "            color: #FFF;\n",
    "            margin: 0px;\n",
    "                padding: 10px 0px 20px 0px;\n",
    "            text-align: center; \n",
    "                \">\n",
    "    <h1>Week 7 - Class 2 - Lab</h1>\n",
    "</div>\n"
   ]
  },
  {
   "cell_type": "markdown",
   "metadata": {},
   "source": [
    "# Question\n",
    "\n",
    "What is something we could make with the python we know now? Give an example of something and then describe what parts it might need (functions, classes, etc.) that would be necessary in order to get it to work. "
   ]
  },
  {
   "cell_type": "markdown",
   "metadata": {},
   "source": [
    "In terms of OOP, we are planting the seeds to be able to create a relational database. By creating a class attribute that can store instances of another class, we taking a step into relating objects to one another."
   ]
  },
  {
   "cell_type": "markdown",
   "metadata": {},
   "source": [
    "# Exercise 1\n",
    "\n",
    "Create a class of your own creation. Use at least 3 attributes and 3 methods (excluding `__init__`). Bonus points if you use other dunder methods."
   ]
  },
  {
   "cell_type": "code",
   "execution_count": 54,
   "metadata": {},
   "outputs": [
    {
     "name": "stdout",
     "output_type": "stream",
     "text": [
      "At opening time there are 30 items in store.\n",
      "At closing time there are 22 items left.\n",
      "Today's total amount in sales is $8.00\n"
     ]
    }
   ],
   "source": [
    "class Supermarket:\n",
    "    def __init__(self, produce_count, produce_list):\n",
    "        self.transactions = []\n",
    "        self.produce_items = self.format_produce_list(produce_count, produce_list)\n",
    "        self.total_sales = 0\n",
    "        \n",
    "    def format_produce_list(self, produce_count, produce_list):\n",
    "        return [{'name': produce_name, 'price': '{0:.2f}'.format(1.00)} for produce_name in sorted(produce_list * produce_count)]\n",
    "    \n",
    "    def day_end_sales(self):\n",
    "        for transaction in self.transactions:\n",
    "            self.total_sales += float(transaction['price'])\n",
    "        return '{0:.2f}'.format(self.total_sales)\n",
    "    \n",
    "    def make_purchase(self, item_name):\n",
    "        found = False\n",
    "        i = 0\n",
    "        while not found and i < len(self.produce_items):\n",
    "            if item_name == self.produce_items[i]['name']: \n",
    "                transaction = self.produce_items.pop(i)\n",
    "                self.transactions.append(transaction)\n",
    "                found = True\n",
    "            \n",
    "            i+= 1\n",
    "        \n",
    "        if not found:\n",
    "            print(f\"We don't currently sell {item_name}.\")\n",
    "                \n",
    "    \n",
    "    def transaction(self, transaction_obj):\n",
    "        self.transactions.append(transaction_obj)\n",
    "        self.produce_items -= 1\n",
    "                \n",
    "\n",
    "c_town = Supermarket(10, ['Bananas', 'Apples', 'Oranges'])\n",
    "\n",
    "\n",
    "print(f\"At opening time there are {len(c_town.produce_items)} items in store.\")\n",
    "\n",
    "c_town.make_purchase('Bananas')\n",
    "c_town.make_purchase('Bananas')\n",
    "c_town.make_purchase('Bananas')\n",
    "c_town.make_purchase('Apples')\n",
    "c_town.make_purchase('Oranges')\n",
    "c_town.make_purchase('Bananas')\n",
    "c_town.make_purchase('Apples')\n",
    "c_town.make_purchase('Bananas')\n",
    "\n",
    "print(f\"At closing time there are {len(c_town.produce_items)} items left.\")\n",
    "print(f\"Today's total amount in sales is ${c_town.day_end_sales()}\")"
   ]
  },
  {
   "cell_type": "markdown",
   "metadata": {},
   "source": [
    "Notes:\n",
    "For the following exercises, you will create a file name using the following function and then submit that file with this notebook.\n"
   ]
  },
  {
   "cell_type": "code",
   "execution_count": 103,
   "metadata": {},
   "outputs": [],
   "source": [
    "produce_file_name = lambda name: f\"{name}-module.py\"\n",
    "file_name = produce_file_name('luis_alejo')\n"
   ]
  },
  {
   "cell_type": "markdown",
   "metadata": {},
   "source": [
    "# Exercise 2\n",
    "\n",
    "Create a module that is a commmand line script similar to our guessing game. Include at least 1 class with the related methods. Submit the `.py` file that runs your script with no errors."
   ]
  },
  {
   "cell_type": "code",
   "execution_count": 114,
   "metadata": {},
   "outputs": [
    {
     "name": "stdout",
     "output_type": "stream",
     "text": [
      "Please make a selection (R/P/S): r\n",
      "PAPER (computer) beats ROCK (human)\n",
      "Please make a selection (R/P/S): r\n",
      "You both drew ROCK -play again\n",
      "Please make a selection (R/P/S): r\n",
      "PAPER (computer) beats ROCK (human)\n",
      "Please make a selection (R/P/S): r\n",
      "You both drew ROCK -play again\n",
      "Please make a selection (R/P/S): r\n",
      "ROCK (human) beats SCISSORS (computer)\n"
     ]
    },
    {
     "data": {
      "text/plain": [
       "{'Human': 1, 'Computer': 2, 'Tied': 2}"
      ]
     },
     "execution_count": 114,
     "metadata": {},
     "output_type": "execute_result"
    }
   ],
   "source": [
    "import rps\n",
    "\n",
    "rps.Game(3).play()"
   ]
  },
  {
   "cell_type": "markdown",
   "metadata": {},
   "source": [
    "### If finished, work on Project."
   ]
  },
  {
   "cell_type": "code",
   "execution_count": null,
   "metadata": {},
   "outputs": [],
   "source": []
  }
 ],
 "metadata": {
  "kernelspec": {
   "display_name": "Python 3",
   "language": "python",
   "name": "python3"
  },
  "language_info": {
   "codemirror_mode": {
    "name": "ipython",
    "version": 3
   },
   "file_extension": ".py",
   "mimetype": "text/x-python",
   "name": "python",
   "nbconvert_exporter": "python",
   "pygments_lexer": "ipython3",
   "version": "3.8.5"
  }
 },
 "nbformat": 4,
 "nbformat_minor": 4
}
