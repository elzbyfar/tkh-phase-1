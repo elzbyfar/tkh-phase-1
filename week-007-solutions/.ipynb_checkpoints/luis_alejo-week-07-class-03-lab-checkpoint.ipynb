{
 "cells": [
  {
   "cell_type": "markdown",
   "metadata": {},
   "source": [
    "<div style=\"background: #000;\n",
    "            color: #FFF;\n",
    "            margin: 0px;\n",
    "                padding: 10px 0px 20px 0px;\n",
    "            text-align: center; \n",
    "                \">\n",
    "    <h1>Week 7 - Class 3 - Lab</h1>\n",
    "</div>\n"
   ]
  },
  {
   "cell_type": "markdown",
   "metadata": {},
   "source": [
    "# Question 1\n",
    "\n",
    "What is an example of a situation where you might want to use a `try`/`except`? Why?"
   ]
  },
  {
   "cell_type": "markdown",
   "metadata": {},
   "source": [
    "This is a common pattern in programming that allows us to handle errors that may occur. An example of when this might be useful is when iterating through a datastructure where there may be some uncertainty as the what type of data or the amount of data we may encounter. try/except lets us prevent our code from stopping due to error. It also allows us to customize error messages if desired. "
   ]
  },
  {
   "cell_type": "markdown",
   "metadata": {},
   "source": []
  },
  {
   "cell_type": "markdown",
   "metadata": {},
   "source": [
    "# Exercise 1\n",
    "\n",
    "Create a base class called `Person` that stores `name`, `birthday`, `age` and `location`. Create methods that allow you to change those attributes (change name, birthday, age and location).\n",
    "\n",
    "Then create a class that inherits from `Person` called `Employee` that stores everything that `Person` sets but also `income`, `position` and `office_location`. Create methods that allow you to change/set those three attributes.\n",
    "\n",
    "Demonstrate that the `Employee` class can change all the attributes mentioned above.\n",
    "\n",
    "Bonus Points: Create a class attribute called `raise` and set that to 10% company wide. Create a method that applies that raise to `income` and demonstrate that you can use it to give employees a raise (company wide and per employee)."
   ]
  },
  {
   "cell_type": "code",
   "execution_count": 7,
   "metadata": {},
   "outputs": [
    {
     "name": "stdout",
     "output_type": "stream",
     "text": [
      "before using the class method of Person: Luis\n"
     ]
    },
    {
     "data": {
      "text/plain": [
       "'Luis Alejo'"
      ]
     },
     "execution_count": 7,
     "metadata": {},
     "output_type": "execute_result"
    }
   ],
   "source": [
    "class Person:\n",
    "    def __init__(self, name, birthday, age, location):\n",
    "        self.name = name\n",
    "        self.birthday = birthday\n",
    "        self.age = age\n",
    "        self.location = location\n",
    "    \n",
    "    def _set_name(self, name):\n",
    "        self.name = name\n",
    "        \n",
    "    def _set_birthday(self, birthday):\n",
    "        self.birthday = birthday\n",
    "        \n",
    "    def _set_age(self, age):\n",
    "        self.age = age\n",
    "        \n",
    "    def _set_location(self, location):\n",
    "        self.location = location\n",
    "        \n",
    "\n",
    "\n",
    "class Employee(Person):\n",
    "    def __init__(self, name, birthday, age, location, income, position, office_location):\n",
    "        self.income = income\n",
    "        self.position = position\n",
    "        self.office_location = office_location\n",
    "        Person.__init__(self, name, birthday, age, location)\n",
    "        \n",
    "        \n",
    "        \n",
    "luis = Employee(\"Luis\", \"8/6/87\", \"33\", \"Bronx\", 95000, 'Software Engineer', \"San Francisco\")\n",
    "print(\"before using the class method of Person:\", luis.name)\n",
    "\n",
    "luis._set_name(\"Luis Alejo\")\n",
    "luis.name"
   ]
  },
  {
   "cell_type": "markdown",
   "metadata": {},
   "source": [
    "# Exercise 2\n",
    "\n",
    "Fix the following code by catching the `IndexError` using try/except."
   ]
  },
  {
   "cell_type": "code",
   "execution_count": 1,
   "metadata": {},
   "outputs": [
    {
     "name": "stdout",
     "output_type": "stream",
     "text": [
      "1\n",
      "2\n",
      "3\n",
      "4\n",
      "5\n",
      "6\n",
      "7\n",
      "8\n",
      "Couldn't print that Number, there's in IndexError bruh.\n"
     ]
    }
   ],
   "source": [
    "s = [[1,2,3], [4,5,6], [7,8]]\n",
    "\n",
    "for row in range(3):\n",
    "    for col in range(3):\n",
    "        try:\n",
    "            print(s[row][col])\n",
    "        except:\n",
    "            print(\"Couldn't print that Number, there's in IndexError bruh.\")"
   ]
  },
  {
   "cell_type": "markdown",
   "metadata": {},
   "source": [
    "# Exercise 3\n",
    "\n",
    "Create a module that contains a single function. The function should be executable from the command line. It should take a series of `int`'s, sum them, and then output the result to the command line. Submit your *.py file with your name in the filename."
   ]
  },
  {
   "cell_type": "code",
   "execution_count": 1,
   "metadata": {},
   "outputs": [
    {
     "data": {
      "text/plain": [
       "15"
      ]
     },
     "execution_count": 1,
     "metadata": {},
     "output_type": "execute_result"
    }
   ],
   "source": [
    "# I don't understand this\n",
    "import luis_alejo_lab_3_ex_3\n",
    "\n",
    "aftermath = luis_alejo_lab_3_ex_3.DoMath(range(6)).add()\n",
    "aftermath"
   ]
  },
  {
   "cell_type": "code",
   "execution_count": null,
   "metadata": {},
   "outputs": [],
   "source": []
  }
 ],
 "metadata": {
  "kernelspec": {
   "display_name": "Python 3",
   "language": "python",
   "name": "python3"
  },
  "language_info": {
   "codemirror_mode": {
    "name": "ipython",
    "version": 3
   },
   "file_extension": ".py",
   "mimetype": "text/x-python",
   "name": "python",
   "nbconvert_exporter": "python",
   "pygments_lexer": "ipython3",
   "version": "3.8.5"
  }
 },
 "nbformat": 4,
 "nbformat_minor": 4
}
