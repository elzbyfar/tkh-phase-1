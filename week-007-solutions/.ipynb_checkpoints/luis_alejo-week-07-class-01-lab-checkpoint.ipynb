{
 "cells": [
  {
   "cell_type": "markdown",
   "metadata": {},
   "source": [
    "<div style=\"background: #000;\n",
    "            color: #FFF;\n",
    "            margin: 0px;\n",
    "                padding: 10px 0px 20px 0px;\n",
    "            text-align: center; \n",
    "                \">\n",
    "    <h1>Lab</h1>\n",
    "</div>\n"
   ]
  },
  {
   "cell_type": "markdown",
   "metadata": {},
   "source": [
    "# HW Exercise 1\n",
    "\n",
    "Create a class called `Course` and a class called `Student` based on what you think they will need. Create a way to store 20 \"students\" (instances of the `Student` class into an instance of `Course` to represent our Data Science course. \n",
    "\n",
    "Demonstrate that your code works. Message on slack if stuck or need clarification."
   ]
  },
  {
   "cell_type": "code",
   "execution_count": 69,
   "metadata": {},
   "outputs": [
    {
     "data": {
      "text/plain": [
       "['Amy',\n",
       " 'Anil',\n",
       " 'Anna',\n",
       " 'Bryant',\n",
       " 'Chioma',\n",
       " 'Clariza',\n",
       " 'Claudia',\n",
       " 'Elston',\n",
       " 'Fausto',\n",
       " 'Gyasi',\n",
       " 'Irene',\n",
       " 'Ishraq',\n",
       " 'Janet',\n",
       " 'Jessica',\n",
       " 'Joe',\n",
       " 'Juan',\n",
       " 'Judi',\n",
       " 'Kari',\n",
       " 'Luis',\n",
       " 'Malcolm',\n",
       " 'Michael',\n",
       " 'Nickala',\n",
       " 'Rakhshanda',\n",
       " 'Stani']"
      ]
     },
     "execution_count": 69,
     "metadata": {},
     "output_type": "execute_result"
    }
   ],
   "source": [
    "class Course:\n",
    "    def __init__(self, on_campus, teacher):\n",
    "        self.on_campus = on_campus\n",
    "        self.teacher = teacher\n",
    "        self.students = []\n",
    "    \n",
    "    def new_student(self, student):\n",
    "        self.students.append(student)\n",
    "    \n",
    "class Student:\n",
    "    def __init__(self, name, new_yorker):\n",
    "        self.name = name\n",
    "        self.new_yorker = new_yorker\n",
    "    \n",
    "data_sci_general = [\n",
    "    'Amy',\n",
    "    'Anil',\n",
    "    'Anna',\n",
    "    'Bryant',\n",
    "    'Chioma',\n",
    "    'Clariza',\n",
    "    'Claudia',\n",
    "    'Elston',\n",
    "    'Fausto',\n",
    "    'Gyasi',\n",
    "    'Irene',\n",
    "    'Ishraq',\n",
    "    'Janet',\n",
    "    'Jessica',\n",
    "    'Joe',\n",
    "    'Juan',\n",
    "    'Judi',\n",
    "    'Kari',\n",
    "    'Luis',\n",
    "    'Malcolm',\n",
    "    'Michael',\n",
    "    'Nickala',\n",
    "    'Rakhshanda',\n",
    "    'Stani'\n",
    "]\n",
    "\n",
    "student_entries = [Student(name, False) if name == 'Luis' else Student(name, True) for name in data_sci_general]\n",
    "\n",
    "data_sci = Course(False, \"Anil\")\n",
    "\n",
    "for student in student_entries:\n",
    "    data_sci.new_student(student)\n",
    "\n",
    "[student.name for student in data_sci.students]"
   ]
  },
  {
   "cell_type": "markdown",
   "metadata": {},
   "source": [
    "# Complete previous weeks Labs"
   ]
  },
  {
   "cell_type": "markdown",
   "metadata": {},
   "source": [
    "# Question 1:\n",
    "\n",
    "Give an example of how we could use what we learned today in our python programming."
   ]
  },
  {
   "cell_type": "raw",
   "metadata": {},
   "source": [
    "I think the open() function is rather useful. File manipulation in general gives us the ability two write scripts to accomplish very useful tasks. "
   ]
  },
  {
   "cell_type": "markdown",
   "metadata": {},
   "source": [
    "# Exercise 1:\n",
    "\n",
    "Create a file called `sample.txt`. Create a function takes one argument that opens the file and writes that argument to it."
   ]
  },
  {
   "cell_type": "code",
   "execution_count": 2,
   "metadata": {},
   "outputs": [
    {
     "name": "stdout",
     "output_type": "stream",
     "text": [
      "Hello World\n"
     ]
    }
   ],
   "source": [
    "my_file = open('sample.txt', 'w')\n",
    "\n",
    "def file_writer(content):\n",
    "    my_file.write(content)\n",
    "    my_file.close()\n",
    "\n",
    "file_writer(\"Hello World\")\n",
    "\n",
    "my_file = open('sample.txt', 'r')\n",
    "print(my_file.read())"
   ]
  },
  {
   "cell_type": "markdown",
   "metadata": {},
   "source": [
    "# Exercise 2:\n",
    "    \n",
    "Create a function that takes an argument and opens the argument as a file and prints the contents.\n",
    "\n",
    "Demonstrate that this works for `sample.txt`"
   ]
  },
  {
   "cell_type": "code",
   "execution_count": 3,
   "metadata": {},
   "outputs": [
    {
     "name": "stdout",
     "output_type": "stream",
     "text": [
      "Hello World\n"
     ]
    }
   ],
   "source": [
    "def file_opener(filename):\n",
    "    opener = open(filename, 'r')\n",
    "    print(opener.read())\n",
    "    \n",
    "file_opener('sample.txt')"
   ]
  },
  {
   "cell_type": "markdown",
   "metadata": {},
   "source": [
    "# Week 6 Project\n",
    "\n",
    "#### For this project, you'll be using your solution exercise 2 from week-05-class-01-lab.ipynb and the following piece of code:"
   ]
  },
  {
   "cell_type": "code",
   "execution_count": 1,
   "metadata": {},
   "outputs": [
    {
     "data": {
      "text/plain": [
       "(0, 'rock')"
      ]
     },
     "execution_count": 1,
     "metadata": {},
     "output_type": "execute_result"
    }
   ],
   "source": [
    "import random\n",
    "def computers_turn():\n",
    "    choices = {\n",
    "        0: 'rock',\n",
    "        1: 'paper',\n",
    "        2: 'scissors',\n",
    "    }\n",
    "    turn = random.randint(0,2)\n",
    "    return (turn, choices[turn])\n",
    "\n",
    "computers_turn()"
   ]
  },
  {
   "cell_type": "markdown",
   "metadata": {},
   "source": [
    "#### Your solution for exercise 2"
   ]
  },
  {
   "cell_type": "code",
   "execution_count": 4,
   "metadata": {},
   "outputs": [
    {
     "name": "stdout",
     "output_type": "stream",
     "text": [
      "Please make a selection (R/P/S): r\n",
      "PAPER (computer) beats ROCK (human)\n"
     ]
    },
    {
     "data": {
      "text/plain": [
       "'Computer Wins!!!'"
      ]
     },
     "execution_count": 4,
     "metadata": {},
     "output_type": "execute_result"
    }
   ],
   "source": [
    "import random\n",
    "def computers_turn():\n",
    "    choices = {\n",
    "        0: 'rock',\n",
    "        1: 'paper',\n",
    "        2: 'scissors',\n",
    "    }\n",
    "    turn = random.randint(0,2)\n",
    "    return (turn, choices[turn])\n",
    "\n",
    "def human_turn():\n",
    "    choice = (input(\"Please make a selection (R/P/S): \")).upper()\n",
    "    \n",
    "    if choice != \"R\" and choice != \"P\" and choice != \"S\":\n",
    "        print(choice, \"is an invalid choice. Try R, P or S.\")\n",
    "        return human_turn()\n",
    "    \n",
    "    middleware = {\n",
    "        'R': 0,\n",
    "        'P': 1,\n",
    "        'S': 2\n",
    "    }\n",
    "    \n",
    "    choices = {\n",
    "        0: 'rock',\n",
    "        1: 'paper',\n",
    "        2: 'scissors',\n",
    "    }\n",
    "    choice = middleware[choice]\n",
    "    return (choice, choices[choice])\n",
    "\n",
    "def game():\n",
    "    human = human_turn()\n",
    "    computer = computers_turn()\n",
    "    \n",
    "    if human[0] - computer[0] == 1 or human[0] - computer[0] == -2:\n",
    "        print(human[1].upper(), \"(human)\", \"beats\", computer[1].upper(), \"(computer)\")\n",
    "        return \"Human Wins!!!\"\n",
    "    elif human[0] - computer[0] == -1 or human[0] - computer[0] == 2:\n",
    "        print(computer[1].upper(), \"(computer)\", \"beats\",  human[1].upper(), \"(human)\")\n",
    "        return \"Computer Wins!!!\"\n",
    "    else:\n",
    "        print(\"You both drew\", human[1].upper(), \"-play again\")\n",
    "        return game()\n",
    "\n",
    "game()"
   ]
  },
  {
   "cell_type": "markdown",
   "metadata": {},
   "source": [
    "Take your solution to exercise 2 and break it up into two separate functions:\n",
    "\n",
    "`your_turn` -  which takes an input and returns `(turn, choices[turn])` similar to `computers_turn`.\n",
    "\n",
    "`compare_turns` - which takes the two-tuples from `your_turn` and `computers_turn` to declare a winner\n",
    "\n"
   ]
  },
  {
   "cell_type": "code",
   "execution_count": 47,
   "metadata": {},
   "outputs": [],
   "source": [
    "# My solution already had this type of breakdown, but here we go:\n",
    "def human_turn():\n",
    "    turn = (input(\"Please make a selection (R/P/S): \")).upper()\n",
    "    \n",
    "    if turn != \"R\" and turn != \"P\" and turn != \"S\":\n",
    "        print(choice, \"is an invalid choice. Try R, P or S.\")\n",
    "        return human_turn()\n",
    "    \n",
    "    middleware = {\n",
    "        'R': 0,\n",
    "        'P': 1,\n",
    "        'S': 2\n",
    "    }\n",
    "    \n",
    "    choices = {\n",
    "        0: 'rock',\n",
    "        1: 'paper',\n",
    "        2: 'scissors',\n",
    "    }\n",
    "    turn = middleware[turn]\n",
    "    return (turn, choices[turn])"
   ]
  },
  {
   "cell_type": "code",
   "execution_count": 51,
   "metadata": {},
   "outputs": [],
   "source": [
    "def compare_turns(computer, human):\n",
    "    if human[0] - computer[0] == 1 or human[0] - computer[0] == -2:\n",
    "        print(human[1].upper(), \"(human)\", \"beats\", computer[1].upper(), \"(computer)\")\n",
    "        return \"Human Wins!!!\"\n",
    "    elif human[0] - computer[0] == -1 or human[0] - computer[0] == 2:\n",
    "        print(computer[1].upper(), \"(computer)\", \"beats\",  human[1].upper(), \"(human)\")\n",
    "        return \"Computer Wins!!!\"\n",
    "    else:\n",
    "        print(\"You both drew\", human[1].upper(), \"-play again\")\n",
    "        won_round()"
   ]
  },
  {
   "cell_type": "markdown",
   "metadata": {},
   "source": [
    "Now create a function called `won_round` that calls `computers_turn`, `your_turn` and then `compare_turns` within the function body and then returns True if you won the round, else False."
   ]
  },
  {
   "cell_type": "code",
   "execution_count": 65,
   "metadata": {},
   "outputs": [
    {
     "name": "stdout",
     "output_type": "stream",
     "text": [
      "Please make a selection (R/P/S): r\n",
      "PAPER (computer) beats ROCK (human)\n"
     ]
    },
    {
     "data": {
      "text/plain": [
       "False"
      ]
     },
     "execution_count": 65,
     "metadata": {},
     "output_type": "execute_result"
    }
   ],
   "source": [
    "def won_round():\n",
    "    human = human_turn()\n",
    "    computer = computers_turn()\n",
    "    winner = compare_turns(computer, human)\n",
    "    \n",
    "    return 'Human' in winner\n",
    "\n",
    "won_round()"
   ]
  },
  {
   "cell_type": "markdown",
   "metadata": {},
   "source": [
    "Create a class using these functions (converting them to methods that take `self`) tha has attributes to store the details of who's won. Create an `__init__` function that takes, at minimum, an argument asking how many rounds to play. Also create a function that displays the details of who won each round. Bonus points for implementing other features.\n",
    "\n",
    "Demonstrate that this class can be used to run games of Rock-Paper-Scissors.\n",
    "\n",
    "When submitting, make sure all of your code from above is in this class declaration below and that the below two cells run without error. Failure to do so will result in points taken off."
   ]
  },
  {
   "cell_type": "code",
   "execution_count": 66,
   "metadata": {},
   "outputs": [],
   "source": [
    "class RockPaperScissors:\n",
    "    def __init__(self, rounds):\n",
    "        self.winner = None\n",
    "        self.rounds = rounds\n",
    "        self.scoreboard = {\n",
    "            'Human': 0,\n",
    "            'Computer': 0, \n",
    "            'Tied': 0\n",
    "        }\n",
    "        pass\n",
    "    \n",
    "    \n",
    "    # other methods below\n",
    "    def computers_turn(self):\n",
    "        choices = {\n",
    "            0: 'rock',\n",
    "            1: 'paper',\n",
    "            2: 'scissors',\n",
    "        }\n",
    "        turn = random.randint(0,2)\n",
    "        return (turn, choices[turn])\n",
    "\n",
    "    def human_turn(self):\n",
    "        turn = (input(\"Please make a selection (R/P/S): \")).upper()\n",
    "\n",
    "        if turn != \"R\" and turn != \"P\" and turn != \"S\":\n",
    "            print(choice, \"is an invalid choice. Try R, P or S.\")\n",
    "            return human_turn()\n",
    "\n",
    "        middleware = {\n",
    "            'R': 0,\n",
    "            'P': 1,\n",
    "            'S': 2\n",
    "        }\n",
    "\n",
    "        choices = {\n",
    "            0: 'rock',\n",
    "            1: 'paper',\n",
    "            2: 'scissors',\n",
    "        }\n",
    "        turn = middleware[turn]\n",
    "        return (turn, choices[turn])\n",
    "    \n",
    "\n",
    "    def compare_turns(self, computer, human):\n",
    "        if human[0] - computer[0] == 1 or human[0] - computer[0] == -2:\n",
    "            print(human[1].upper(), \"(human)\", \"beats\", computer[1].upper(), \"(computer)\")\n",
    "            return \"Human Wins!!!\"\n",
    "        elif human[0] - computer[0] == -1 or human[0] - computer[0] == 2:\n",
    "            print(computer[1].upper(), \"(computer)\", \"beats\",  human[1].upper(), \"(human)\")\n",
    "            return \"Computer Wins!!!\"\n",
    "        else:\n",
    "            print(\"You both drew\", human[1].upper(), \"-play again\")\n",
    "            return \"You tied!!! Play Again.\"\n",
    "#             return self.play()\n",
    "        \n",
    "    def play(self):\n",
    "        while self.rounds > 0:\n",
    "            human = self.human_turn()\n",
    "            computer = self.computers_turn()\n",
    "            winner = self.compare_turns(computer, human)\n",
    "\n",
    "            if 'Human' in winner:\n",
    "                self.scoreboard['Human'] += 1\n",
    "                self.rounds -= 1\n",
    "            elif 'Computer' in winner:\n",
    "                self.scoreboard['Computer'] += 1\n",
    "                self.rounds -= 1\n",
    "            else:\n",
    "                self.scoreboard['Tied'] += 1\n",
    "            \n",
    "        \n",
    "        return self.scoreboard\n"
   ]
  },
  {
   "cell_type": "markdown",
   "metadata": {},
   "source": [
    "Create an instance of your class below and run a game of 3 rounds. Then output the results\n",
    "\n"
   ]
  },
  {
   "cell_type": "code",
   "execution_count": 68,
   "metadata": {},
   "outputs": [
    {
     "name": "stdout",
     "output_type": "stream",
     "text": [
      "Please make a selection (R/P/S): r\n",
      "PAPER (computer) beats ROCK (human)\n",
      "Please make a selection (R/P/S): s\n",
      "ROCK (computer) beats SCISSORS (human)\n",
      "Please make a selection (R/P/S): p\n",
      "You both drew PAPER -play again\n",
      "Please make a selection (R/P/S): s\n",
      "You both drew SCISSORS -play again\n",
      "Please make a selection (R/P/S): r\n",
      "PAPER (computer) beats ROCK (human)\n",
      "Please make a selection (R/P/S): s\n",
      "You both drew SCISSORS -play again\n",
      "Please make a selection (R/P/S): p\n",
      "PAPER (human) beats ROCK (computer)\n",
      "Please make a selection (R/P/S): s\n",
      "SCISSORS (human) beats PAPER (computer)\n"
     ]
    },
    {
     "data": {
      "text/plain": [
       "{'Human': 2, 'Computer': 3, 'Tied': 3}"
      ]
     },
     "execution_count": 68,
     "metadata": {},
     "output_type": "execute_result"
    }
   ],
   "source": [
    "game = RockPaperScissors(5)\n",
    "\n",
    "game.play()"
   ]
  },
  {
   "cell_type": "code",
   "execution_count": null,
   "metadata": {},
   "outputs": [],
   "source": []
  }
 ],
 "metadata": {
  "kernelspec": {
   "display_name": "Python 3",
   "language": "python",
   "name": "python3"
  },
  "language_info": {
   "codemirror_mode": {
    "name": "ipython",
    "version": 3
   },
   "file_extension": ".py",
   "mimetype": "text/x-python",
   "name": "python",
   "nbconvert_exporter": "python",
   "pygments_lexer": "ipython3",
   "version": "3.8.5"
  }
 },
 "nbformat": 4,
 "nbformat_minor": 4
}
