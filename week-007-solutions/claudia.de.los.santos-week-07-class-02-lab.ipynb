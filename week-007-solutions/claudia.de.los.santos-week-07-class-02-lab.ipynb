{
 "cells": [
  {
   "cell_type": "markdown",
   "metadata": {},
   "source": [
    "<div style=\"background: #000;\n",
    "            color: #FFF;\n",
    "            margin: 0px;\n",
    "                padding: 10px 0px 20px 0px;\n",
    "            text-align: center; \n",
    "                \">\n",
    "    <h1>Week 7 - Class 2 - Lab</h1>\n",
    "</div>\n"
   ]
  },
  {
   "cell_type": "markdown",
   "metadata": {},
   "source": [
    "# Question\n",
    "\n",
    "What is something we could make with the python we know now? Give an example of something and then describe what parts it might need (functions, classes, etc.) that would be necessary in order to get it to work. "
   ]
  },
  {
   "cell_type": "markdown",
   "metadata": {},
   "source": [
    "In terms of OOP, we are planting the seeds to be able to create a relational database. By creating a class attribute that can store instances of another class, we taking a step into relating objects to one another."
   ]
  },
  {
   "cell_type": "markdown",
   "metadata": {},
   "source": [
    "# Exercise 1\n",
    "\n",
    "Create a class of your own creation. Use at least 3 attributes and 3 methods (excluding `__init__`). Bonus points if you use other dunder methods."
   ]
  },
  {
   "cell_type": "code",
   "execution_count": 4,
   "metadata": {},
   "outputs": [
    {
     "name": "stdout",
     "output_type": "stream",
     "text": [
      "How much for both songs?\n",
      "$1.98 for both songs. \n",
      "\n",
      "Who sings 'song1'?\n",
      "'song1' is Hello by Adele\n",
      "Give me more info on 'song1'.\n"
     ]
    },
    {
     "data": {
      "text/plain": [
       "\"'Hello' is a Pop song. It has been purchased 10 times. The song has grossed $9.90 to date.\""
      ]
     },
     "execution_count": 4,
     "metadata": {},
     "output_type": "execute_result"
    }
   ],
   "source": [
    "class Song:\n",
    "    def __init__(self, title, artist, genre):\n",
    "        self.title = title\n",
    "        self.artist = artist\n",
    "        self.genre = genre\n",
    "        self.price = 0.99\n",
    "        self.purchases = 0\n",
    "        self.total_sales = 0.00\n",
    "        \n",
    "    def display_info(self):\n",
    "        return f\"{self.title} by {self.artist}\"\n",
    "    \n",
    "    def buy(self):\n",
    "        self.purchases += 1\n",
    "        self.total_sales += self.price\n",
    "        return f\"Thank you for your purchase of {self.display_info()}.\"\n",
    "    \n",
    "    def more_info(self):\n",
    "        return f\"'{self.title}' is a {self.genre} song. It has been purchased {self.purchases} times. The song has grossed ${'{0:.2f}'.format(self.total_sales)} to date.\"\n",
    "    \n",
    "    def __add__(self, other_song):\n",
    "        return self.price + other_song.price\n",
    "                \n",
    "\n",
    "song1 = Song(\"Hello\", \"Adele\", \"Pop\")\n",
    "song2 = Song(\"If I Ain't Got You\", \"Alicia Keys\", \"R&B\")\n",
    "\n",
    "\n",
    "print(\"How much for both songs?\")\n",
    "print(f\"${song1 + song2} for both songs.\", '\\n')\n",
    "\n",
    "for i in range(10): \n",
    "    song1.buy()\n",
    "    song2.buy()\n",
    "\n",
    "print(\"Who sings 'song1'?\")\n",
    "print(f\"'song1' is {song1.display_info()}\")\n",
    "\n",
    "print(\"Give me more info on 'song1'.\")\n",
    "song1.more_info()"
   ]
  },
  {
   "cell_type": "markdown",
   "metadata": {},
   "source": [
    "Notes:\n",
    "For the following exercises, you will create a file name using the following function and then submit that file with this notebook.\n"
   ]
  },
  {
   "cell_type": "code",
   "execution_count": 3,
   "metadata": {},
   "outputs": [],
   "source": [
    "produce_file_name = lambda name: f\"{name}-module.py\"\n",
    "file_name = produce_file_name('claudia.de.los.santos')\n"
   ]
  },
  {
   "cell_type": "markdown",
   "metadata": {},
   "source": [
    "# Exercise 2\n",
    "\n",
    "Create a module that is a commmand line script similar to our guessing game. Include at least 1 class with the related methods. Submit the `.py` file that runs your script with no errors."
   ]
  },
  {
   "cell_type": "code",
   "execution_count": 6,
   "metadata": {},
   "outputs": [
    {
     "data": {
      "text/plain": [
       "'Hello by Adele'"
      ]
     },
     "execution_count": 6,
     "metadata": {},
     "output_type": "execute_result"
    }
   ],
   "source": [
    "import song_script\n",
    "\n",
    "song = song_script.Song(\"Hello\", \"Adele\", \"Pop\")\n",
    "song.display_info()"
   ]
  },
  {
   "cell_type": "raw",
   "metadata": {},
   "source": [
    "### If finished, work on Project."
   ]
  },
  {
   "cell_type": "code",
   "execution_count": null,
   "metadata": {},
   "outputs": [],
   "source": []
  }
 ],
 "metadata": {
  "kernelspec": {
   "display_name": "Python 3",
   "language": "python",
   "name": "python3"
  },
  "language_info": {
   "codemirror_mode": {
    "name": "ipython",
    "version": 3
   },
   "file_extension": ".py",
   "mimetype": "text/x-python",
   "name": "python",
   "nbconvert_exporter": "python",
   "pygments_lexer": "ipython3",
   "version": "3.9.0"
  }
 },
 "nbformat": 4,
 "nbformat_minor": 4
}
