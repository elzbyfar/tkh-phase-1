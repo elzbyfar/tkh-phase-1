{
 "cells": [
  {
   "cell_type": "markdown",
   "metadata": {},
   "source": [
    "<div style=\"background: #000;\n",
    "            color: #FFF;\n",
    "            margin: 0px;\n",
    "                padding: 10px 0px 20px 0px;\n",
    "            text-align: center; \n",
    "                \">\n",
    "    <h1>Week 8 - Project</h1>\n",
    "</div>"
   ]
  },
  {
   "cell_type": "markdown",
   "metadata": {},
   "source": [
    "#### Write a python script that:  \n",
    "- scrapes the following webpage:  \n",
    "https://en.wikipedia.org/wiki/Template:COVID-19_pandemic_data    \n",
    "- parses the html for the table of covid data  \n",
    "- fills missing values with `None`   \n",
    "- calculates the death and recovery rate for each  country   \n",
    "- writes the data in csv format to a file called:`{your-name}-covid-report.csv`\n",
    "\n",
    "Your csv file should contain the following \"header\" (and corresponding data):\n",
    "\n",
    "```csv\n",
    "country,cases,deaths,recoveries,death_rate,recovery_rate\n",
    "\n",
    "```\n",
    "\n",
    "Please ask for clarification if needed.\n"
   ]
  },
  {
   "cell_type": "code",
   "execution_count": 77,
   "metadata": {},
   "outputs": [],
   "source": [
    "from bs4 import BeautifulSoup\n",
    "import requests\n",
    "import csv\n",
    "\n",
    "def parser(data):\n",
    "    counts = []\n",
    "    for category in data:\n",
    "        value = list(category.strings)[0][:-1]\n",
    "        counts.append(None if value == 'No dat' else value)\n",
    "    return counts\n",
    "\n",
    "def rate_of(category, cases):\n",
    "    case_count = int(cases.replace(',',''))\n",
    "    category_count = int(category.replace(',',''))\n",
    "    percentage = (category_count / case_count) * 100\n",
    "    return str(round(percentage, 1)) + \"%\"\n",
    "\n",
    "def covid_report():\n",
    "    response = requests.get('https://en.wikipedia.org/wiki/Template:COVID-19_pandemic_data')\n",
    "    soup = BeautifulSoup(response.text)\n",
    "    \n",
    "    headings = ['Country', 'Cases', 'Deaths', 'Recoveries', 'Death Rate', 'Recovery Rate']\n",
    "    matrix = [headings]\n",
    "    \n",
    "    table_rows = soup.findAll('tr')[2:]\n",
    "    for tr in table_rows:\n",
    "        try:\n",
    "            location = list(tr.findAll('th')[1].strings)[0]\n",
    "            data = tr.findAll('td')[: -1]\n",
    "            counts = parser(data)\n",
    "\n",
    "            cases = counts[0]\n",
    "            deaths = counts[1]\n",
    "            recovery = counts[2]\n",
    "            \n",
    "            death_rate = rate_of(deaths, cases) if deaths and cases else None\n",
    "            recovery_rate = rate_of(recovery, cases) if recovery and cases else None\n",
    "\n",
    "            matrix_row = [location, cases, deaths, recovery, death_rate, recovery_rate]\n",
    "            matrix.append(matrix_row)\n",
    "        except:\n",
    "            break\n",
    "\n",
    "    return matrix\n",
    "\n",
    "output_to_file = open('luis_alejo-covid-report.csv', 'w')\n",
    "writefile = csv.writer(output_to_file)\n",
    "writefile.writerows(covid_report())\n",
    "output_to_file.close()"
   ]
  },
  {
   "cell_type": "code",
   "execution_count": null,
   "metadata": {},
   "outputs": [],
   "source": []
  }
 ],
 "metadata": {
  "kernelspec": {
   "display_name": "Python 3",
   "language": "python",
   "name": "python3"
  },
  "language_info": {
   "codemirror_mode": {
    "name": "ipython",
    "version": 3
   },
   "file_extension": ".py",
   "mimetype": "text/x-python",
   "name": "python",
   "nbconvert_exporter": "python",
   "pygments_lexer": "ipython3",
   "version": "3.9.0"
  }
 },
 "nbformat": 4,
 "nbformat_minor": 4
}
