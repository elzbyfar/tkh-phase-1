{
 "cells": [
  {
   "cell_type": "markdown",
   "metadata": {},
   "source": [
    "<div style=\"background: #000;\n",
    "            color: #FFF;\n",
    "            margin: 0px;\n",
    "                padding: 10px 0px 20px 0px;\n",
    "            text-align: center; \n",
    "                \">\n",
    "    <h1>Week 4 - Homework</h1>\n",
    "</div>\n",
    "\n",
    "<hr>\n",
    "<pre style=\"text-align: center;\">\n",
    "<h3>Due Tuesday before class time.</h3>\n",
    "Be prepared to present Exercise 1 and 2 on Tuesday.\n",
    "Be prepared to present Exercise 3 and 4 on Tuesday.\n",
    "</pre>\n",
    "<hr>\n"
   ]
  },
  {
   "cell_type": "markdown",
   "metadata": {},
   "source": [
    "# Exercise 1\n",
    "\n",
    "Create a function that takes both postional arguments and a keyword arguments. "
   ]
  },
  {
   "cell_type": "code",
   "execution_count": 67,
   "metadata": {},
   "outputs": [
    {
     "data": {
      "text/plain": [
       "\"I'm an argument so get ready to fight.\""
      ]
     },
     "execution_count": 67,
     "metadata": {},
     "output_type": "execute_result"
    }
   ],
   "source": [
    "def function_name(fixed_arg, kwarg1=\"to fight.\", kwarg2=\"so get ready\"):\n",
    "    if fixed_arg == \"I'm an argument\":\n",
    "        return f\"{fixed_arg} {kwarg2} {kwarg1}\"\n",
    "    return \"Must be saying the wrong stuff\"\n",
    "\n",
    "function_name(\"I'm an argument\")"
   ]
  },
  {
   "cell_type": "markdown",
   "metadata": {},
   "source": [
    "# Exercise 2\n",
    "\n",
    "Fix the following function so that it takes an arbitrary number of arguments. Demonstrate this function works by unpacking `lst` into the function as 11 arguements."
   ]
  },
  {
   "cell_type": "code",
   "execution_count": 73,
   "metadata": {},
   "outputs": [
    {
     "data": {
      "text/plain": [
       "['1', '2', '3', '4', '5', '6', '7', '8', '9', '10']"
      ]
     },
     "execution_count": 73,
     "metadata": {},
     "output_type": "execute_result"
    }
   ],
   "source": [
    "lst = [1,2,3,4,5,6,7,8,9,10]\n",
    "\n",
    "def values_to_string(*nums):\n",
    "#     print(nums) # Demonstrate there are individual values\n",
    "    new_list = []\n",
    "    for i in nums:\n",
    "        new_list.append(str(i))\n",
    "    return new_list\n",
    "\n",
    "values_to_string(*lst)"
   ]
  },
  {
   "cell_type": "markdown",
   "metadata": {},
   "source": [
    "# Exercise 3\n",
    "\n",
    "Write a function that has an algorithm that is worst case 0(n)."
   ]
  },
  {
   "cell_type": "code",
   "execution_count": 79,
   "metadata": {},
   "outputs": [
    {
     "data": {
      "text/plain": [
       "['a',\n",
       " 'b',\n",
       " 'c',\n",
       " 'd',\n",
       " 'e',\n",
       " 'f',\n",
       " 'g',\n",
       " 'h',\n",
       " 'i',\n",
       " 'j',\n",
       " 'k',\n",
       " 'l',\n",
       " 'm',\n",
       " 'n',\n",
       " 'o',\n",
       " 'p',\n",
       " 'q',\n",
       " 'r',\n",
       " 's',\n",
       " 't',\n",
       " 'u',\n",
       " 'v',\n",
       " 'w',\n",
       " 'x',\n",
       " 'y',\n",
       " 'z']"
      ]
     },
     "execution_count": 79,
     "metadata": {},
     "output_type": "execute_result"
    }
   ],
   "source": [
    "def ords_to_letters(ords):\n",
    "    letter_list = []\n",
    "    for o in ords:\n",
    "        letter_list += [chr(o)]\n",
    "    return letter_list\n",
    "\n",
    "ords_to_letters([*range(97,123)])"
   ]
  },
  {
   "cell_type": "markdown",
   "metadata": {},
   "source": [
    "# Exercise 4\n",
    "\n",
    "Write a function called `summer` that takes an arbitrary number of keyword arguments and then adds any arguments that are ints/floats to produce a sum.\n",
    "\n",
    "Hint:  \n",
    "`summer(**{a=True, b=1})` would return 1.   \n",
    "`summer(**{c=3, d=\"4\" })` would return 3."
   ]
  },
  {
   "cell_type": "code",
   "execution_count": 83,
   "metadata": {},
   "outputs": [
    {
     "data": {
      "text/plain": [
       "200"
      ]
     },
     "execution_count": 83,
     "metadata": {},
     "output_type": "execute_result"
    }
   ],
   "source": [
    "def summer(**degrees):\n",
    "    total_degrees = 0\n",
    "    for month,deg in degrees.items():\n",
    "        if type(deg) == int or type(deg) == float:\n",
    "            total_degrees += deg\n",
    "    return total_degrees\n",
    "\n",
    "high_degrees = {\n",
    "    'june_high': 99,\n",
    "    'july_high': 101,\n",
    "    'aug_high': \"142\"\n",
    "}\n",
    "\n",
    "summer(**high_degrees)"
   ]
  },
  {
   "cell_type": "markdown",
   "metadata": {},
   "source": [
    "# Bonus\n",
    "\n",
    "Create a function that returns a lambda function. Show how it can be used to create new functions. Can you turn this into a decorator?\n",
    "\n",
    "Hint: see example from `week-04-class-02.ipynb` with the `mytripler` function"
   ]
  },
  {
   "cell_type": "code",
   "execution_count": 127,
   "metadata": {},
   "outputs": [
    {
     "data": {
      "text/plain": [
       "'The total including tip is $120.00'"
      ]
     },
     "execution_count": 127,
     "metadata": {},
     "output_type": "execute_result"
    }
   ],
   "source": [
    "def calc_total(*item_prices):\n",
    "    total = sum(item_prices)\n",
    "    def wrapper(tip=20):\n",
    "        total_with_tip = lambda tip: total + (total * (tip / 100))\n",
    "        return f\"The total including tip is ${'{0:.2f}'.format(total_with_tip(tip))}\"\n",
    "    return wrapper\n",
    "\n",
    "add_tip = calc_total(90,10)\n",
    "add_tip(20)"
   ]
  },
  {
   "cell_type": "code",
   "execution_count": null,
   "metadata": {},
   "outputs": [],
   "source": []
  }
 ],
 "metadata": {
  "kernelspec": {
   "display_name": "Python 3",
   "language": "python",
   "name": "python3"
  },
  "language_info": {
   "codemirror_mode": {
    "name": "ipython",
    "version": 3
   },
   "file_extension": ".py",
   "mimetype": "text/x-python",
   "name": "python",
   "nbconvert_exporter": "python",
   "pygments_lexer": "ipython3",
   "version": "3.8.5"
  }
 },
 "nbformat": 4,
 "nbformat_minor": 4
}
