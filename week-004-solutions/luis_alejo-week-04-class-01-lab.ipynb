{
 "cells": [
  {
   "cell_type": "markdown",
   "metadata": {},
   "source": [
    "<div style=\"background: #000;\n",
    "            color: #FFF;\n",
    "            margin: 0px;\n",
    "                padding: 10px 0px 20px 0px;\n",
    "            text-align: center; \n",
    "                \">\n",
    "    <h1>Lab</h1>\n",
    "</div>\n"
   ]
  },
  {
   "cell_type": "markdown",
   "metadata": {},
   "source": [
    "# Question 1 \n",
    "\n",
    "We'd like to create a function that takes a number and outputs the number with it's ordinal indictator (e.g. 1 -> 1st, 2 -> 2nd, and so on).\n",
    "\n",
    "Walk us through the steps we might need to take. DO NOT write any code. Try writing what we call \"pseudocode\"."
   ]
  },
  {
   "cell_type": "markdown",
   "metadata": {},
   "source": [
    "1. First we would declare a function and give it a single argument n. \n",
    "2. Once inside the function, we would turn the number into a string in order to easily verify its last digits via string indexing.\n",
    "3. Next, we would create a switch/if statement. \n",
    "4. The first case in the switch would first check if the last 2 digit fall between 11 and 13 inclusively. If so, we would append the original number with the letters 'th' and return the new string. \n",
    "5. For the next case, we'd check if the *very last* digit is 1, if so we'd append 'st' to the original string and return it. This would exclude the 11 (or 111 or 418911, etc...) which satisfies the first case in the switch statement.\n",
    "6. Next case checks if the last digit is 2, we append 'nd' to the original number and return it. \n",
    "7. Next ff the last digit is 3, append 'rd' and return it. \n",
    "8. And finally otherwise, we could safely append 'th' to all other cases and return the new string. "
   ]
  },
  {
   "cell_type": "code",
   "execution_count": 32,
   "metadata": {},
   "outputs": [
    {
     "data": {
      "text/plain": [
       "'213th'"
      ]
     },
     "execution_count": 32,
     "metadata": {},
     "output_type": "execute_result"
    }
   ],
   "source": [
    "# I know you said don't write code but.......\n",
    "\n",
    "def ord_maker(n):\n",
    "    s = str(n)\n",
    "    if int(s[-2:]) >= 11 and int(s[-2:]) <= 13:\n",
    "        return s + 'th'\n",
    "    elif s[-1] == '1':\n",
    "        return s + 'st'\n",
    "    elif s[-1] == '2':\n",
    "        return s + 'nd'\n",
    "    elif s[-1] == '3':\n",
    "        return s + 'rd'\n",
    "    else:\n",
    "        return s + 'th'\n",
    "    \n",
    "ord_maker(213)"
   ]
  },
  {
   "cell_type": "markdown",
   "metadata": {},
   "source": [
    "# Exercise 1\n",
    "\n",
    "Create a function that takes two parameters and returns a list."
   ]
  },
  {
   "cell_type": "code",
   "execution_count": 2,
   "metadata": {},
   "outputs": [
    {
     "data": {
      "text/plain": [
       "['a', 'list']"
      ]
     },
     "execution_count": 2,
     "metadata": {},
     "output_type": "execute_result"
    }
   ],
   "source": [
    "def first_func(arg1, arg2):\n",
    "    return [arg1, arg2]\n",
    "\n",
    "first_func('a', 'list')"
   ]
  },
  {
   "cell_type": "markdown",
   "metadata": {},
   "source": [
    "# Exercise 2\n"
   ]
  },
  {
   "cell_type": "markdown",
   "metadata": {},
   "source": [
    "Create a function that will return the list of square roots from numbers from 1 to `n` (where `n` is the input)\n",
    "\n"
   ]
  },
  {
   "cell_type": "code",
   "execution_count": 16,
   "metadata": {},
   "outputs": [
    {
     "data": {
      "text/plain": [
       "[1.0,\n",
       " 1.4142135623730951,\n",
       " 1.7320508075688772,\n",
       " 2.0,\n",
       " 2.23606797749979,\n",
       " 2.449489742783178,\n",
       " 2.6457513110645907,\n",
       " 2.8284271247461903,\n",
       " 3.0]"
      ]
     },
     "execution_count": 16,
     "metadata": {},
     "output_type": "execute_result"
    }
   ],
   "source": [
    "def second_func(n):\n",
    "    sqrt_list = []\n",
    "    \n",
    "    for i in range(1,n+1):\n",
    "        sqrt = i**0.5\n",
    "        sqrt_list.append(sqrt)\n",
    "        \n",
    "    return sqrt_list\n",
    "\n",
    "second_func(9)"
   ]
  },
  {
   "cell_type": "markdown",
   "metadata": {},
   "source": [
    "# Exercise 3\n",
    "\n",
    "Create a mad-lib that instead of using the `input` function, uses keyword arguments."
   ]
  },
  {
   "cell_type": "code",
   "execution_count": 33,
   "metadata": {},
   "outputs": [
    {
     "data": {
      "text/plain": [
       "'We saw a strong man climbing the building 20 days ago.'"
      ]
     },
     "execution_count": 33,
     "metadata": {},
     "output_type": "execute_result"
    }
   ],
   "source": [
    "def madlib(adj=\"strong\", noun=\"building\", action_verb=\"climbing\", num=20):\n",
    "    return f\"We saw a {adj} man {action_verb} the {noun} {num} days ago.\"\n",
    "\n",
    "madlib()"
   ]
  },
  {
   "cell_type": "markdown",
   "metadata": {},
   "source": [
    "# Exercise 4\n",
    "\n",
    "Create a function that takes `n` as the input and returns a `n`x`n` matrix where all the values are zeros. "
   ]
  },
  {
   "cell_type": "code",
   "execution_count": 14,
   "metadata": {},
   "outputs": [
    {
     "data": {
      "text/plain": [
       "[[0, 0, 0], [0, 0, 0], [0, 0, 0]]"
      ]
     },
     "execution_count": 14,
     "metadata": {},
     "output_type": "execute_result"
    }
   ],
   "source": [
    "def matrix(n):\n",
    "    m = []\n",
    "    for i in range(n):\n",
    "        inner = [0] * n\n",
    "        m.append(inner)\n",
    "    \n",
    "    return m\n",
    "matrix(3)"
   ]
  },
  {
   "cell_type": "markdown",
   "metadata": {},
   "source": [
    "# Exercise 5\n",
    "\n",
    "Find an exercise from a previous lab and convert it into a function demonstrating the ability to define the function and call it using the correct arguments/keywords"
   ]
  },
  {
   "cell_type": "code",
   "execution_count": 20,
   "metadata": {},
   "outputs": [
    {
     "data": {
      "text/plain": [
       "['FizzBuzz',\n",
       " 1,\n",
       " 2,\n",
       " 'Fizz',\n",
       " 4,\n",
       " 'Buzz',\n",
       " 'Fizz',\n",
       " 7,\n",
       " 8,\n",
       " 'Fizz',\n",
       " 'Buzz',\n",
       " 11,\n",
       " 'Fizz',\n",
       " 13,\n",
       " 14]"
      ]
     },
     "execution_count": 20,
     "metadata": {},
     "output_type": "execute_result"
    }
   ],
   "source": [
    "def fizzy_buzz(n):\n",
    "    output_list = []\n",
    "    for i in range(n):\n",
    "        if i % 3 == 0 and i % 5 == 0:\n",
    "            output_list.append(\"FizzBuzz\")\n",
    "        elif i % 3 == 0:\n",
    "            output_list.append(\"Fizz\")\n",
    "        elif i % 5 == 0:\n",
    "            output_list.append(\"Buzz\")\n",
    "        else:\n",
    "            output_list.append(i)\n",
    "            \n",
    "    return output_list\n",
    "\n",
    "fizzy_buzz(15)"
   ]
  },
  {
   "cell_type": "markdown",
   "metadata": {},
   "source": [
    "# Bonus:\n",
    "    \n",
    "Create a function that has a function within. Demonstrate how you might use this function in a real world application."
   ]
  },
  {
   "cell_type": "code",
   "execution_count": 30,
   "metadata": {},
   "outputs": [
    {
     "data": {
      "text/plain": [
       "\"Hello, it's a sunny day!\""
      ]
     },
     "execution_count": 30,
     "metadata": {},
     "output_type": "execute_result"
    }
   ],
   "source": [
    "def say_hello(greeting, sunny=True):\n",
    "    if sunny:\n",
    "        def sunny_hello():\n",
    "            return f\"{greeting}, it's a sunny day!\"\n",
    "        return sunny_hello()\n",
    "    else:\n",
    "        return f\"{greeting}\"\n",
    "\n",
    "say_hello(\"Hello\")"
   ]
  }
 ],
 "metadata": {
  "kernelspec": {
   "display_name": "Python 3",
   "language": "python",
   "name": "python3"
  },
  "language_info": {
   "codemirror_mode": {
    "name": "ipython",
    "version": 3
   },
   "file_extension": ".py",
   "mimetype": "text/x-python",
   "name": "python",
   "nbconvert_exporter": "python",
   "pygments_lexer": "ipython3",
   "version": "3.8.5"
  }
 },
 "nbformat": 4,
 "nbformat_minor": 4
}
