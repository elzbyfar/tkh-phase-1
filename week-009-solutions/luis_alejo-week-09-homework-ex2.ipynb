{
 "cells": [
  {
   "cell_type": "markdown",
   "metadata": {},
   "source": [
    "<div style=\"background: #000;\n",
    "            color: #FFF;\n",
    "            margin: 0px;\n",
    "                padding: 10px 0px 20px 0px;\n",
    "            text-align: center; \n",
    "                \">\n",
    "    <h1>Week 8 Homework</h1>\n",
    "</div>"
   ]
  },
  {
   "cell_type": "markdown",
   "metadata": {},
   "source": [
    "# Exercise 2"
   ]
  },
  {
   "cell_type": "markdown",
   "metadata": {},
   "source": [
    "Given an array nums. We define a running sum of an array as runningSum[i] = sum(nums[0]…nums[i]).\n",
    "\n",
    "Return the running sum of nums.\n",
    "\n",
    "Example 1:\n",
    "```\n",
    "Input: nums = [1,2,3,4]\n",
    "Output: [1,3,6,10]\n",
    "Explanation: Running sum is obtained as follows: [1, 1+2, 1+2+3, 1+2+3+4].\n",
    "```\n",
    "Example 2:\n",
    "```\n",
    "Input: nums = [1,1,1,1,1]\n",
    "Output: [1,2,3,4,5]\n",
    "Explanation: Running sum is obtained as follows: [1, 1+1, 1+1+1, 1+1+1+1, 1+1+1+1+1].\n",
    "```\n",
    "Example 3:\n",
    "```\n",
    "Input: nums = [3,1,2,10,1]\n",
    "Output: [3,4,6,16,17]\n",
    "```\n"
   ]
  },
  {
   "cell_type": "code",
   "execution_count": 53,
   "metadata": {},
   "outputs": [
    {
     "name": "stdout",
     "output_type": "stream",
     "text": [
      "[3, 4, 6, 16, 17]\n",
      "your solution is valid\n"
     ]
    }
   ],
   "source": [
    "# change the following\n",
    "def ex2(nums):\n",
    "    return [sum(nums[:n+1]) for n in range(len(nums))]\n",
    "\n",
    "#     # This solution is more effecient\n",
    "#     total = 0\n",
    "#     output = []\n",
    "#     for n in nums:\n",
    "#         total += n\n",
    "#         output += [total]\n",
    "#     return output\n",
    "    \n",
    "    # But I had more fun writing this one\n",
    "\n",
    "# use the try/except block below\n",
    "# to test your solution\n",
    "print(ex2([3,1,2,10,1]))\n",
    "try:\n",
    "    assert(ex2([1,2,3,4]) == [1,3,6,10])\n",
    "    assert(ex2([1,1,1,1,1]) == [1,2,3,4,5])\n",
    "    assert(ex2([3,1,2,10,1]) == [3,4,6,16,17])\n",
    "    print(\"your solution is valid\")\n",
    "except AssertionError:\n",
    "    print(\"your solution is incorrect\")"
   ]
  },
  {
   "cell_type": "code",
   "execution_count": null,
   "metadata": {},
   "outputs": [],
   "source": []
  }
 ],
 "metadata": {
  "kernelspec": {
   "display_name": "Python 3",
   "language": "python",
   "name": "python3"
  },
  "language_info": {
   "codemirror_mode": {
    "name": "ipython",
    "version": 3
   },
   "file_extension": ".py",
   "mimetype": "text/x-python",
   "name": "python",
   "nbconvert_exporter": "python",
   "pygments_lexer": "ipython3",
   "version": "3.9.0"
  }
 },
 "nbformat": 4,
 "nbformat_minor": 4
}
