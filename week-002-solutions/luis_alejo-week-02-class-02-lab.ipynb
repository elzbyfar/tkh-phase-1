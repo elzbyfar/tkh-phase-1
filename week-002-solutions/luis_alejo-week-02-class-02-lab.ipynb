{
 "cells": [
  {
   "cell_type": "markdown",
   "metadata": {},
   "source": [
    "<div style=\"background: #000;\n",
    "            color: #FFF;\n",
    "            margin: 0px;\n",
    "                padding: 10px 0px 20px 0px;\n",
    "            text-align: center; \n",
    "                \">\n",
    "    <h1>Week 2 Class 2 Lab</h1>\n",
    "</div>"
   ]
  },
  {
   "cell_type": "markdown",
   "metadata": {},
   "source": [
    "# Question 1\n",
    "\n",
    "In your own words, explain the difference between lists and tuples. Explain a situation where it may be useful to use tuples instead of lists."
   ]
  },
  {
   "cell_type": "markdown",
   "metadata": {},
   "source": [
    "A list is a mutable data structure which can hold a collection of all data types. A tuple is immutable, meaning its content cannot be altered. Both are similar in almost every way except immutability and in terms of syntax (tuples use paranthesis while lists use square brackets. In an instance where you have several constants which need to be accessed by not changed, a tuple may be a good choice instead of a list."
   ]
  },
  {
   "cell_type": "markdown",
   "metadata": {},
   "source": [
    "# Exercise 1\n",
    "\n",
    "Create a tuple with four values (ints or strings) or  in it. Unpack the tuple into four variables. Create a list with those four values. Turn the list into a string. Add that to the end of a separate string (create whatever you'd like). Now make a tuple  from  that string and output one element from it.\n",
    "\n",
    "Follow each step as described. Show all your work in python statements. "
   ]
  },
  {
   "cell_type": "code",
   "execution_count": 12,
   "metadata": {},
   "outputs": [
    {
     "data": {
      "text/plain": [
       "'L'"
      ]
     },
     "execution_count": 12,
     "metadata": {},
     "output_type": "execute_result"
    }
   ],
   "source": [
    "# Create the tuple and unpack into four variables\n",
    "l, u, i, s = tuple(\"LUIS\")\n",
    "\n",
    "# Turn the four variables into a list\n",
    "my_list = [l, u, i, s]\n",
    "\n",
    "# Turn list into string\n",
    "my_string = \"\".join(my_list)\n",
    "\n",
    "# Add my tuple turned string onto another string\n",
    "separate_string = \"My name is \" + my_string.capitalize() + \".\"\n",
    "\n",
    "# Turn the whole thing back into a tuple and access index 11\n",
    "tuple(separate_string)[11]"
   ]
  },
  {
   "cell_type": "markdown",
   "metadata": {},
   "source": [
    "# Exercise 2\n",
    "\n",
    "Given the following list. Use list indexing and operations to normalize the data so all values are floats.\n",
    "\n",
    "Convert alphabetical characters to their ordinal value."
   ]
  },
  {
   "cell_type": "code",
   "execution_count": 2,
   "metadata": {},
   "outputs": [
    {
     "data": {
      "text/plain": [
       "[23.0, 95.0, 4.0, 718.0, 9.0, 35.0, 97.0, 40.0]"
      ]
     },
     "execution_count": 2,
     "metadata": {},
     "output_type": "execute_result"
    }
   ],
   "source": [
    "# Very mixed array\n",
    "a = ['23', 95, '4', 0x2ce, 9, '35', 'a', 40.0,]\n",
    "\n",
    "# Iterate through the stange array and update each element if necessary. \n",
    "for i in range(len(a)):\n",
    "    if type(a[i]) == str and a[i].isalpha():\n",
    "        a[i] = float(ord(a[i]))\n",
    "    elif type(a[i]) != float:\n",
    "        a[i] = float(a[i])\n",
    " \n",
    "a"
   ]
  },
  {
   "cell_type": "markdown",
   "metadata": {},
   "source": [
    "# Exercise 3\n",
    "\n",
    "We would like to use a list as a queue. A queue in computer science is a structure that operates using FIFO (first in first out). As entries come in, they're added/inserted to the back of the queue. When the code processing the entries is ready for a new entry, it pulls/removes from the front of the queue. Similar to how lines at a supermarket work.\n",
    "\n",
    "Create an empty list to represent our queue. What list operation would allow us to add new entries at the back of the queue. What list operation would remove the first entry on the list? Write python code that creates an empty 'queue', add entries to the queue, and pulls from the front of the queue. \n",
    "\n",
    "Show these steps in a series of python statements. (No need to create a function or do anything we haven't covered in depth.)"
   ]
  },
  {
   "cell_type": "code",
   "execution_count": 1,
   "metadata": {},
   "outputs": [
    {
     "name": "stdout",
     "output_type": "stream",
     "text": [
      "Ticket number 1\n",
      "Ticket number 2\n"
     ]
    }
   ],
   "source": [
    "line_to_the_club = []\n",
    "\n",
    "for i in range(10):\n",
    "    line_to_the_club.append(\"Ticket number \" + str(i + 1))\n",
    "\n",
    "def enter_the_club():\n",
    "    ticket = line_to_the_club.pop(0)\n",
    "    return ticket\n",
    "\n",
    "# First in first out\n",
    "print(enter_the_club())\n",
    "\n",
    "# Second in second out\n",
    "print(enter_the_club())"
   ]
  },
  {
   "cell_type": "code",
   "execution_count": null,
   "metadata": {},
   "outputs": [],
   "source": []
  }
 ],
 "metadata": {
  "kernelspec": {
   "display_name": "Python 3",
   "language": "python",
   "name": "python3"
  },
  "language_info": {
   "codemirror_mode": {
    "name": "ipython",
    "version": 3
   },
   "file_extension": ".py",
   "mimetype": "text/x-python",
   "name": "python",
   "nbconvert_exporter": "python",
   "pygments_lexer": "ipython3",
   "version": "3.8.5"
  }
 },
 "nbformat": 4,
 "nbformat_minor": 4
}
