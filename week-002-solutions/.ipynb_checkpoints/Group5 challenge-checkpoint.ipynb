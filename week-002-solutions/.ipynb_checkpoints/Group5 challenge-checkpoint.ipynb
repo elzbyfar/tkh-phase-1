{
 "cells": [
  {
   "cell_type": "markdown",
   "metadata": {},
   "source": [
    "companies = {\n",
    "   \"msft\": {\"\n",
    "\t   \"name\" : \"Microsoft\",\n",
    "       \"ceo\":\"satya nadella\",\n",
    "       \"location\":\"redmond, washington\"\n",
    "   },\n",
    "   \"tlsa\": {\n",
    "\t   \"name\" : \"Tesla,\n",
    "       \"ceo\":\"elon musk\",\n",
    "       \"location\":\"palo alto, california\"\n",
    "   },\n",
    "   \"aapl\": {\n",
    "\t   \"name\": \"Apple\",\n",
    "       \"ceo\":\"tim cook\",\n",
    "       \"location\":\"cupertino, california\"\n",
    "   },\n",
    "   \"goog\": {\n",
    "\t    \"name\":\"Google\",\n",
    "       \"ceo\":\"sundar pichai\",\n",
    "       \"location\": \"mountain view, california\"\n",
    "   },\n",
    "   \"amzn\": {\n",
    "\t   \"name\":\"Amazon\",\n",
    "       \"ceo\":\"jeff bezos\",\n",
    "       \"location\":\"seattle, washington\"}\n",
    "}\n",
    "Write a series of python statements that will:\n",
    "1. Access the value for key \"location\" of each element of dictionary `companies`\n",
    "2. Access the value of the key name of each element of dict companies\n",
    "3.Print the following \"<COMPANY NAME>, is located in <COMPANY LOCATION>\" for each dictionary element."
   ]
  },
  {
   "cell_type": "code",
   "execution_count": 8,
   "metadata": {},
   "outputs": [
    {
     "name": "stdout",
     "output_type": "stream",
     "text": [
      "Microsoft is located in redmond, washington\n",
      "Tesla is located in palo alto, california\n",
      "Apple is located in cupertino, california\n",
      "Google is located in mountain view, california\n",
      "Amazon is located in seattle, washington\n"
     ]
    }
   ],
   "source": [
    "companies = {\n",
    "   \"msft\": {\n",
    "\t   \"name\" : \"Microsoft\",\n",
    "       \"ceo\":\"satya nadella\",\n",
    "       \"location\":\"redmond, washington\"\n",
    "   },\n",
    "   \"tlsa\": {\n",
    "\t   \"name\" : \"Tesla\",\n",
    "       \"ceo\":\"elon musk\",\n",
    "       \"location\":\"palo alto, california\"\n",
    "   },\n",
    "   \"aapl\": {\n",
    "\t   \"name\": \"Apple\",\n",
    "       \"ceo\":\"tim cook\",\n",
    "       \"location\":\"cupertino, california\"\n",
    "   },\n",
    "   \"goog\": {\n",
    "\t    \"name\":\"Google\",\n",
    "       \"ceo\":\"sundar pichai\",\n",
    "       \"location\": \"mountain view, california\"\n",
    "   },\n",
    "   \"amzn\": {\n",
    "\t   \"name\":\"Amazon\",\n",
    "       \"ceo\":\"jeff bezos\",\n",
    "       \"location\":\"seattle, washington\"}\n",
    "}\n",
    "\n",
    "names = []\n",
    "locations = []\n",
    "\n",
    "for key in companies:\n",
    "    locations.append(companies[key]['location'])\n",
    "    names.append(companies[key]['name'])\n",
    "\n",
    "\n",
    "for i in range(len(names)):\n",
    "    print(f\"{names[i]} is located in {locations[i]}\")"
   ]
  },
  {
   "cell_type": "code",
   "execution_count": null,
   "metadata": {},
   "outputs": [],
   "source": []
  }
 ],
 "metadata": {
  "kernelspec": {
   "display_name": "Python 3",
   "language": "python",
   "name": "python3"
  },
  "language_info": {
   "codemirror_mode": {
    "name": "ipython",
    "version": 3
   },
   "file_extension": ".py",
   "mimetype": "text/x-python",
   "name": "python",
   "nbconvert_exporter": "python",
   "pygments_lexer": "ipython3",
   "version": "3.8.5"
  }
 },
 "nbformat": 4,
 "nbformat_minor": 4
}
