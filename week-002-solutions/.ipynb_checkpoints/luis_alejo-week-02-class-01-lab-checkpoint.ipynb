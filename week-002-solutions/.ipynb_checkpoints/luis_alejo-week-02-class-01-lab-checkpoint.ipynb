{
 "cells": [
  {
   "cell_type": "markdown",
   "metadata": {},
   "source": [
    "<div style=\"background: #000;\n",
    "            color: #FFF;\n",
    "            margin: 0px;\n",
    "                padding: 10px 0px 20px 0px;\n",
    "            text-align: center; \n",
    "                \">\n",
    "    <h1>Week 02 Class 01 Lab</h1>\n",
    "</div>"
   ]
  },
  {
   "cell_type": "markdown",
   "metadata": {},
   "source": [
    "###### Question 1\n",
    "\n",
    "In your own words, explain what data structures are. Then name one python data type and explain what sort of problem might require it. "
   ]
  },
  {
   "cell_type": "markdown",
   "metadata": {},
   "source": [
    "A data structure is a container that holds information. In programming there are several types of data structures that serve different purposes and manage information in different ways. For instance a List in Python is an ordered collection of items (or objects). We can use lists much like lists in real life. A list is a great option for a collection of data that needs to be open to change. Because lists are mutable, the data in them can be accessed and altered in many programatically convenient ways. "
   ]
  },
  {
   "cell_type": "markdown",
   "metadata": {},
   "source": [
    "# Exercise 1\n",
    "\n",
    "Using the list below, answer the following questions."
   ]
  },
  {
   "cell_type": "code",
   "execution_count": 84,
   "metadata": {},
   "outputs": [],
   "source": [
    "l = [[[1,2,3], [4,5,6],[7,8,9]],[[10,11,12], [13,14,15],[16,17,18]],[[19,20,21], [22,23,24],[25,26,27]]]"
   ]
  },
  {
   "cell_type": "markdown",
   "metadata": {},
   "source": [
    "a. What index gives you the number 15? "
   ]
  },
  {
   "cell_type": "code",
   "execution_count": 85,
   "metadata": {},
   "outputs": [
    {
     "data": {
      "text/plain": [
       "15"
      ]
     },
     "execution_count": 85,
     "metadata": {},
     "output_type": "execute_result"
    }
   ],
   "source": [
    "# Access 15\n",
    "l[1][1][2]"
   ]
  },
  {
   "cell_type": "markdown",
   "metadata": {},
   "source": [
    " b. Use `del` to delete all numbers divisible by 2, 3, 4 and 5. Print the list.  "
   ]
  },
  {
   "cell_type": "code",
   "execution_count": 100,
   "metadata": {},
   "outputs": [
    {
     "data": {
      "text/plain": [
       "[[[1], [], [7]], [[11], [13], [17]], [[19], [23], []]]"
      ]
     },
     "execution_count": 100,
     "metadata": {},
     "output_type": "execute_result"
    }
   ],
   "source": [
    "# This is ugly. This is a triple nested for loop that iterates through the reversed arrays in the matrix in order to access the integers and do some calculations.\n",
    "# The reason for reversing each string is, without reversing, as I deleted elements I was shortening the array and therefore throwing off the sequencing of the elements.  \n",
    "\n",
    "for i in reversed(range(len(l))):\n",
    "    for j in reversed(range(len(l[i]))):\n",
    "        for k in reversed(range(len(l[i][j]))):\n",
    "            if l[i][j][k] % 2 == 0 or l[i][j][k] % 3 == 0 or l[i][j][k] % 4 == 0 or l[i][j][k] % 5 == 0:\n",
    "                del l[i][j][k]\n",
    "                \n",
    "l"
   ]
  },
  {
   "cell_type": "code",
   "execution_count": null,
   "metadata": {},
   "outputs": [],
   "source": []
  },
  {
   "cell_type": "markdown",
   "metadata": {},
   "source": [
    "c. Create a new 1 x 7 list with the numbers remaining from `l`."
   ]
  },
  {
   "cell_type": "code",
   "execution_count": 101,
   "metadata": {},
   "outputs": [
    {
     "data": {
      "text/plain": [
       "[1, 7, 11, 13, 17, 19, 23]"
      ]
     },
     "execution_count": 101,
     "metadata": {},
     "output_type": "execute_result"
    }
   ],
   "source": [
    "# Again, sort of ugly solution, but not quite as bad as the previous. \n",
    "\n",
    "output_array = []\n",
    "\n",
    "for array in l:\n",
    "    for arr in array:\n",
    "        for n in arr:\n",
    "            output_array.append(n)\n",
    "\n",
    "output_array"
   ]
  },
  {
   "cell_type": "markdown",
   "metadata": {},
   "source": [
    "# Exercise 2\n",
    "\n",
    "Using only the following string, use string methods/slices/indexing to produce the following quote from the late Justice Ruth Bader Ginsberg:\n",
    "\n",
    "\"Real change, enduring change, happens one step at a time.\"\n",
    "\n",
    "hint: try splitting the string up."
   ]
  },
  {
   "cell_type": "code",
   "execution_count": 36,
   "metadata": {},
   "outputs": [],
   "source": [
    "string = 'stepataenduringrealdemocracyblmchange,progresschangefreedomonetimehappens,equalityjustice'"
   ]
  },
  {
   "cell_type": "code",
   "execution_count": 50,
   "metadata": {},
   "outputs": [
    {
     "data": {
      "text/plain": [
       "'Real change, enduring change, happens one step at a time.'"
      ]
     },
     "execution_count": 50,
     "metadata": {},
     "output_type": "execute_result"
    }
   ],
   "source": [
    "# Declare the desired quote\n",
    "quote = \"Real change, enduring change, happens one step at a time.\"\n",
    "\n",
    "# Create a list of words from the quote\n",
    "split_quote = quote.replace('.', \"\").split(\" \")\n",
    "\n",
    "# This is the initial state of the string we will output\n",
    "output_string = \"\"\n",
    "\n",
    "# Iterate through the list of words from the quote. Find the index of each word within the large string. Leverage that index to slice the desired word out of the string. Concatenate that word onto the output string.\n",
    "for word in split_quote:\n",
    "    starting_point = string.find(word.lower())\n",
    "    output_string += string[starting_point : starting_point + (len(word))] + \" \"\n",
    "    \n",
    "output_string.capitalize().strip() + \".\"\n"
   ]
  },
  {
   "cell_type": "markdown",
   "metadata": {},
   "source": [
    "# Exercise 3\n",
    "\n",
    "Given the following matrix, find the determinant:\n",
    "$$\n",
    "\\begin{equation*}\n",
    "A = \n",
    "\\begin{vmatrix}\n",
    "1 & 2 & 3 \\\\\n",
    "4 & 5 & 6 \\\\\n",
    "7 & 8 & 9\n",
    "\\end{vmatrix}\n",
    "\\end{equation*}\n",
    "$$\n",
    "The determinant of a matrix is calculated as follows:\n",
    "$$\n",
    "\\begin{equation*}\n",
    "A = \n",
    "\\begin{vmatrix}\n",
    "a & b & c \\\\\n",
    "d & e & f \\\\\n",
    "g & h & i\n",
    "\\end{vmatrix}\n",
    "= a \n",
    "\\begin{vmatrix}\n",
    "e & f \\\\\n",
    "h & i \\\\\n",
    "\\end{vmatrix}\n",
    "- b\n",
    "\\begin{vmatrix}\n",
    "d & f \\\\\n",
    "g & i \\\\\n",
    "\\end{vmatrix}\n",
    "+ c\n",
    "\\begin{vmatrix}\n",
    "d & e \\\\\n",
    "g & h \\\\\n",
    "\\end{vmatrix}\n",
    "\\end{equation*}\n",
    "$$\n",
    "\n",
    "$$ \n",
    "= aei + bfg + cdh - ceg - bdi -afh\n",
    "$$\n",
    "\n",
    "Create a 3 x 3 matrix using a list. Then use list indexing to access the elements to perform your calculation. Do not use numbers not stored in your matrix to perform your calcuation"
   ]
  },
  {
   "cell_type": "code",
   "execution_count": 102,
   "metadata": {},
   "outputs": [
    {
     "data": {
      "text/plain": [
       "0"
      ]
     },
     "execution_count": 102,
     "metadata": {},
     "output_type": "execute_result"
    }
   ],
   "source": [
    "# Original matrix\n",
    "A = [[1,2,3],\n",
    "     [4,5,6],\n",
    "     [7,8,9]]\n",
    "\n",
    "# Manually identify each integer and assign it to a variable. \n",
    "a = A[0][0]\n",
    "b = A[0][1]\n",
    "c = A[0][2]\n",
    "d = A[1][0]\n",
    "e = A[1][1]\n",
    "f = A[1][2]\n",
    "g = A[2][0]\n",
    "h = A[2][1]\n",
    "i = A[2][2]\n",
    "\n",
    "# Follow the formula\n",
    "output = (a*e*i) + (b*f*g) + (c*d*h) - (c*e*g) - (b*d*i) - (a*f*h)\n",
    "\n",
    "output"
   ]
  },
  {
   "cell_type": "markdown",
   "metadata": {},
   "source": [
    "# Bonus \n"
   ]
  },
  {
   "cell_type": "code",
   "execution_count": null,
   "metadata": {},
   "outputs": [],
   "source": []
  }
 ],
 "metadata": {
  "kernelspec": {
   "display_name": "Python 3",
   "language": "python",
   "name": "python3"
  },
  "language_info": {
   "codemirror_mode": {
    "name": "ipython",
    "version": 3
   },
   "file_extension": ".py",
   "mimetype": "text/x-python",
   "name": "python",
   "nbconvert_exporter": "python",
   "pygments_lexer": "ipython3",
   "version": "3.8.5"
  }
 },
 "nbformat": 4,
 "nbformat_minor": 4
}
