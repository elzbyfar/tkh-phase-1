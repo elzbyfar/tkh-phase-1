{
 "cells": [
  {
   "cell_type": "markdown",
   "metadata": {},
   "source": [
    "# Week 2 Project"
   ]
  },
  {
   "cell_type": "markdown",
   "metadata": {},
   "source": [
    "Our company \"Zeta\" has an algorithmic trading bot that purchases shares of stocks. We've been buying shares of TSLA and MSFT for a while now. Our bot buys 1 share at a time and the prices of each purchase is listed below."
   ]
  },
  {
   "cell_type": "code",
   "execution_count": 30,
   "metadata": {},
   "outputs": [
    {
     "name": "stdout",
     "output_type": "stream",
     "text": [
      "tsla prices are correct\n"
     ]
    }
   ],
   "source": [
    "tsla = [132.56, 105.2, 137.54, 124.31, 124.54, 108.52, 139.35, 121.49, 117.89, 100.79, 116.63, 108.02, 103.25, 105.72, 114.12, 128.8, 102.37, 114.9, 132.4, 135.3, 151.3, 134.8, 111.1, 132.1, 156.31, 114.58, 140.42, 127.02, 126.36, 132.64, 152.15, 126.19, 156.41, 148.95, 164.27, 129.99, 145.17, 151.98, 148.75, 144.75, 133.51, 146.97, 144.09, 129.79, 152.15, 161.55, 158.24, 157.89, 163.06, 180.86, 185.57, 198.29, 184.2, 183.68, 193.8, 201.32]\n",
    "\n",
    "# to verify your numbers are correct and have not been altered, uncomment and run the following:\n",
    "import hashlib; print(\"tsla prices are correct\" if hashlib.md5(str(tsla).encode()).hexdigest() == '2157a3cc6c68b3ae3e26ae3101cf2c44' else \"tsla prices are incorrect\")"
   ]
  },
  {
   "cell_type": "code",
   "execution_count": 31,
   "metadata": {},
   "outputs": [
    {
     "name": "stdout",
     "output_type": "stream",
     "text": [
      "msft prices are correct\n"
     ]
    }
   ],
   "source": [
    "msft = [167.69, 151.72, 141.38, 136.95, 146.5, 157.5, 177.42, 152.06, 147.97, 174.94, 162.73, 183.69, 139.53, 181.82, 167.49, 176.05, 179.25, 149.65, 183.38, 149.73, 151.2, 189.22, 166.28, 187.13, 195.46, 158.8, 154.24, 190.19, 153.23, 192.82, 176.67, 192.04, 177.19, 165.53, 184.44, 186.13, 199.71, 174.14, 175.61, 184.14, 205.52, 202.13, 180.19, 198.55, 204.91, 187.49, 183.52, 199.76, 212.38, 191.2, 222.39, 195.15, 185.7, 224.32, 195.49, 208.56, 184.11, 211.48, 207.77, 202.89, 186.68, 203.91, 234.01, 202.05, 205.86, 193.8, 213.51, 220.2, 234.56, 200.86, 206.04, 243.46, 243.3, 208.68, 220.96, 237.67, 208.42, 214.33, 251.64, 212.35, 217.35, 213.11, 251.61, 247.34, 234.95, 256.97, 235.53, 240.86, 213.03, 235.38, 257.89, 246.18, 234.4, 222.91, 253.5, 257.53, 266.9, 226.3, 230.97, 270.01]\n",
    "\n",
    "# to verify your numbers are correct and have not been altered, uncomment and run the following:\n",
    "import hashlib; print(\"msft prices are correct\" if hashlib.md5(str(msft).encode()).hexdigest() == '5e0b3acc2d380c957f9db6487c0f4807' else \"msft prices are incorrect\")"
   ]
  },
  {
   "cell_type": "markdown",
   "metadata": {},
   "source": [
    "### How many shares of TSLA did we buy?\n",
    "\n",
    "Note: remember that for each buy, we bought 1 share."
   ]
  },
  {
   "cell_type": "code",
   "execution_count": 32,
   "metadata": {},
   "outputs": [
    {
     "data": {
      "text/plain": [
       "56"
      ]
     },
     "execution_count": 32,
     "metadata": {},
     "output_type": "execute_result"
    }
   ],
   "source": [
    "len(tsla)"
   ]
  },
  {
   "cell_type": "markdown",
   "metadata": {},
   "source": [
    "### What was the average price of our TSLA shares?\n",
    "\n",
    "Average price = cost of all shares / number of shares"
   ]
  },
  {
   "cell_type": "code",
   "execution_count": 33,
   "metadata": {},
   "outputs": [
    {
     "data": {
      "text/plain": [
       "140.07"
      ]
     },
     "execution_count": 33,
     "metadata": {},
     "output_type": "execute_result"
    }
   ],
   "source": [
    "float(\"{:.2f}\".format(sum(tsla) / len(tsla)))"
   ]
  },
  {
   "cell_type": "markdown",
   "metadata": {},
   "source": [
    "### What was the lowest price we paid for a share of TSLA?"
   ]
  },
  {
   "cell_type": "code",
   "execution_count": 34,
   "metadata": {},
   "outputs": [
    {
     "data": {
      "text/plain": [
       "100.79"
      ]
     },
     "execution_count": 34,
     "metadata": {},
     "output_type": "execute_result"
    }
   ],
   "source": [
    "min(tsla)"
   ]
  },
  {
   "cell_type": "markdown",
   "metadata": {},
   "source": [
    "### What was the highest price we paid for a share of TSLA?"
   ]
  },
  {
   "cell_type": "code",
   "execution_count": 35,
   "metadata": {},
   "outputs": [
    {
     "data": {
      "text/plain": [
       "201.32"
      ]
     },
     "execution_count": 35,
     "metadata": {},
     "output_type": "execute_result"
    }
   ],
   "source": [
    "max(tsla)"
   ]
  },
  {
   "cell_type": "markdown",
   "metadata": {},
   "source": [
    "### Sort the list of TSLA shares in place. What was the five lowest prices we paid for TSLA shares?"
   ]
  },
  {
   "cell_type": "code",
   "execution_count": 36,
   "metadata": {},
   "outputs": [
    {
     "data": {
      "text/plain": [
       "[100.79, 102.37, 103.25, 105.2, 105.72]"
      ]
     },
     "execution_count": 36,
     "metadata": {},
     "output_type": "execute_result"
    }
   ],
   "source": [
    "sorted(tsla)[0:5]"
   ]
  },
  {
   "cell_type": "markdown",
   "metadata": {},
   "source": [
    "### What were the five highest prices we paid for TSLA shares? \n",
    "\n",
    "Use a slice that includes a negative number"
   ]
  },
  {
   "cell_type": "code",
   "execution_count": 37,
   "metadata": {},
   "outputs": [
    {
     "data": {
      "text/plain": [
       "[183.68, 184.2, 193.8, 198.29, 201.32]"
      ]
     },
     "execution_count": 37,
     "metadata": {},
     "output_type": "execute_result"
    }
   ],
   "source": [
    "sorted(tsla[-5:])"
   ]
  },
  {
   "cell_type": "markdown",
   "metadata": {},
   "source": [
    "### How many unique values do we have in our list of TSLA prices? "
   ]
  },
  {
   "cell_type": "code",
   "execution_count": 38,
   "metadata": {},
   "outputs": [
    {
     "data": {
      "text/plain": [
       "55"
      ]
     },
     "execution_count": 38,
     "metadata": {},
     "output_type": "execute_result"
    }
   ],
   "source": [
    "unique_tesla = set(tsla)\n",
    "len(unique_tesla)"
   ]
  },
  {
   "cell_type": "markdown",
   "metadata": {},
   "source": [
    "### We have another algo running that also buys shares of TSLA. Using the following list and the set from before, output a list of the unique set of prices of the combined lists."
   ]
  },
  {
   "cell_type": "code",
   "execution_count": 39,
   "metadata": {},
   "outputs": [
    {
     "name": "stdout",
     "output_type": "stream",
     "text": [
      "other tsla prices are correct\n"
     ]
    }
   ],
   "source": [
    "other_tsla_list = [114.12, 128.8, 102.37, 114.9, 132.4, 135.3, 151.3, 134.8, 111.1, 132.1]\n",
    "\n",
    "# to verify the above numbers are correct and have not been altered, uncomment and run the following:\n",
    "import hashlib; print(\"other tsla prices are correct\" if hashlib.md5(str(other_tsla_list).encode()).hexdigest() == '9d855ef64203308925c4259ca8864cda' else \"other prices are incorrect\")"
   ]
  },
  {
   "cell_type": "code",
   "execution_count": 43,
   "metadata": {},
   "outputs": [
    {
     "name": "stdout",
     "output_type": "stream",
     "text": [
      "{128.8, 129.99, 129.79, 132.56, 132.4, 134.8, 135.3, 132.1, 137.54, 132.64, 139.35, 140.42, 133.51, 144.75, 145.17, 146.97, 144.09, 148.95, 148.75, 151.3, 152.15, 151.98, 156.31, 156.41, 158.24, 157.89, 161.55, 163.06, 164.27, 180.86, 183.68, 184.2, 185.57, 193.8, 198.29, 201.32, 100.79, 102.37, 103.25, 105.2, 105.72, 108.52, 108.02, 111.1, 124.31, 114.12, 114.9, 116.63, 117.89, 114.58, 121.49, 126.19, 124.54, 126.36, 127.02}\n"
     ]
    }
   ],
   "source": [
    "print(unique_tesla.union(set(other_tsla_list)))"
   ]
  },
  {
   "cell_type": "markdown",
   "metadata": {},
   "source": [
    "### Create a dictionary from the list of TSLA prices. Use the index of the sorted list as the key."
   ]
  },
  {
   "cell_type": "code",
   "execution_count": 65,
   "metadata": {},
   "outputs": [
    {
     "name": "stdout",
     "output_type": "stream",
     "text": [
      "{0: 100.79, 1: 102.37, 2: 103.25, 3: 105.2, 4: 105.72, 5: 108.02, 6: 108.52, 7: 111.1, 8: 114.12, 9: 114.58, 10: 114.9, 11: 116.63, 12: 117.89, 13: 121.49, 14: 124.31, 15: 124.54, 16: 126.19, 17: 126.36, 18: 127.02, 19: 128.8, 20: 129.79, 21: 129.99, 22: 132.1, 23: 132.4, 24: 132.56, 25: 132.64, 26: 133.51, 27: 134.8, 28: 135.3, 29: 137.54, 30: 139.35, 31: 140.42, 32: 144.09, 33: 144.75, 34: 145.17, 35: 146.97, 36: 148.75, 37: 148.95, 38: 151.3, 39: 151.98, 40: 152.15, 41: 152.15, 42: 156.31, 43: 156.41, 44: 157.89, 45: 158.24, 46: 161.55, 47: 163.06, 48: 164.27, 49: 180.86, 50: 183.68, 51: 184.2, 52: 185.57, 53: 193.8, 54: 198.29, 55: 201.32}\n"
     ]
    }
   ],
   "source": [
    "tsla_tuples = []\n",
    "\n",
    "sorted_tsla = sorted(tsla)\n",
    "\n",
    "for i in range(len(sorted_tsla)):\n",
    "    tsla_tuples += [(i, sorted_tsla[i])]\n",
    "\n",
    "print(dict(tsla_tuples))"
   ]
  },
  {
   "cell_type": "markdown",
   "metadata": {},
   "source": [
    "### How many shares of MSFT did we buy? \n",
    "\n",
    "Note: remember that for each buy, we bought only 1 share."
   ]
  },
  {
   "cell_type": "code",
   "execution_count": 50,
   "metadata": {},
   "outputs": [
    {
     "data": {
      "text/plain": [
       "100"
      ]
     },
     "execution_count": 50,
     "metadata": {},
     "output_type": "execute_result"
    }
   ],
   "source": [
    "len(msft)"
   ]
  },
  {
   "cell_type": "markdown",
   "metadata": {},
   "source": [
    "### What was the average price of our MSFT shares?"
   ]
  },
  {
   "cell_type": "code",
   "execution_count": 54,
   "metadata": {},
   "outputs": [
    {
     "data": {
      "text/plain": [
       "199.4"
      ]
     },
     "execution_count": 54,
     "metadata": {},
     "output_type": "execute_result"
    }
   ],
   "source": [
    "float(\"{:.2f}\".format(sum(msft) / len(msft)))"
   ]
  },
  {
   "cell_type": "markdown",
   "metadata": {},
   "source": [
    "### What was the lowest price we paid for a share of MSFT?"
   ]
  },
  {
   "cell_type": "code",
   "execution_count": 55,
   "metadata": {},
   "outputs": [
    {
     "data": {
      "text/plain": [
       "136.95"
      ]
     },
     "execution_count": 55,
     "metadata": {},
     "output_type": "execute_result"
    }
   ],
   "source": [
    "min(msft)"
   ]
  },
  {
   "cell_type": "markdown",
   "metadata": {},
   "source": [
    "### What was the highest price we paid for a share of MSFT?"
   ]
  },
  {
   "cell_type": "code",
   "execution_count": 81,
   "metadata": {},
   "outputs": [
    {
     "data": {
      "text/plain": [
       "270.01"
      ]
     },
     "execution_count": 81,
     "metadata": {},
     "output_type": "execute_result"
    }
   ],
   "source": [
    "max(msft)"
   ]
  },
  {
   "cell_type": "markdown",
   "metadata": {},
   "source": [
    "### Sort the list of MSFT prices in place. What were the five lowest prices we paid for MSFT shares?"
   ]
  },
  {
   "cell_type": "code",
   "execution_count": 56,
   "metadata": {},
   "outputs": [
    {
     "data": {
      "text/plain": [
       "[136.95, 139.53, 141.38, 146.5, 147.97]"
      ]
     },
     "execution_count": 56,
     "metadata": {},
     "output_type": "execute_result"
    }
   ],
   "source": [
    "sorted(msft)[:5]"
   ]
  },
  {
   "cell_type": "markdown",
   "metadata": {},
   "source": [
    "### What were the five highest prices we paid for MSFT shares? \n",
    "\n",
    "Use a slice that includes a negative number"
   ]
  },
  {
   "cell_type": "code",
   "execution_count": 57,
   "metadata": {},
   "outputs": [
    {
     "data": {
      "text/plain": [
       "[256.97, 257.53, 257.89, 266.9, 270.01]"
      ]
     },
     "execution_count": 57,
     "metadata": {},
     "output_type": "execute_result"
    }
   ],
   "source": [
    "sorted(msft)[-5:]"
   ]
  },
  {
   "cell_type": "markdown",
   "metadata": {},
   "source": [
    "### How many unique values do we have in our list of MSFT prices?"
   ]
  },
  {
   "cell_type": "code",
   "execution_count": 61,
   "metadata": {},
   "outputs": [
    {
     "data": {
      "text/plain": [
       "100"
      ]
     },
     "execution_count": 61,
     "metadata": {},
     "output_type": "execute_result"
    }
   ],
   "source": [
    "unique_msft = set(msft)\n",
    "len(unique_msft)"
   ]
  },
  {
   "cell_type": "markdown",
   "metadata": {},
   "source": [
    "### We have another algo running that also buys shares of TSLA. Using the following list and the set from before, output a list of the unique prices of the combined lists."
   ]
  },
  {
   "cell_type": "code",
   "execution_count": 62,
   "metadata": {},
   "outputs": [
    {
     "name": "stdout",
     "output_type": "stream",
     "text": [
      "other_msft_prices are correct\n"
     ]
    }
   ],
   "source": [
    "other_msft_list = [149.73, 151.2, 189.22, 166.28, 187.13, 195.46, 158.8, 154.24, 190.19, 153.23, 192.82, 176.67, 192.04, 177.19]\n",
    "\n",
    "# to verify the above numbers are correct and have not been altered, uncomment and run the following:\n",
    "import hashlib; print(\"other_msft_prices are correct\" if hashlib.md5(str(other_msft_list).encode()).hexdigest() == '2340257f15e1472379a92741c3a83fdd' else \"other msft prices are incorrect\")"
   ]
  },
  {
   "cell_type": "code",
   "execution_count": 63,
   "metadata": {},
   "outputs": [
    {
     "data": {
      "text/plain": [
       "{136.95,\n",
       " 139.53,\n",
       " 141.38,\n",
       " 146.5,\n",
       " 147.97,\n",
       " 149.65,\n",
       " 149.73,\n",
       " 151.2,\n",
       " 151.72,\n",
       " 152.06,\n",
       " 153.23,\n",
       " 154.24,\n",
       " 157.5,\n",
       " 158.8,\n",
       " 162.73,\n",
       " 165.53,\n",
       " 166.28,\n",
       " 167.49,\n",
       " 167.69,\n",
       " 174.14,\n",
       " 174.94,\n",
       " 175.61,\n",
       " 176.05,\n",
       " 176.67,\n",
       " 177.19,\n",
       " 177.42,\n",
       " 179.25,\n",
       " 180.19,\n",
       " 181.82,\n",
       " 183.38,\n",
       " 183.52,\n",
       " 183.69,\n",
       " 184.11,\n",
       " 184.14,\n",
       " 184.44,\n",
       " 185.7,\n",
       " 186.13,\n",
       " 186.68,\n",
       " 187.13,\n",
       " 187.49,\n",
       " 189.22,\n",
       " 190.19,\n",
       " 191.2,\n",
       " 192.04,\n",
       " 192.82,\n",
       " 193.8,\n",
       " 195.15,\n",
       " 195.46,\n",
       " 195.49,\n",
       " 198.55,\n",
       " 199.71,\n",
       " 199.76,\n",
       " 200.86,\n",
       " 202.05,\n",
       " 202.13,\n",
       " 202.89,\n",
       " 203.91,\n",
       " 204.91,\n",
       " 205.52,\n",
       " 205.86,\n",
       " 206.04,\n",
       " 207.77,\n",
       " 208.42,\n",
       " 208.56,\n",
       " 208.68,\n",
       " 211.48,\n",
       " 212.35,\n",
       " 212.38,\n",
       " 213.03,\n",
       " 213.11,\n",
       " 213.51,\n",
       " 214.33,\n",
       " 217.35,\n",
       " 220.2,\n",
       " 220.96,\n",
       " 222.39,\n",
       " 222.91,\n",
       " 224.32,\n",
       " 226.3,\n",
       " 230.97,\n",
       " 234.01,\n",
       " 234.4,\n",
       " 234.56,\n",
       " 234.95,\n",
       " 235.38,\n",
       " 235.53,\n",
       " 237.67,\n",
       " 240.86,\n",
       " 243.3,\n",
       " 243.46,\n",
       " 246.18,\n",
       " 247.34,\n",
       " 251.61,\n",
       " 251.64,\n",
       " 253.5,\n",
       " 256.97,\n",
       " 257.53,\n",
       " 257.89,\n",
       " 266.9,\n",
       " 270.01}"
      ]
     },
     "execution_count": 63,
     "metadata": {},
     "output_type": "execute_result"
    }
   ],
   "source": [
    "unique_msft.union(set(other_msft_list))"
   ]
  },
  {
   "cell_type": "markdown",
   "metadata": {},
   "source": [
    "### Create a dictionary from the list of MSFT prices. Use the index of the sorted list as the key."
   ]
  },
  {
   "cell_type": "code",
   "execution_count": 68,
   "metadata": {},
   "outputs": [
    {
     "name": "stdout",
     "output_type": "stream",
     "text": [
      "{0: 136.95, 1: 139.53, 2: 141.38, 3: 146.5, 4: 147.97, 5: 149.65, 6: 149.73, 7: 151.2, 8: 151.72, 9: 152.06, 10: 153.23, 11: 154.24, 12: 157.5, 13: 158.8, 14: 162.73, 15: 165.53, 16: 166.28, 17: 167.49, 18: 167.69, 19: 174.14, 20: 174.94, 21: 175.61, 22: 176.05, 23: 176.67, 24: 177.19, 25: 177.42, 26: 179.25, 27: 180.19, 28: 181.82, 29: 183.38, 30: 183.52, 31: 183.69, 32: 184.11, 33: 184.14, 34: 184.44, 35: 185.7, 36: 186.13, 37: 186.68, 38: 187.13, 39: 187.49, 40: 189.22, 41: 190.19, 42: 191.2, 43: 192.04, 44: 192.82, 45: 193.8, 46: 195.15, 47: 195.46, 48: 195.49, 49: 198.55, 50: 199.71, 51: 199.76, 52: 200.86, 53: 202.05, 54: 202.13, 55: 202.89, 56: 203.91, 57: 204.91, 58: 205.52, 59: 205.86, 60: 206.04, 61: 207.77, 62: 208.42, 63: 208.56, 64: 208.68, 65: 211.48, 66: 212.35, 67: 212.38, 68: 213.03, 69: 213.11, 70: 213.51, 71: 214.33, 72: 217.35, 73: 220.2, 74: 220.96, 75: 222.39, 76: 222.91, 77: 224.32, 78: 226.3, 79: 230.97, 80: 234.01, 81: 234.4, 82: 234.56, 83: 234.95, 84: 235.38, 85: 235.53, 86: 237.67, 87: 240.86, 88: 243.3, 89: 243.46, 90: 246.18, 91: 247.34, 92: 251.61, 93: 251.64, 94: 253.5, 95: 256.97, 96: 257.53, 97: 257.89, 98: 266.9, 99: 270.01}\n"
     ]
    }
   ],
   "source": [
    "msft_tuples = []\n",
    "\n",
    "sorted_msft = sorted(msft)\n",
    "\n",
    "for i in range(len(sorted_msft)):\n",
    "    msft_tuples += [(i, sorted_msft[i])]\n",
    "\n",
    "print(dict(msft_tuples))"
   ]
  },
  {
   "cell_type": "code",
   "execution_count": null,
   "metadata": {},
   "outputs": [],
   "source": []
  }
 ],
 "metadata": {
  "kernelspec": {
   "display_name": "Python 3",
   "language": "python",
   "name": "python3"
  },
  "language_info": {
   "codemirror_mode": {
    "name": "ipython",
    "version": 3
   },
   "file_extension": ".py",
   "mimetype": "text/x-python",
   "name": "python",
   "nbconvert_exporter": "python",
   "pygments_lexer": "ipython3",
   "version": "3.8.5"
  }
 },
 "nbformat": 4,
 "nbformat_minor": 4
}
