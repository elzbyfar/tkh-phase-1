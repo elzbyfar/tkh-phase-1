{
 "cells": [
  {
   "cell_type": "markdown",
   "metadata": {},
   "source": [
    "<div style=\"background: #000;\n",
    "            color: #FFF;\n",
    "            margin: 0px;\n",
    "                padding: 10px 0px 20px 0px;\n",
    "            text-align: center; \n",
    "                \">\n",
    "    <h1>Week 2 Class 3 Lab</h1>\n",
    "</div>"
   ]
  },
  {
   "cell_type": "markdown",
   "metadata": {},
   "source": [
    "# Question 1\n",
    "\n",
    "When might you use a dictionary? Why? Explain in your own words"
   ]
  },
  {
   "cell_type": "markdown",
   "metadata": {},
   "source": [
    "A dictionary might come in handy if the data you'd like to manage is unordered and calls for a paired or key-value relationship. If you need to data to be easily changeable, it might also be a good idea to use a dictionary. The reason for this, dictionaries are iterable in multiple ways and they allow for easy access of values via its keys. "
   ]
  },
  {
   "cell_type": "markdown",
   "metadata": {},
   "source": [
    "# Question 2\n",
    "\n",
    "When might you use a set? Why? Explain in your own words."
   ]
  },
  {
   "cell_type": "markdown",
   "metadata": {},
   "source": [
    "We might use a set when we have a data set where we don't want duplicate items. For instance, if a list contains duplicates but we would like to reduce it to contain only unique values, we might want to cast that list as a set. "
   ]
  },
  {
   "cell_type": "markdown",
   "metadata": {},
   "source": [
    "# Exercise 1 \n",
    "\n",
    "Create a dictionary and populate it with keys from 0 to 9 and a default value of \"None\". Then set the values of all keys divisible by 2 to be the value times itself. "
   ]
  },
  {
   "cell_type": "code",
   "execution_count": 3,
   "metadata": {},
   "outputs": [
    {
     "name": "stdout",
     "output_type": "stream",
     "text": [
      "{0: 0, 1: None, 2: 4, 3: None, 4: 8, 5: None, 6: 12, 7: None, 8: 16, 9: None}\n"
     ]
    }
   ],
   "source": [
    "d = {}\n",
    "\n",
    "for i in range(10):\n",
    "    if i % 2 == 0:\n",
    "        d[i] = i * 2\n",
    "    else:\n",
    "        d[i] = None\n",
    "        \n",
    "print(d)"
   ]
  },
  {
   "cell_type": "markdown",
   "metadata": {},
   "source": [
    "# Exercise 2\n",
    "\n",
    "Given a list of words and utilizing set methods print the words that can be typed using letters of alphabet on only one row's of the (American) keyboard. You may use one character in the keyboard more than once. \n",
    "\n",
    " "
   ]
  },
  {
   "cell_type": "code",
   "execution_count": 7,
   "metadata": {},
   "outputs": [
    {
     "data": {
      "text/plain": [
       "['type', 'router', 'dash', 'top', 'rower']"
      ]
     },
     "execution_count": 7,
     "metadata": {},
     "output_type": "execute_result"
    }
   ],
   "source": [
    "words = ['type', 'router', 'pine', 'dash', 'top', 'rower', 'freedom']\n",
    "\n",
    "\n",
    "# Sets\n",
    "top_row = {'q', 'w', 'e', 'r', 't', 'y', 'u', 'i', 'o', 'p'}\n",
    "mid_row = {'a', 's', 'd', 'f', 'g', 'h', 'j', 'k', 'l'}\n",
    "bot_row = {'z','x','c','v','b','n','m'}\n",
    "\n",
    "# Array of strings that match the criteria\n",
    "all_in_one_row = []\n",
    "\n",
    "\n",
    "# Iterate through list and check if word is a subset of row sets\n",
    "for w in words:\n",
    "    w_set = set(w)\n",
    "    if w_set.issubset(top_row) or w_set.issubset(mid_row) or w_set.issubset(bot_row):\n",
    "        all_in_one_row += [w]\n",
    "\n",
    "all_in_one_row"
   ]
  },
  {
   "cell_type": "markdown",
   "metadata": {},
   "source": [
    "# Exercise 3\n",
    "\n",
    "Given a list of students, find the students who favorite colors are the same utitlizng set methods. Print the name of the students who share similar tastes in colors. "
   ]
  },
  {
   "cell_type": "code",
   "execution_count": 6,
   "metadata": {},
   "outputs": [
    {
     "data": {
      "text/plain": [
       "[{'name': 'Rob', 'student_id': 115, 'favorite_colors': {'green', 'red'}},\n",
       " {'name': 'Clara',\n",
       "  'student_id': 15,\n",
       "  'favorite_colors': {'blue', 'green', 'red'}},\n",
       " {'name': 'Sally', 'student_id': 21, 'favorite_colors': {'black'}},\n",
       " {'name': 'Jim', 'student_id': 33, 'favorite_colors': {'blue', 'green'}}]"
      ]
     },
     "execution_count": 6,
     "metadata": {},
     "output_type": "execute_result"
    }
   ],
   "source": [
    "students = [{\"name\":\"Rob\",\"student_id\": 115, \"favorite_colors\":{\"red\",\"green\"}},{\"name\":\"Clara\",\"student_id\": 15, \"favorite_colors\":{\"blue\",\"red\",\"green\"}}, {\"name\":\"Sally\",\"student_id\": 21, \"favorite_colors\":{\"black\"}}, {\"name\":\"Jim\",\"student_id\": 33, \"favorite_colors\":{\"blue\",\"green\"}}]\n",
    "\n",
    "students"
   ]
  },
  {
   "cell_type": "code",
   "execution_count": 45,
   "metadata": {},
   "outputs": [
    {
     "name": "stdout",
     "output_type": "stream",
     "text": [
      "{'Clara'} Like Red and Blue\n",
      "{'Clara', 'Jim'} Like Blue and Green\n",
      "{'Rob', 'Clara'} Like Green and Red\n"
     ]
    }
   ],
   "source": [
    "# Not sure what the desired outcome is here but...\n",
    "\n",
    "# Initialize sets\n",
    "reds = set()\n",
    "blues = set()\n",
    "greens = set()\n",
    "\n",
    "# Iterate through list of objects and add names to sets where colors match.\n",
    "for s in students:\n",
    "    if 'red' in s['favorite_colors']:\n",
    "        reds.add(s['name'])\n",
    "        \n",
    "    if 'blue' in s['favorite_colors']:\n",
    "        blues.add(s['name'])\n",
    "        \n",
    "    if 'green' in s['favorite_colors']:\n",
    "        greens.add(s['name'])\n",
    "\n",
    "# Print sets\n",
    "print(reds.intersection(blues), \"Like Red and Blue\")\n",
    "print(blues.intersection(greens), \"Like Blue and Green\")\n",
    "print(greens.intersection(reds), \"Like Green and Red\")\n"
   ]
  },
  {
   "cell_type": "code",
   "execution_count": null,
   "metadata": {},
   "outputs": [],
   "source": []
  }
 ],
 "metadata": {
  "kernelspec": {
   "display_name": "Python 3",
   "language": "python",
   "name": "python3"
  },
  "language_info": {
   "codemirror_mode": {
    "name": "ipython",
    "version": 3
   },
   "file_extension": ".py",
   "mimetype": "text/x-python",
   "name": "python",
   "nbconvert_exporter": "python",
   "pygments_lexer": "ipython3",
   "version": "3.8.5"
  }
 },
 "nbformat": 4,
 "nbformat_minor": 4
}
