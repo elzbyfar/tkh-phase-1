{
 "cells": [
  {
   "cell_type": "markdown",
   "metadata": {},
   "source": [
    "<div style=\"background: #000;\n",
    "            color: #FFF;\n",
    "            margin: 0px;\n",
    "                padding: 10px 0px 20px 0px;\n",
    "            text-align: center; \n",
    "                \">\n",
    "    <h1>Week 3 - Class 1 - Lab</h1>\n",
    "</div>\n"
   ]
  },
  {
   "cell_type": "markdown",
   "metadata": {},
   "source": [
    "# Question 1\n",
    "    \n",
    "Why do we need control structures and conditionals? Name one scenario we've encountered in previous assignments that could have benefitted from the use of these things. How would it have helped?"
   ]
  },
  {
   "cell_type": "markdown",
   "metadata": {},
   "source": [
    "Control structures and conditionals help us create logical pathways for handling data. There are countless use-cases for these techniques. In the first few weeks of this program there have been many situations that call for conditionals or control structures --kind of hard to pin point one in particular. As a rule of thumb though, if our data or a certain calculation in our code can result in more than one possible outcome, we ought to equip our code with one of these solutions as a means of yielding adequate data, and/or granting access to certain behaviors.  "
   ]
  },
  {
   "cell_type": "markdown",
   "metadata": {},
   "source": [
    "# Exercise 1\n",
    "\n",
    "Given the input variable, write conditional statements to return True if an element:\n",
    "* contains a string longer than 30.\n",
    "* is a number greater than 30.\n",
    "* is a string less than 30 characters containing a number.\n",
    "* otherwise store the value to a list."
   ]
  },
  {
   "cell_type": "code",
   "execution_count": 1,
   "metadata": {},
   "outputs": [],
   "source": [
    "left_over_data = []"
   ]
  },
  {
   "cell_type": "code",
   "execution_count": 221,
   "metadata": {},
   "outputs": [
    {
     "name": "stdout",
     "output_type": "stream",
     "text": [
      "Press buttons on your keyboard please: 31j\n",
      "It's True that this is an alpha-num in a short string.\n"
     ]
    }
   ],
   "source": [
    "# Works for most primitive values.\n",
    "\n",
    "data = input(\"Press buttons on your keyboard please: \")\n",
    "\n",
    "if data.isalpha() and len(data) > 30:\n",
    "    print(f\"It's {True} that this is a long string.\")\n",
    "elif data.isalnum() and len(data) < 30 and not data.isnumeric():\n",
    "    print(f\"It's {True} that this is an alpha-num in a short string.\")\n",
    "elif data.isnumeric() and int(data) > 30:\n",
    "    print(f\"It's {True} that this is a number greater than 30.\")\n",
    "else:\n",
    "    left_over_data.append(data)\n",
    "    print(left_over_data)"
   ]
  },
  {
   "cell_type": "markdown",
   "metadata": {},
   "source": [
    "# Exercise 2\n",
    "\n",
    "Create a \"switch\" statement that takes a number and prints \"fizz\" if the number is greater than 0 **and** even, \"buzz\" if greater than 0 and odd, an absolute value of the number if negative, \"ZERO\" if 0 and \"not a number\" otherwise. \n"
   ]
  },
  {
   "cell_type": "code",
   "execution_count": 222,
   "metadata": {},
   "outputs": [
    {
     "name": "stdout",
     "output_type": "stream",
     "text": [
      "14\n",
      "ZERO\n",
      "buzz\n",
      "fizz\n",
      "buzz\n",
      "buzz\n",
      "That's not a number bruh.\n",
      "That's not a number bruh.\n",
      "That's not a number bruh.\n"
     ]
    }
   ],
   "source": [
    "# I created a function that takes an input and can handle most types of inputs as desired.\n",
    "# I couldn't think of a way to easily handle a string with a decimal in it like \"12.2\".\n",
    "\n",
    "def fb_challenge(n):\n",
    "    if type(n) == int or type(n) == float or n.isnumeric():\n",
    "        n = int(n)\n",
    "        if n > 0 and n % 2 == 0:\n",
    "            print(\"fizz\")\n",
    "        elif n > 0 and n % 2 == 1:\n",
    "            print(\"buzz\")\n",
    "        elif n < 0:\n",
    "            print(abs(n))\n",
    "        else:\n",
    "            print(\"ZERO\")\n",
    "    else:\n",
    "        print(\"That's not a number bruh.\")\n",
    "\n",
    "values = [-14, 0, 3, 4, 11.2, \"11\", \"12.2\", \"32b\", \"hello\"]\n",
    "\n",
    "for item in values:\n",
    "    fb_challenge(item)"
   ]
  },
  {
   "cell_type": "markdown",
   "metadata": {},
   "source": [
    "# Exercise 3\n",
    "\n",
    "Using the following code. Write an if statement that takes the `value` returned by the `random_function` and does the following:\n",
    "* print \"true\" if False\n",
    "* print \"false\" if True,\n",
    "* sorts a string and prints it if the string is all lowercase\n",
    "* prints \"one char\" if there's a single uppercase character\n",
    "* prints \"string\" if the other two don't apply (hint: nest)\n",
    "* append the value to a list if a number greater or equal to 0.\n",
    "* add the absolute value of a negative number to a sum\n"
   ]
  },
  {
   "cell_type": "code",
   "execution_count": 223,
   "metadata": {},
   "outputs": [],
   "source": [
    "import random \n",
    "import string\n",
    "def random_string():\n",
    "    letters = string.ascii_letters\n",
    "    r = [random.choice(letters) for i in range(4)]\n",
    "    return \"\".join(r)\n",
    "def random_number():\n",
    "    return random.randint(-1000,1000)\n",
    "def random_bool():\n",
    "    return bool(random.randint(0,1))\n",
    "def random_function():\n",
    "    s = {\n",
    "        0: random_string(),\n",
    "        1: random_number(), \n",
    "        2: random_bool(),\n",
    "    }\n",
    "    return s[random.randint(0, 2)]"
   ]
  },
  {
   "cell_type": "code",
   "execution_count": 224,
   "metadata": {},
   "outputs": [],
   "source": [
    "total = 0\n",
    "num_list = []"
   ]
  },
  {
   "cell_type": "code",
   "execution_count": 242,
   "metadata": {},
   "outputs": [
    {
     "name": "stdout",
     "output_type": "stream",
     "text": [
      "-755 is the value, and 2568 is the running total.\n"
     ]
    }
   ],
   "source": [
    "value = random_function()\n",
    "\n",
    "if value == True:\n",
    "    print('false')\n",
    "elif value == False:\n",
    "    print('true')\n",
    "elif str(value).isalpha():\n",
    "    if str(value).islower():\n",
    "        print(\"\".join(sorted(value)), \"is the sorted string\")\n",
    "    elif len([c for c in str(value) if c.isupper()]) == 1:\n",
    "        print(\"one char\")\n",
    "    else:\n",
    "        print(\"string\")\n",
    "elif value >= 0:\n",
    "    num_list.append(value)\n",
    "    print(num_list)\n",
    "elif value < 0:\n",
    "    total += abs(value)\n",
    "    print(f\"{value} is the value, and {total} is the running total.\")\n",
    "else:\n",
    "    print(f\"Not sure what to do with the value {value}.\")"
   ]
  }
 ],
 "metadata": {
  "kernelspec": {
   "display_name": "Python 3",
   "language": "python",
   "name": "python3"
  },
  "language_info": {
   "codemirror_mode": {
    "name": "ipython",
    "version": 3
   },
   "file_extension": ".py",
   "mimetype": "text/x-python",
   "name": "python",
   "nbconvert_exporter": "python",
   "pygments_lexer": "ipython3",
   "version": "3.8.5"
  }
 },
 "nbformat": 4,
 "nbformat_minor": 4
}
