{
 "cells": [
  {
   "cell_type": "markdown",
   "metadata": {},
   "source": [
    "<div style=\"background: #000;\n",
    "            color: #FFF;\n",
    "            margin: 0px;\n",
    "                padding: 10px 0px 20px 0px;\n",
    "            text-align: center; \n",
    "                \">\n",
    "    <h1>Week 6 - Class 1 - Lab</h1>\n",
    "</div>\n"
   ]
  },
  {
   "cell_type": "markdown",
   "metadata": {},
   "source": [
    "# Question 1\n",
    "\n",
    "What is a class? What is an object? What is the difference? How can we use objects in python?"
   ]
  },
  {
   "cell_type": "markdown",
   "metadata": {},
   "source": [
    "Objects are encapsulations of code, namely attributes and functions (aka methods). An object is created from a class. A class is a just template, like a cookie cutter of sorts. A cookie cutter that we can use to shape the objects that are subsequently created from it. "
   ]
  },
  {
   "cell_type": "markdown",
   "metadata": {},
   "source": [
    "# Execise 1\n",
    "\n",
    "Create a class. Show that the class can be used to create an object."
   ]
  },
  {
   "cell_type": "code",
   "execution_count": 3,
   "metadata": {},
   "outputs": [
    {
     "name": "stdout",
     "output_type": "stream",
     "text": [
      "Michael\n"
     ]
    }
   ],
   "source": [
    "class Creator:\n",
    "    \n",
    "    name = \"Michael\"\n",
    "    \n",
    "    def say_name(self):\n",
    "        print(self.name)\n",
    "    \n",
    "\n",
    "mike = Creator()\n",
    "mike.say_name()"
   ]
  },
  {
   "cell_type": "markdown",
   "metadata": {},
   "source": [
    "# Exercise 2\n",
    "\n",
    "Create a class including an `__init__` function that initializes some sort of state when objects are created. Demonstrate that the state is initialized."
   ]
  },
  {
   "cell_type": "code",
   "execution_count": 23,
   "metadata": {},
   "outputs": [
    {
     "name": "stdout",
     "output_type": "stream",
     "text": [
      "luis\n",
      "San Antonio\n"
     ]
    },
    {
     "data": {
      "text/plain": [
       "'Michael'"
      ]
     },
     "execution_count": 23,
     "metadata": {},
     "output_type": "execute_result"
    }
   ],
   "source": [
    "class Creator:\n",
    "    def __init__(self,name=\"Mike\",location=\"BX\"):\n",
    "        self.name = name\n",
    "        self.location = location\n",
    "    \n",
    "    def say_name(self):\n",
    "        return self.name\n",
    "        \n",
    "    def where_ya_at(self):\n",
    "        return self.location\n",
    "        \n",
    "luis = Creator(\"luis\", \"San Antonio\")\n",
    "\n",
    "print(luis.say_name())\n",
    "print(luis.where_ya_at())\n",
    "\n",
    "\n",
    "mike2 = Creator(location=\"The bronx\", name=\"Michael\")\n",
    "\n",
    "mike2.say_name()"
   ]
  },
  {
   "cell_type": "markdown",
   "metadata": {},
   "source": [
    "# Exercise 3\n",
    "\n",
    "Building on our point example, add code to alter the class to store three values `x`, `y`, and `z`. Bonus if you're able to implement the distance method for this new class."
   ]
  },
  {
   "cell_type": "code",
   "execution_count": 1,
   "metadata": {},
   "outputs": [
    {
     "data": {
      "text/plain": [
       "5.39"
      ]
     },
     "execution_count": 1,
     "metadata": {},
     "output_type": "execute_result"
    }
   ],
   "source": [
    "import math\n",
    "\n",
    "class Point:\n",
    "    def __init__(self, x, y, z):\n",
    "        if type(x) == int and type(y) == int and type(z) == int:\n",
    "            self.x = x\n",
    "            self.y = y\n",
    "            self.z = z\n",
    "        else:\n",
    "            print(\"You need actual numbers brauh\")\n",
    "            return None\n",
    "    \n",
    "    def calc_distance(self,another_instance):\n",
    "        x_diff = another_instance.x - self.x\n",
    "        y_diff = another_instance.y - self.y\n",
    "        z_diff = another_instance.z - self.z\n",
    "        \n",
    "        distance = math.sqrt(x_diff**2 + y_diff**2 + z_diff**2)\n",
    "        return float('{0:.2f}'.format(distance))\n",
    "        \n",
    "p = Point(1,1,1)\n",
    "q = Point(3,4,5)\n",
    "\n",
    "q.calc_distance(p)"
   ]
  },
  {
   "cell_type": "markdown",
   "metadata": {},
   "source": [
    "# Exercise 4\n",
    "\n",
    "Create an example of a class that uses either `@staticmethod` or `@classmethod`"
   ]
  },
  {
   "cell_type": "code",
   "execution_count": 12,
   "metadata": {},
   "outputs": [
    {
     "data": {
      "text/plain": [
       "'James Franco'"
      ]
     },
     "execution_count": 12,
     "metadata": {},
     "output_type": "execute_result"
    }
   ],
   "source": [
    "class Person:\n",
    "    def __init__(self, name, birth_year):\n",
    "        self.name = name\n",
    "        self.birth_year = birth_year\n",
    "        self.current_age = 0\n",
    "        self.is_alive = True\n",
    "        \n",
    "    def birthday(self):\n",
    "        if self.is_alive:\n",
    "            self.current_age += 1\n",
    "    \n",
    "    @staticmethod\n",
    "    def calc_age(instance, current_year):\n",
    "        return current_year - instance.birth_year\n",
    "    \n",
    "    @classmethod\n",
    "    def from_birth_certificate(cls, birth_certificate):\n",
    "        return cls(name=birth_certificate['name'], birth_year=birth_certificate['birth_year'])\n",
    "\n",
    "luis = Person('Luis', 1987)\n",
    "\n",
    "Person.calc_age(luis, 2020)\n",
    "\n",
    "james_birth_certificate = {\n",
    "    'name': \"James Franco\",\n",
    "    'birth_year': 1986\n",
    "}\n",
    "james = Person.from_birth_certificate(james_birth_certificate)\n",
    "james.name"
   ]
  },
  {
   "cell_type": "markdown",
   "metadata": {},
   "source": [
    "# Exercise 5\n",
    "\n",
    "Create an object called `Student` with attributes that store the `first_name`, `last_name`, and `age` of the student. Also create an attribute `hw_grades` that stores hw grades depending on how you think it might be stored. Create methods that prints the full name of the student, adds grades to the attribute`hw_grades` and even calculates the average hw grade. Use additional attributes and methods if needed.\n",
    "\n",
    "Demonstrate that your code works by creating an instance of the class and storing the requisite information."
   ]
  },
  {
   "cell_type": "code",
   "execution_count": 29,
   "metadata": {},
   "outputs": [
    {
     "data": {
      "text/plain": [
       "83.0"
      ]
     },
     "execution_count": 29,
     "metadata": {},
     "output_type": "execute_result"
    }
   ],
   "source": [
    "class Student:\n",
    "    def __init__(self, first_name, last_name, age):\n",
    "        self.first_name = first_name\n",
    "        self.last_name = last_name,\n",
    "        self.age = age\n",
    "        self.hw_grades = []\n",
    "    \n",
    "    def print_name(self):\n",
    "        full_name = f\"{self.first_name} {self.last_name}\"\n",
    "        print(full_name)\n",
    "    \n",
    "    def add_grade(self, *graded_hw):\n",
    "        for grade in graded_hw:\n",
    "            self.hw_grades.append(grade)\n",
    "        \n",
    "    def gpa(self):\n",
    "        grade_total = 0\n",
    "        hw_count = len(self.hw_grades)\n",
    "        for hw in self.hw_grades:\n",
    "            grade_total += hw['Grade']\n",
    "        return float('{0:.2f}'.format(grade_total / hw_count))\n",
    "    \n",
    "\n",
    "grade1 = {\n",
    "    'Subject': \"Math\",\n",
    "    'Date': '10/23/2020',\n",
    "    'Grade': 91\n",
    "}\n",
    "grade2 = {\n",
    "    'Subject': \"Science\",\n",
    "    'Date': '10/21/2020',\n",
    "    'Grade': 74\n",
    "}\n",
    "grade3 = {\n",
    "    'Subject': \"French\",\n",
    "    'Date': '10/17/2020',\n",
    "    'Grade': 84\n",
    "}\n",
    "luis = Student(\"Luis\", \"Alejo\", 33)\n",
    "luis.add_grade(grade1, grade2, grade3)\n",
    "\n",
    "luis.gpa()"
   ]
  },
  {
   "cell_type": "code",
   "execution_count": null,
   "metadata": {},
   "outputs": [],
   "source": []
  }
 ],
 "metadata": {
  "kernelspec": {
   "display_name": "Python 3",
   "language": "python",
   "name": "python3"
  },
  "language_info": {
   "codemirror_mode": {
    "name": "ipython",
    "version": 3
   },
   "file_extension": ".py",
   "mimetype": "text/x-python",
   "name": "python",
   "nbconvert_exporter": "python",
   "pygments_lexer": "ipython3",
   "version": "3.8.5"
  }
 },
 "nbformat": 4,
 "nbformat_minor": 4
}
