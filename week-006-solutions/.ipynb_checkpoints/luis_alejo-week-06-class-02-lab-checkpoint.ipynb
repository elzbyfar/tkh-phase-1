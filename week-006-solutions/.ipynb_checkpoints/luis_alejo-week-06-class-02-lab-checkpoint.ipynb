{
 "cells": [
  {
   "cell_type": "markdown",
   "metadata": {},
   "source": [
    "<div style=\"background: #000;\n",
    "            color: #FFF;\n",
    "            margin: 0px;\n",
    "                padding: 10px 0px 20px 0px;\n",
    "            text-align: center; \n",
    "                \">\n",
    "    <h1>Week 6 - Class 2 - Lab</h1>\n",
    "</div>\n"
   ]
  },
  {
   "cell_type": "markdown",
   "metadata": {},
   "source": [
    "## Question 1:\n",
    "    \n",
    "Explain one of the dunder methods describing what it does, how it works and why we might need to use it."
   ]
  },
  {
   "cell_type": "raw",
   "metadata": {},
   "source": [
    "Dunder methods are also known as magic methods in Python. One common use of Dunder Methods is operator overloading. We can accomplish this by redefining a built-in function such as __add__ and thus tweaking what the '+' operator will accomplish."
   ]
  },
  {
   "cell_type": "markdown",
   "metadata": {},
   "source": [
    "## Exercise 1:\n",
    "\n",
    "Create a class called `Employee`, add in attributes and methods you think would be associated with an employee. Use at least 2 attributes and 2 methods (not including the `__init__` method you'll create as well)."
   ]
  },
  {
   "cell_type": "code",
   "execution_count": 15,
   "metadata": {},
   "outputs": [
    {
     "name": "stdout",
     "output_type": "stream",
     "text": [
      "Has been trained? True\n",
      "In 1788 Alexander Hamilton became a Delegate to the Congress of the Confederation from New York.\n",
      "In 1799 Alexander Hamilton became the 8th Senior Officer of the US Army.\n"
     ]
    }
   ],
   "source": [
    "class Employee:\n",
    "    def __init__(self, name, role, start_date):\n",
    "        self.name = name\n",
    "        self.role = role\n",
    "        self.start_date = start_date\n",
    "        self.trained = False\n",
    "        \n",
    "    def training(self):\n",
    "        self.trained = True\n",
    "        return \"This is how to do the job.\"\n",
    "    \n",
    "    def promotion(self, title):\n",
    "        self.role = title\n",
    "        return f\"Congratulations! You are now a {title}\"\n",
    "    \n",
    "alex = Employee(\"Alexander Hamilton\", \"Secretary of the Treasury\", \"September 11th, 1789\")\n",
    "\n",
    "alex.training()\n",
    "print(\"Has been trained?\", alex.trained)\n",
    "\n",
    "alex.promotion(\"Delegate to the Congress of the Confederation from New York\")\n",
    "print(f\"In 1788 {alex.name} became a {alex.role}.\")\n",
    "\n",
    "alex.promotion(\"Senior Officer of the US Army\")\n",
    "print(f\"In 1799 {alex.name} became the 8th {alex.role}.\")"
   ]
  },
  {
   "cell_type": "markdown",
   "metadata": {},
   "source": [
    "## Exercise 2:\n",
    "\n",
    "Create a class called `Paper` with the `content`, `length`, `width`, `margin`, `print_layout` (landscape or portrait) and `doublesided` (boolean value) as attributes. Provide methods that allow us to change those attributes."
   ]
  },
  {
   "cell_type": "code",
   "execution_count": 39,
   "metadata": {},
   "outputs": [
    {
     "name": "stdout",
     "output_type": "stream",
     "text": [
      "480px is the original width\n",
      "768px is the updated width\n"
     ]
    }
   ],
   "source": [
    "class Paper:\n",
    "    def __init__(self, content, length, width, margin, print_layout, doublesided):\n",
    "        self.content = content\n",
    "        self.length = length\n",
    "        self.width = width \n",
    "        self.margin = margin\n",
    "        self.print_layout = print_layout\n",
    "        self.doublesided = doublesided\n",
    "        \n",
    "    def _content(self, value):\n",
    "        self.content = value\n",
    "        \n",
    "    def _length(self, value):\n",
    "        self.length = value\n",
    "    \n",
    "    def _width(self, value):\n",
    "        self.width = value\n",
    "    \n",
    "    def _margin(self, value):\n",
    "        self.margin = value\n",
    "    \n",
    "    def _layout(self, value):\n",
    "        self.print_layout = value\n",
    "        \n",
    "    def _doublesided(self, value):\n",
    "        self.doublesided = value\n",
    "\n",
    "\n",
    "mobile_paper = Paper('This paper is about something real interesting', '700px', '480px', None, 'portrait', False)\n",
    "print(mobile_paper.width, \"is the original width\")\n",
    "\n",
    "mobile_paper._width('768px')\n",
    "mobile_paper._length('960px')\n",
    "print(mobile_paper.width, \"is the updated width\")"
   ]
  },
  {
   "cell_type": "markdown",
   "metadata": {},
   "source": [
    "## Exercise 3\n",
    "\n",
    "Create a class called `Printer` that implements a queue. You should be able to store `Paper` objects in this queue so provide methods that add instances of `Paper` to the `Printer`'s queue and a toy method that \"prints\" `n` amount of \"jobs\" from the queue at a time. Demonstrate that this code works."
   ]
  },
  {
   "cell_type": "code",
   "execution_count": 76,
   "metadata": {},
   "outputs": [
    {
     "name": "stdout",
     "output_type": "stream",
     "text": [
      "[(1, 'This paper is about something real interesting'), (2, 'This is paper number 1')]\n",
      "[(1, 'This is paper number 2'), (2, 'This is paper number 3'), (3, 'This is paper number 4'), (4, 'This is paper number 5')]\n"
     ]
    }
   ],
   "source": [
    "# There is a lot happening here..I got carried away a bit:\n",
    "\n",
    "class Printer():\n",
    "    def __init__(self):\n",
    "        self.print_queue = []\n",
    "    \n",
    "    # Add papers to queue\n",
    "    def new_to_queue(self, *papers):\n",
    "        [self.print_queue.append(paper) for paper in papers]\n",
    "        return f\"{len(papers)} have been successfully added to the print queue!\"\n",
    "    \n",
    "    # Actually performing the queue action of first in first out\n",
    "    def print_first(self, n):\n",
    "        if type(n) == int:\n",
    "            # Determine if the amount of prints requested is valid. In the event you try to print more papers than are currently in the queue it will notify you and ask you to enter a smaller number.\n",
    "            queue_count = len(self.print_queue)\n",
    "            if n > queue_count:\n",
    "                continuing = False\n",
    "                while not continuing:\n",
    "                    continuing = (input(f\"Sorry, there are only {queue_count} papers in the queue. ;-( Would you like me to print those? [Y/N] \")).lower()\n",
    "                    if continuing == 'y' or continuing == 'ye' or continuing == 'yes':\n",
    "                        updated_num = int(input(f\"How many papers do you want to print? [Max: {queue_count}]\"))\n",
    "                        if updated_num > queue_count:\n",
    "                            continuing = False\n",
    "                        else:\n",
    "                            continuing = True\n",
    "                            n = updated_num\n",
    "                    elif continuing == 'n' or continuing == 'no':\n",
    "                        return \"Okay, see you later.\"\n",
    "                    else:\n",
    "                        print(\"Please enter a valid response!\")\n",
    "                        continuing = False\n",
    "            \n",
    "            # If number of prints is valid:\n",
    "            papers_to_print = enumerate(self.print_queue[:n])\n",
    "            self.print_queue = self.print_queue[n:]\n",
    "            return [(n+1, paper.content) for n,paper in papers_to_print]\n",
    "        else:\n",
    "            num = input(\"Please enter a number of prints you'd like to make: \")\n",
    "            if num.isnumeric():\n",
    "                return self.print_first(int(num))\n",
    "            else:\n",
    "                return self.print_first(num)\n",
    "            \n",
    "        \n",
    "desktop_papers = []\n",
    "\n",
    "for i in range(20):\n",
    "    new_paper = Paper(f\"This is paper number {i+1}\", '1080px', '1920px', 1, 'portrait', True)\n",
    "    desktop_papers.append(new_paper)\n",
    "\n",
    "\n",
    "printer = Printer()\n",
    "printer.new_to_queue(mobile_paper, *desktop_papers)\n",
    "printer.print_queue\n",
    "print(printer.print_first(2))\n",
    "print(printer.print_first(4))"
   ]
  },
  {
   "cell_type": "markdown",
   "metadata": {},
   "source": [
    "## Exercise 4:\n",
    "    \n",
    "Create a class called `Square` that overloads the addition operator by adding the area of two squares. You will need at least an attribute for length, a method for calculating area and the overloaded `+` operator method.\n",
    "\n",
    "e.g. `Square(3) + Square(4) == 25`"
   ]
  },
  {
   "cell_type": "code",
   "execution_count": 83,
   "metadata": {},
   "outputs": [
    {
     "data": {
      "text/plain": [
       "125"
      ]
     },
     "execution_count": 83,
     "metadata": {},
     "output_type": "execute_result"
    }
   ],
   "source": [
    "class Square:\n",
    "    def __init__(self, length):\n",
    "        self.length = length\n",
    "        \n",
    "    def area(self):\n",
    "        return self.length * self.length\n",
    "        \n",
    "    def __add__(self, obj):\n",
    "        if isinstance(obj, Square):\n",
    "            return self.area() + obj.area()\n",
    "        \n",
    "Square(5) + Square(10)"
   ]
  },
  {
   "cell_type": "code",
   "execution_count": null,
   "metadata": {},
   "outputs": [],
   "source": []
  }
 ],
 "metadata": {
  "kernelspec": {
   "display_name": "Python 3",
   "language": "python",
   "name": "python3"
  },
  "language_info": {
   "codemirror_mode": {
    "name": "ipython",
    "version": 3
   },
   "file_extension": ".py",
   "mimetype": "text/x-python",
   "name": "python",
   "nbconvert_exporter": "python",
   "pygments_lexer": "ipython3",
   "version": "3.8.5"
  }
 },
 "nbformat": 4,
 "nbformat_minor": 4
}
