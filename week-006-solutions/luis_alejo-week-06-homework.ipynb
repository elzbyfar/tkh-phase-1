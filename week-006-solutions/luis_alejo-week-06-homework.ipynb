{
 "cells": [
  {
   "cell_type": "markdown",
   "metadata": {},
   "source": [
    "<div style=\"background: #000;\n",
    "            color: #FFF;\n",
    "            margin: 0px;\n",
    "                padding: 10px 0px 20px 0px;\n",
    "            text-align: center; \n",
    "                \">\n",
    "    <h1>Week 6 - Homework</h1>\n",
    "</div>\n",
    "\n",
    "<pre style=\"text-align:center;\">\n",
    "Exercise 1 is due Monday 10/26\n",
    "Exercise 2 is due Tuesday 10/27\n",
    "Exercise 3 is due Wednesday 10/28\n",
    "</pre>"
   ]
  },
  {
   "cell_type": "markdown",
   "metadata": {},
   "source": [
    "# Exercise 1\n",
    "\n",
    "Create a class called `Course` and a class called `Student` based on what you think they will need. Create a way to store 20 \"students\" (instances of the `Student` class into an instance of `Course` to represent our Data Science course. \n",
    "\n",
    "Demonstrate that your code works. Message on slack if stuck or need clarification."
   ]
  },
  {
   "cell_type": "code",
   "execution_count": 15,
   "metadata": {},
   "outputs": [
    {
     "data": {
      "text/plain": [
       "['Amy',\n",
       " 'Anil',\n",
       " 'Anna',\n",
       " 'Bryant',\n",
       " 'Chioma',\n",
       " 'Clariza',\n",
       " 'Claudia',\n",
       " 'Elston',\n",
       " 'Fausto',\n",
       " 'Gyasi',\n",
       " 'Irene',\n",
       " 'Ishraq',\n",
       " 'Janet',\n",
       " 'Jessica',\n",
       " 'Joe',\n",
       " 'Juan',\n",
       " 'Judi',\n",
       " 'Kari',\n",
       " 'Luis',\n",
       " 'Malcolm',\n",
       " 'Michael',\n",
       " 'Nickala',\n",
       " 'Rakhshanda',\n",
       " 'Stani']"
      ]
     },
     "execution_count": 15,
     "metadata": {},
     "output_type": "execute_result"
    }
   ],
   "source": [
    "class Course:\n",
    "    def __init__(self, on_campus, teacher):\n",
    "        self.on_campus = on_campus\n",
    "        self.teacher = teacher\n",
    "        self.students = []\n",
    "    \n",
    "    def new_student(self, student):\n",
    "        self.students.append(student)\n",
    "    \n",
    "class Student:\n",
    "    def __init__(self, name, new_yorker):\n",
    "        self.name = name\n",
    "        self.new_yorker = new_yorker\n",
    "    \n",
    "data_sci_general = [\n",
    "    'Amy',\n",
    "    'Anil',\n",
    "    'Anna',\n",
    "    'Bryant',\n",
    "    'Chioma',\n",
    "    'Clariza',\n",
    "    'Claudia',\n",
    "    'Elston',\n",
    "    'Fausto',\n",
    "    'Gyasi',\n",
    "    'Irene',\n",
    "    'Ishraq',\n",
    "    'Janet',\n",
    "    'Jessica',\n",
    "    'Joe',\n",
    "    'Juan',\n",
    "    'Judi',\n",
    "    'Kari',\n",
    "    'Luis',\n",
    "    'Malcolm',\n",
    "    'Michael',\n",
    "    'Nickala',\n",
    "    'Rakhshanda',\n",
    "    'Stani'\n",
    "]\n",
    "\n",
    "student_entries = [Student(name, False) if name == 'Luis' else Student(name, True) for name in data_sci_general]\n",
    "\n",
    "data_sci = Course(False, \"Anil\")\n",
    "\n",
    "for student in student_entries:\n",
    "    data_sci.new_student(student)\n",
    "\n",
    "[student.name for student in data_sci.students]"
   ]
  },
  {
   "cell_type": "markdown",
   "metadata": {},
   "source": [
    "# Exercise 2\n",
    "\n",
    "Create a class called `SafeFloat` that stores an attribute called `num` as an instance attribute set during initialization and sets `num_as_float` based on `num`\n",
    "\n",
    "Include the following three methods:\n",
    "\n",
    "`to_float` - that converts `num` to a float and stores that an attribute `num_as_float`. If `num` cannot be converted, set `num_as_float` to `None`. Do on mutate the original `num`, we'd like to keep it.\n",
    "\n",
    "`check_type` - that returns `True` if `num_as_float` is a float. It should create `num_as_float` if it doesn't exist. \n",
    "\n",
    "and a method that overrides the addition operator so that when instances of `SafeFloat` are added, `num_as_float` is used to add. Return the sum of the two instances or return `None` if the two cannot be added.\n",
    "\n",
    "Demonstrate that this works for strings, ints, bools and floats."
   ]
  },
  {
   "cell_type": "code",
   "execution_count": 24,
   "metadata": {},
   "outputs": [
    {
     "name": "stdout",
     "output_type": "stream",
     "text": [
      "0.0\n",
      "0.0\n",
      "True\n",
      "True\n",
      "0.0\n"
     ]
    }
   ],
   "source": [
    "class SafeFloat:\n",
    "    def __init__(self, num):\n",
    "        self.num = num\n",
    "        self.num_as_float = float(num)\n",
    "        \n",
    "    def to_float(self, num):\n",
    "        if type(num) == int or num.isnumeric():\n",
    "            n = float(num)\n",
    "            self.num_as_float = n\n",
    "        else:\n",
    "            self.num_as_float = None\n",
    "            \n",
    "    def check_type(self):\n",
    "        if type(self.num_as_float) == float:\n",
    "            return True\n",
    "        else:\n",
    "            self.num_as_float = 0.0\n",
    "    \n",
    "    def __add__(self, sf_obj):\n",
    "        return self.num_as_float + sf_obj.num_as_float\n",
    "\n",
    "        \n",
    "# test with ints, floats, bools and strings\n",
    "e = SafeFloat(0)\n",
    "f = SafeFloat(0)\n",
    "print(e.num_as_float)\n",
    "print(f.num_as_float)\n",
    "print(e.check_type())\n",
    "print(f.check_type())\n",
    "print(e + f)"
   ]
  },
  {
   "cell_type": "markdown",
   "metadata": {},
   "source": [
    "# Exercise 3\n",
    "\n",
    "Create a base class `Shape` and two classes that inherits that base class called `Triangle` and `Rectangle`. Consider what those two share in common (height and width) and use that to create your base class `Shape`. Create a method for base class called `area` that returns `None` for the base class. Override that method for `Triangle` and `Rectangle` so instances of those two classes can calculate the correct area.\n",
    "\n",
    "Demonstrate that your code works."
   ]
  },
  {
   "cell_type": "code",
   "execution_count": 5,
   "metadata": {},
   "outputs": [
    {
     "name": "stdout",
     "output_type": "stream",
     "text": [
      "5000\n",
      "5000\n"
     ]
    }
   ],
   "source": [
    "class Shape:\n",
    "    def __init__(self, width, height):\n",
    "        self.width = width\n",
    "        self.height = height\n",
    "        \n",
    "    def area(self):\n",
    "        return self.height * self.width\n",
    "    \n",
    "    \n",
    "class Triangle(Shape):\n",
    "    def __init__(self, width, height):\n",
    "        Shape.__init__(self, width, height)\n",
    "    \n",
    "    def triangular_area(self):\n",
    "        return self.area()\n",
    "    \n",
    "class Rectangle(Shape):\n",
    "    def __init__(self, width, height):\n",
    "        Shape.__init__(self, width, height)\n",
    "        \n",
    "    def rectangular_area(self):\n",
    "        return self.area()\n",
    "    \n",
    "\n",
    "t = Triangle(100,50)\n",
    "print(t.triangular_area())\n",
    "\n",
    "r = Rectangle(50,100)\n",
    "print(r.rectangular_area())"
   ]
  },
  {
   "cell_type": "code",
   "execution_count": null,
   "metadata": {},
   "outputs": [],
   "source": []
  }
 ],
 "metadata": {
  "kernelspec": {
   "display_name": "Python 3",
   "language": "python",
   "name": "python3"
  },
  "language_info": {
   "codemirror_mode": {
    "name": "ipython",
    "version": 3
   },
   "file_extension": ".py",
   "mimetype": "text/x-python",
   "name": "python",
   "nbconvert_exporter": "python",
   "pygments_lexer": "ipython3",
   "version": "3.8.5"
  }
 },
 "nbformat": 4,
 "nbformat_minor": 4
}
