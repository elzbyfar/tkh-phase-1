{
 "cells": [
  {
   "cell_type": "markdown",
   "metadata": {},
   "source": [
    "<div style=\"background: #000;\n",
    "            color: #FFF;\n",
    "            margin: 0px;\n",
    "                padding: 10px 0px 20px 0px;\n",
    "            text-align: center; \n",
    "                \">\n",
    "    <h1>Week 6 - Class 3 - Lab</h1>\n",
    "</div>\n"
   ]
  },
  {
   "cell_type": "markdown",
   "metadata": {},
   "source": [
    "# Question 1\n",
    "\n",
    "What is object inheritance? What does it mean for a class instance to inherit another? How can this be useful in our programming?"
   ]
  },
  {
   "cell_type": "markdown",
   "metadata": {},
   "source": [
    "Object inheritance is a concept in OOP that allows an object or class to be based on a different (often considered \"larger\" conceptually) object. The object that is inheriting essentially \"receives\" all attributes and methods or only the ones that are relavant to it. An example is how an Singer class might inherent from an Entertainer class. All Singers are Entertainers but not all Entertainers are Singers."
   ]
  },
  {
   "cell_type": "markdown",
   "metadata": {},
   "source": [
    "# Exercise 1\n",
    "\n",
    "Create a class that uses `@property` with the associated `setter` and `deleter` methods."
   ]
  },
  {
   "cell_type": "code",
   "execution_count": 47,
   "metadata": {},
   "outputs": [
    {
     "data": {
      "text/plain": [
       "['Hamlet', 'Othello', 'Romeo + Juliet', 'Twilight', 'Macbeth', 'Julius Caesar']"
      ]
     },
     "execution_count": 47,
     "metadata": {},
     "output_type": "execute_result"
    }
   ],
   "source": [
    "class Author:\n",
    "    def __init__(self, name, century, books):\n",
    "        self.name = name\n",
    "        self.century = century\n",
    "        self.library = list(books)\n",
    "        \n",
    "    @property\n",
    "    def statement(self):\n",
    "        return f\"I am {self.name}, the author of {len(self.books)} books in the {self.century} century.\"\n",
    "    \n",
    "    @statement.setter\n",
    "    def statement(self, statement):\n",
    "        words = statement.split(\" \")\n",
    "        name = words[2:4]\n",
    "        book_count = words[7]\n",
    "        century = words[11]\n",
    "        return f\"I am {name}, the author of {book_count} books in the {century} century.\"\n",
    "        \n",
    "    @property\n",
    "    def books(self):\n",
    "        return self.library\n",
    "        \n",
    "    @books.setter\n",
    "    def add_books(self, books):\n",
    "        for book in books:\n",
    "            self.library.append(book)\n",
    "    \n",
    "    @statement.deleter\n",
    "    def statement(self):\n",
    "        self.name, self.century, self.library = (None, None, None)\n",
    "        \n",
    "shakey_titles = [\"Hamlet\", \"Othello\", \"Romeo + Juliet\", \"Twilight\"]\n",
    "shakey = Author(\"William Shakespear\", \"Seventeenth\", shakey_titles)\n",
    "\n",
    "shakey.add_books = 'Macbeth', 'Julius Caesar'\n",
    "\n",
    "shakey.books\n"
   ]
  },
  {
   "cell_type": "markdown",
   "metadata": {},
   "source": [
    "# Exercise 2\n",
    "\n",
    "Using the following class, overload the `+` operator so when the two instances are added, the salaries are added and the sum is outputted. Also override the `__repr__` method so you can output a string that will create the same exact class (`\"Employee(**insert correct values here**)\"`)"
   ]
  },
  {
   "cell_type": "code",
   "execution_count": 52,
   "metadata": {},
   "outputs": [
    {
     "name": "stdout",
     "output_type": "stream",
     "text": [
      "Employee(Jeff, 22, 45000)\n",
      "Employee(Jake, 32, 60000)\n",
      "105000\n",
      "Employee(Jeff, 22, 45000)\n"
     ]
    }
   ],
   "source": [
    "class Employee:\n",
    "    def __init__(self, name, age, salary):\n",
    "        self.name = name\n",
    "        self.age = age\n",
    "        self.salary = salary\n",
    "        \n",
    "    # fix this code:\n",
    "    def __add__(self, other_emp):\n",
    "        if isinstance(other_emp, Employee):\n",
    "            return self.salary + other_emp.salary\n",
    "    \n",
    "    # fix this code:\n",
    "    def __repr__(self):\n",
    "        return \"Employee(\" + str(self.name) + \", \" + str(self.age) + \", \" + str(self.salary) + \")\"\n",
    "    \n",
    "empl1 = Employee('Jeff', 22, 45000)\n",
    "empl2 = Employee('Jake', 32, 60000)\n",
    "\n",
    "print(empl1)\n",
    "print(empl2)\n",
    "print(empl1 + empl2)\n",
    "\n",
    "\n",
    "emp_clone = repr(empl1)\n",
    "print(emp_clone)"
   ]
  },
  {
   "cell_type": "markdown",
   "metadata": {},
   "source": [
    "# Exercise 3:\n",
    "\n",
    "Create a class called `Store`, create an attribute called `inventory` that holds the product name as key and an int representing the count/number of that product as the value. \n",
    "\n",
    "Create a method that decrements from the product's count each time a specific product is purchased. Create a least one addtional method to help your class simulate a store (e.g. a method that lists the products for sale could be one). Also consider how you might want to add products to the store via the `__init__` method and later when the instance has already been created.\n",
    "\n",
    "When you're finished, create an instance of `Store` and demonstrate that your methods/code work. Bonus points for addtional methods/functionality."
   ]
  },
  {
   "cell_type": "code",
   "execution_count": 64,
   "metadata": {},
   "outputs": [
    {
     "name": "stdout",
     "output_type": "stream",
     "text": [
      "count \t product\n",
      "6 \t macbook\n",
      "10 \t iphone\n",
      "14 \t apple_watch\n"
     ]
    }
   ],
   "source": [
    "class Store:\n",
    "    def __init__(self, **products):\n",
    "        self.inventory = {name : count for name, count in products.items()}\n",
    "        \n",
    "    def purchase(self, item):\n",
    "        self.inventory[item] -= 1\n",
    "            \n",
    "    def get_inventory(self):\n",
    "        print('count', '\\t', 'product')\n",
    "        for product in self.inventory:\n",
    "            print(self.inventory[product],'\\t', product)\n",
    "            \n",
    "    def new_products(self, **products):\n",
    "        for name,count in products.items():\n",
    "            if name in self.inventory:\n",
    "                self.inventory[name] += count\n",
    "            else:\n",
    "                self.inventory[name] = count\n",
    "            \n",
    "            \n",
    "apple = Store(macbook=4, iphone=10)\n",
    "apple.new_products(apple_watch=14, macbook=3)\n",
    "apple.purchase('macbook')\n",
    "apple.get_inventory()"
   ]
  },
  {
   "cell_type": "markdown",
   "metadata": {},
   "source": [
    "# Exercise 4:\n",
    "\n",
    "Create two classes. One that acts as a parent class and the other that acts as a child class that inherits from the parent. Create a method of the child class that uses attributes from the parent class. Demonstrate your code works by creating an instance of the child class and showing that the method works."
   ]
  },
  {
   "cell_type": "code",
   "execution_count": 76,
   "metadata": {},
   "outputs": [
    {
     "data": {
      "text/plain": [
       "('Mariah Carey', 'Singer')"
      ]
     },
     "execution_count": 76,
     "metadata": {},
     "output_type": "execute_result"
    }
   ],
   "source": [
    "class Entertainer:\n",
    "    def __init__(self, name, job):\n",
    "        self.name = name\n",
    "        self.job = job\n",
    "\n",
    "class Singer(Entertainer):\n",
    "    def __init__(self, name, song_count):\n",
    "        self.name = name\n",
    "        self.song_count = song_count\n",
    "        Entertainer.__init__(self, name, \"Singer\")\n",
    "\n",
    "    @property\n",
    "    def job_title(self):\n",
    "        \n",
    "        return self.name, self.job\n",
    "    \n",
    "mariah = Singer(\"Mariah Carey\", 411)\n",
    "mariah.job_title"
   ]
  },
  {
   "cell_type": "code",
   "execution_count": null,
   "metadata": {},
   "outputs": [],
   "source": []
  }
 ],
 "metadata": {
  "kernelspec": {
   "display_name": "Python 3",
   "language": "python",
   "name": "python3"
  },
  "language_info": {
   "codemirror_mode": {
    "name": "ipython",
    "version": 3
   },
   "file_extension": ".py",
   "mimetype": "text/x-python",
   "name": "python",
   "nbconvert_exporter": "python",
   "pygments_lexer": "ipython3",
   "version": "3.8.5"
  }
 },
 "nbformat": 4,
 "nbformat_minor": 4
}
