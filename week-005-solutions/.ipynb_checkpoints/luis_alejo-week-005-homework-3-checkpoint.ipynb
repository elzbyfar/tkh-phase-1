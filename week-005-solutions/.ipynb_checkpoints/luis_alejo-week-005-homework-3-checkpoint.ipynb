{
 "cells": [
  {
   "cell_type": "markdown",
   "metadata": {},
   "source": [
    "<div style=\"background: #000;\n",
    "            color: #FFF;\n",
    "            margin: 0px;\n",
    "                padding: 10px 0px 20px 0px;\n",
    "            text-align: center; \n",
    "                \">\n",
    "    <h1>Week 5 - Homework</h1>\n",
    "</div>\n",
    "\n",
    "<hr>\n",
    "<pre style=\"text-align: center;\">\n",
    "Exercise 1 due Monday before class time.\n",
    "Exercise 2 due Tuesday before class time.\n",
    "Exercise 3 due Wednesday before class time.\n",
    "</pre>\n",
    "<hr>\n"
   ]
  },
  {
   "cell_type": "markdown",
   "metadata": {},
   "source": [
    "# Exercise 3\n",
    "\n",
    "If we list all the natural numbers below 10 that are multiples of 3 or 5, we get 3, 5, 6 and 9. The sum of these multiples is 23.\n",
    "\n",
    "Create a function that returns the sum of all the multiples of 3 or 5 below `n` where `n` is the inputted number.\n",
    "\n",
    "e.g. \n",
    "\n",
    "```\n",
    "n=10 -> 23\n",
    "n=25 -> 143\n",
    "n=50 -> 543\n",
    "n=100 -> 2318\n",
    "```"
   ]
  },
  {
   "cell_type": "code",
   "execution_count": 74,
   "metadata": {},
   "outputs": [
    {
     "data": {
      "text/plain": [
       "23"
      ]
     },
     "execution_count": 74,
     "metadata": {},
     "output_type": "execute_result"
    }
   ],
   "source": [
    "# # Which of these is more efficient? Are they about the same. \n",
    "# # A list comprehension is basically O(n)..right?\n",
    "# # If that's true then the second one should be slightly faster. \n",
    "# # I used the timeit function but it's a semi inconsistent result after i run it several times.\n",
    "\n",
    "\n",
    "# def sum_of_threes_and_fives(n=100):\n",
    "#     sum = 0\n",
    "#     arr_set = [i for i in range(n) if i % 3 == 0 or i % 5 == 0]\n",
    "#     for i in arr_set:\n",
    "#         sum += i\n",
    "#     return sum \n",
    "\n",
    "def sum_of_threes_and_fives(n=100):\n",
    "    sum = 0\n",
    "    for i in range(n):\n",
    "        if i % 3 == 0 or i % 5 == 0:\n",
    "            sum += i\n",
    "    return sum\n",
    "\n",
    "\n",
    "# %timeit sum_of_threes_and_fives(10000) \n",
    "sum_of_threes_and_fives(10) "
   ]
  },
  {
   "cell_type": "code",
   "execution_count": null,
   "metadata": {},
   "outputs": [],
   "source": []
  }
 ],
 "metadata": {
  "kernelspec": {
   "display_name": "Python 3",
   "language": "python",
   "name": "python3"
  },
  "language_info": {
   "codemirror_mode": {
    "name": "ipython",
    "version": 3
   },
   "file_extension": ".py",
   "mimetype": "text/x-python",
   "name": "python",
   "nbconvert_exporter": "python",
   "pygments_lexer": "ipython3",
   "version": "3.8.5"
  }
 },
 "nbformat": 4,
 "nbformat_minor": 4
}
