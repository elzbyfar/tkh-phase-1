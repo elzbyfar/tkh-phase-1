{
 "cells": [
  {
   "cell_type": "markdown",
   "metadata": {},
   "source": [
    "<div style=\"background: #000;\n",
    "            color: #FFF;\n",
    "            margin: 0px;\n",
    "                padding: 10px 0px 20px 0px;\n",
    "            text-align: center; \n",
    "                \">\n",
    "    <h1>Week 5 - Class 2 - Lab</h1>\n",
    "</div>"
   ]
  },
  {
   "cell_type": "markdown",
   "metadata": {},
   "source": [
    "# Question 1:\n",
    "\n",
    "What is the time complexity of the following code? Explain your answer.\n",
    "\n",
    "```python3\n",
    "def function_a(*args):\n",
    "    array = []\n",
    "    length = len(args)\n",
    "    \n",
    "    for i in range(0, length-1):\n",
    "        print(i)\n",
    "    \n",
    "    for i in range(0, length-1):\n",
    "        for j in range(0, length-1):\n",
    "            for k in range(0, length-1):\n",
    "                array.append([i, j, k])\n",
    "    \n",
    "    for val in array:\n",
    "        print(val)\n",
    "    \n",
    "    return array\n",
    "            \n",
    "\n",
    "\n",
    "```\n"
   ]
  },
  {
   "cell_type": "raw",
   "metadata": {},
   "source": [
    "I believe the time compexity of this function is something like O(n^3 + 2n) ... This can be represented simply as O(n^3)...which is pretty bad. \n",
    "\n",
    "I think it's O(n^3) because that's the worst part (or most expensive) part of this function. The triple nested loop which appends [i,j,k] to the array variable is responsible for this complexity. "
   ]
  },
  {
   "cell_type": "markdown",
   "metadata": {},
   "source": [
    "# Exercise 1:\n",
    "\n",
    "Create a function of your own choosing that uses `if`, `for` or `while`. What is the time complexity?"
   ]
  },
  {
   "cell_type": "code",
   "execution_count": 51,
   "metadata": {},
   "outputs": [
    {
     "name": "stdout",
     "output_type": "stream",
     "text": [
      "0\n",
      "1\n",
      "2\n",
      "3\n",
      "4\n",
      "5\n",
      "6\n",
      "7\n",
      "8\n",
      "9\n",
      "10\n",
      "11\n"
     ]
    },
    {
     "data": {
      "text/plain": [
       "'Year 12 is the last year in the timeline.'"
      ]
     },
     "execution_count": 51,
     "metadata": {},
     "output_type": "execute_result"
    }
   ],
   "source": [
    "def timeline(age):\n",
    "    current_year = 0\n",
    "    while current_year != age:\n",
    "        print(current_year)\n",
    "        current_year += 1\n",
    "    return f\"Year {current_year} is the last year in the timeline.\"\n",
    "\n",
    "timeline(12)"
   ]
  },
  {
   "cell_type": "code",
   "execution_count": null,
   "metadata": {},
   "outputs": [],
   "source": [
    "This function has linear time complexity. "
   ]
  },
  {
   "cell_type": "markdown",
   "metadata": {},
   "source": [
    "# Exercise 2:\n",
    "\n",
    "Write a lambda function that checks whether or not a given string starts with a given character. \n",
    "\n",
    "Hint: Use a string method."
   ]
  },
  {
   "cell_type": "code",
   "execution_count": 54,
   "metadata": {},
   "outputs": [
    {
     "data": {
      "text/plain": [
       "True"
      ]
     },
     "execution_count": 54,
     "metadata": {},
     "output_type": "execute_result"
    }
   ],
   "source": [
    "for_starters = lambda c, s : s.startswith(c)\n",
    "\n",
    "for_starters('h', 'hello')"
   ]
  },
  {
   "cell_type": "markdown",
   "metadata": {},
   "source": [
    "# Exercise 3:\n",
    "\n",
    "Create a function called `checker` that takes a tuple of three values, checks if there's a pair of numbers and returns the 3rd. If no doubles, return False. If there's a triple return the non-paired number and \"triple\" Use the code in the following cell to generate tuples.\n",
    "\n",
    "E.g. \n",
    "\n",
    "`checker(2,3,2)` would return 3    \n",
    "`checker(1,2,3)` would return False  \n",
    "`checker(3,3,3)` would return 3, \"triple\"  \n"
   ]
  },
  {
   "cell_type": "code",
   "execution_count": 30,
   "metadata": {},
   "outputs": [
    {
     "data": {
      "text/plain": [
       "(2, 6, 3)"
      ]
     },
     "execution_count": 30,
     "metadata": {},
     "output_type": "execute_result"
    }
   ],
   "source": [
    "import random\n",
    "\n",
    "def dice_roller():\n",
    "    return (random.randint(1,6), random.randint(1,6), random.randint(1,6))\n",
    "\n",
    "three_dice_rolls = dice_roller()\n",
    "\n",
    "three_dice_rolls"
   ]
  },
  {
   "cell_type": "code",
   "execution_count": 31,
   "metadata": {},
   "outputs": [
    {
     "data": {
      "text/plain": [
       "False"
      ]
     },
     "execution_count": 31,
     "metadata": {},
     "output_type": "execute_result"
    }
   ],
   "source": [
    "def checker(three_tuple):\n",
    "    \n",
    "    dice_set = set(three_tuple)\n",
    "    dice_dict = {}\n",
    "    for i in dice_set:\n",
    "        dice_dict[i] = three_tuple.count(i)\n",
    "    \n",
    "    if len(dice_dict.keys()) == 1:\n",
    "        return (three_tuple[0], 'triple')\n",
    "    elif len(dice_dict.keys()) == 2:\n",
    "        for pair in dice_dict.items():\n",
    "            if pair[1] == 1:\n",
    "                return pair[0]\n",
    "    elif len(dice_dict.keys()) == 3:\n",
    "        return False\n",
    "    \n",
    "checker(three_dice_rolls)"
   ]
  },
  {
   "cell_type": "markdown",
   "metadata": {},
   "source": [
    "# Bonus: \n",
    "\n",
    "Create your own naive (unsophisticated) sorting algorithm that takes a list of ints and sorts the elements. It doesn't not have to be efficient, it just needs to give the correct sorted list as output. No points for using any built in or library method that sorts."
   ]
  },
  {
   "cell_type": "code",
   "execution_count": null,
   "metadata": {},
   "outputs": [],
   "source": []
  }
 ],
 "metadata": {
  "kernelspec": {
   "display_name": "Python 3",
   "language": "python",
   "name": "python3"
  },
  "language_info": {
   "codemirror_mode": {
    "name": "ipython",
    "version": 3
   },
   "file_extension": ".py",
   "mimetype": "text/x-python",
   "name": "python",
   "nbconvert_exporter": "python",
   "pygments_lexer": "ipython3",
   "version": "3.8.5"
  }
 },
 "nbformat": 4,
 "nbformat_minor": 4
}
