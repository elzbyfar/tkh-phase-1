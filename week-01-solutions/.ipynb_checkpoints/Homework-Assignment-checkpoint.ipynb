{
 "cells": [
  {
   "cell_type": "markdown",
   "metadata": {},
   "source": [
    "# Week 1 HW\n",
    "\n",
    "**Exercise 1 and 3 are due Monday 9/20**  \n",
    "**Exercise 2 and 4 are due Tuesday 9/21**  \n",
    "**Exercise 5 and 6 are due Wednesday 9/22**  "
   ]
  },
  {
   "cell_type": "markdown",
   "metadata": {},
   "source": [
    "# Exercise 1"
   ]
  },
  {
   "cell_type": "markdown",
   "metadata": {},
   "source": [
    "a. Set a variable to a user input. "
   ]
  },
  {
   "cell_type": "code",
   "execution_count": 7,
   "metadata": {},
   "outputs": [
    {
     "name": "stdout",
     "output_type": "stream",
     "text": [
      "Enter your name: Jimmy Crocket\n"
     ]
    },
    {
     "data": {
      "text/plain": [
       "'Your name is Jimmy Crocket'"
      ]
     },
     "execution_count": 7,
     "metadata": {},
     "output_type": "execute_result"
    }
   ],
   "source": [
    "name = input('Enter your name: ')\n",
    "statement = 'Your name is {}'.format(name)\n",
    "statement"
   ]
  },
  {
   "cell_type": "markdown",
   "metadata": {},
   "source": [
    "b. Set two variables in the same statement."
   ]
  },
  {
   "cell_type": "code",
   "execution_count": 5,
   "metadata": {},
   "outputs": [
    {
     "name": "stdout",
     "output_type": "stream",
     "text": [
      "1 2\n"
     ]
    }
   ],
   "source": [
    "a, b = 1, 2\n",
    "print(a,b)"
   ]
  },
  {
   "cell_type": "markdown",
   "metadata": {},
   "source": [
    "c. Create a variable with a value that when cast as a bool returns True."
   ]
  },
  {
   "cell_type": "code",
   "execution_count": 4,
   "metadata": {},
   "outputs": [
    {
     "data": {
      "text/plain": [
       "True"
      ]
     },
     "execution_count": 4,
     "metadata": {},
     "output_type": "execute_result"
    }
   ],
   "source": [
    "truthy_value = 1\n",
    "bool(truthy_value)"
   ]
  },
  {
   "cell_type": "markdown",
   "metadata": {},
   "source": [
    "d. If we add up all the numbers from 0 to 100, we get 5050. \n",
    "\n",
    "What sum do we get if we add up all the numbers from 0 to 1000?\n",
    "\n",
    "(Show your work)"
   ]
  },
  {
   "cell_type": "code",
   "execution_count": 11,
   "metadata": {},
   "outputs": [
    {
     "name": "stdout",
     "output_type": "stream",
     "text": [
      "500500\n"
     ]
    }
   ],
   "source": [
    "sum = 0\n",
    "for i in range(1001):\n",
    "    sum += i\n",
    "\n",
    "print(sum)"
   ]
  },
  {
   "cell_type": "markdown",
   "metadata": {},
   "source": [
    "# Exercise 2 \n",
    "\n",
    "Convert the following logical statements into python. Print the result for each possible combination (TT, TF, FT, FF)"
   ]
  },
  {
   "cell_type": "markdown",
   "metadata": {},
   "source": [
    "¬(p || q )  "
   ]
  },
  {
   "cell_type": "code",
   "execution_count": 2,
   "metadata": {},
   "outputs": [
    {
     "name": "stdout",
     "output_type": "stream",
     "text": [
      "False\n",
      "False\n",
      "False\n",
      "True\n"
     ]
    }
   ],
   "source": [
    "options = [(True, True), (True, False), (False, True), (False, False)]\n",
    "\n",
    "for p,q in options:\n",
    "    print(not(p or q))\n"
   ]
  },
  {
   "cell_type": "markdown",
   "metadata": {},
   "source": [
    "( p || q ) ⊕ ( p & q)"
   ]
  },
  {
   "cell_type": "code",
   "execution_count": 9,
   "metadata": {},
   "outputs": [
    {
     "name": "stdout",
     "output_type": "stream",
     "text": [
      "False\n",
      "True\n",
      "True\n",
      "False\n"
     ]
    }
   ],
   "source": [
    "for p,q in options:\n",
    "    print(((p or q) and not(p and q)))"
   ]
  },
  {
   "cell_type": "markdown",
   "metadata": {},
   "source": [
    "(p & ¬q ) || (¬p & q)"
   ]
  },
  {
   "cell_type": "code",
   "execution_count": 14,
   "metadata": {},
   "outputs": [
    {
     "name": "stdout",
     "output_type": "stream",
     "text": [
      "False\n",
      "True\n",
      "True\n",
      "False\n"
     ]
    }
   ],
   "source": [
    "for p,q in options:\n",
    "    print((p and not q) or (not p and q))"
   ]
  },
  {
   "cell_type": "markdown",
   "metadata": {},
   "source": [
    "# Exercise 3"
   ]
  },
  {
   "cell_type": "markdown",
   "metadata": {},
   "source": [
    " a. Create an array of strings that consist of five individual zeros followed by five individual ones. Demonstrate that it's an array, and that this is an array of strings using a built-in python function."
   ]
  },
  {
   "cell_type": "code",
   "execution_count": 17,
   "metadata": {},
   "outputs": [
    {
     "name": "stdout",
     "output_type": "stream",
     "text": [
      "contents:  ['0', '0', '0', '0', '0', '1', '1', '1', '1', '1']\n",
      "type of object:  <class 'list'>\n",
      "type of content:  <class 'str'>\n",
      "type of content:  <class 'str'>\n",
      "type of content:  <class 'str'>\n",
      "type of content:  <class 'str'>\n",
      "type of content:  <class 'str'>\n",
      "type of content:  <class 'str'>\n",
      "type of content:  <class 'str'>\n",
      "type of content:  <class 'str'>\n",
      "type of content:  <class 'str'>\n",
      "type of content:  <class 'str'>\n"
     ]
    }
   ],
   "source": [
    "array = []\n",
    "\n",
    "for i in range(10):\n",
    "    array.append(\"0\") if i < 5 else array.append(\"1\")\n",
    "    \n",
    "print(\"contents: \", array)\n",
    "print(\"type of object: \", type(array))\n",
    "\n",
    "for s in array:\n",
    "    print(\"type of content: \", type(s))"
   ]
  },
  {
   "cell_type": "markdown",
   "metadata": {},
   "source": [
    "b. Create an array of integers that consists of the same. Output the number of elements in the array using a built-in python function"
   ]
  },
  {
   "cell_type": "code",
   "execution_count": null,
   "metadata": {},
   "outputs": [],
   "source": [
    "array = []"
   ]
  },
  {
   "cell_type": "markdown",
   "metadata": {},
   "source": [
    "c. Create an array of floats that consists of the same. Demonstrate that this array is one of floats using a built-in python function."
   ]
  },
  {
   "cell_type": "code",
   "execution_count": null,
   "metadata": {},
   "outputs": [],
   "source": [
    "array = []"
   ]
  },
  {
   "cell_type": "markdown",
   "metadata": {},
   "source": [
    "d. Create an array of bools that consists of the same. Demonstrate that this array is one of bools using a built-in python function."
   ]
  },
  {
   "cell_type": "code",
   "execution_count": null,
   "metadata": {},
   "outputs": [],
   "source": []
  },
  {
   "cell_type": "markdown",
   "metadata": {},
   "source": [
    "# Exercise 4\n",
    "\n",
    "Without actually using Python, determine what the following would evaluate\n",
    "to in Python and explain step-by-step how you arrived at this answer:\n",
    "\n",
    "    a. (1 or ((0 or 0) or 1)) or 1\n",
    "    b. ((1 or 0) or 0 or 1) or 1\n",
    "    c. 1 or 0 or 0 or 1 or 1\n",
    "    \n",
    "Change the following cells to markdown and fill your answer in them."
   ]
  },
  {
   "cell_type": "markdown",
   "metadata": {},
   "source": []
  },
  {
   "cell_type": "markdown",
   "metadata": {},
   "source": [
    "# Exercise 5\n",
    "\n",
    "To convert Fahrenheit to Celsius, you use the following formula:\n",
    "\n",
    "$$\n",
    "    C^{\\circ} = \\frac{ (F^{\\circ} - 32)}{1.8}\n",
    "$$\n",
    "\n",
    "Given a Fahrenheit input `temperature`, write some python statements to print the temperature in Celsius.\n"
   ]
  },
  {
   "cell_type": "code",
   "execution_count": null,
   "metadata": {},
   "outputs": [],
   "source": [
    "temperature = input(\"Enter temperature in Fahrenheit: \")\n",
    "\n",
    "celsius = (tempurature - 32) / 1.8\n",
    "celsius"
   ]
  },
  {
   "cell_type": "markdown",
   "metadata": {},
   "source": [
    "# Exercise 6\n",
    "\n",
    "If given a height and a radius, print the volume of a cylinder.\n",
    "\n",
    "$$ \n",
    "    V = \\pi r^2h\n",
    "$$"
   ]
  },
  {
   "cell_type": "code",
   "execution_count": null,
   "metadata": {},
   "outputs": [],
   "source": [
    "height = input(\"Enter a height: \")\n",
    "radius = input(\"Enter a radius: \")"
   ]
  },
  {
   "cell_type": "code",
   "execution_count": null,
   "metadata": {},
   "outputs": [],
   "source": []
  }
 ],
 "metadata": {
  "kernelspec": {
   "display_name": "Python 3",
   "language": "python",
   "name": "python3"
  },
  "language_info": {
   "codemirror_mode": {
    "name": "ipython",
    "version": 3
   },
   "file_extension": ".py",
   "mimetype": "text/x-python",
   "name": "python",
   "nbconvert_exporter": "python",
   "pygments_lexer": "ipython3",
   "version": "3.8.5"
  }
 },
 "nbformat": 4,
 "nbformat_minor": 4
}
