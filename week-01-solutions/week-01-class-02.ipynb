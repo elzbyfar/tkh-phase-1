{
 "cells": [
  {
   "cell_type": "markdown",
   "metadata": {},
   "source": [
    "<div style=\"background: #000;\n",
    "            color: #FFF;\n",
    "            margin: 0px;\n",
    "                padding: 10px 0px 20px 0px;\n",
    "            text-align: center; \n",
    "                \">\n",
    "    <h1>Python Data Science Course - Week 1 - Day 2</h1>\n",
    "</div>\n",
    "\n",
    "\n",
    "\n",
    "## Todays Agenda\n",
    "* More Logic Fun\n",
    "\n",
    "* Data Types\n",
    "* Variable Declaration\n",
    "* Strings/String Methods\n",
    "\n"
   ]
  },
  {
   "cell_type": "markdown",
   "metadata": {},
   "source": [
    "## Logic Fun\n",
    "\n",
    "### Truth Tables\n",
    "\n",
    "\tTrue\t      False\t\tIdentity   \tNegation\n",
    "\tp\tT\t\tp\tF\t\tp\tp\t\tp   ¬P\n",
    "\tT\tT\t\tT\tF\t\tT\tT\t\tT\tF\n",
    "\tF\tT\t\tF\tF\t\tF\tF\t\tF\tT\n",
    "\n",
    "    AND      OR \n",
    "\tp & q\tp  || q\n",
    "\tT T T\tT  T  T\n",
    "\tT F F\tT  T  F\n",
    "\tF F T\tF  T  T\n",
    "\tF F F\tF  F  F\n",
    "    \n",
    "    Can You Answer these? \n",
    "    \n",
    "    p & ¬q      p  || ¬q\n",
    "\t "
   ]
  },
  {
   "cell_type": "markdown",
   "metadata": {},
   "source": [
    "# Some Notes from yesterday"
   ]
  },
  {
   "cell_type": "code",
   "execution_count": 1,
   "metadata": {},
   "outputs": [
    {
     "data": {
      "application/json": {
       "cell": {
        "!": "OSMagics",
        "HTML": "Other",
        "SVG": "Other",
        "bash": "Other",
        "capture": "ExecutionMagics",
        "debug": "ExecutionMagics",
        "file": "Other",
        "html": "DisplayMagics",
        "javascript": "DisplayMagics",
        "js": "DisplayMagics",
        "latex": "DisplayMagics",
        "markdown": "DisplayMagics",
        "perl": "Other",
        "prun": "ExecutionMagics",
        "pypy": "Other",
        "python": "Other",
        "python2": "Other",
        "python3": "Other",
        "ruby": "Other",
        "script": "ScriptMagics",
        "sh": "Other",
        "svg": "DisplayMagics",
        "sx": "OSMagics",
        "system": "OSMagics",
        "time": "ExecutionMagics",
        "timeit": "ExecutionMagics",
        "writefile": "OSMagics"
       },
       "line": {
        "alias": "OSMagics",
        "alias_magic": "BasicMagics",
        "autoawait": "AsyncMagics",
        "autocall": "AutoMagics",
        "automagic": "AutoMagics",
        "autosave": "KernelMagics",
        "bookmark": "OSMagics",
        "cat": "Other",
        "cd": "OSMagics",
        "clear": "KernelMagics",
        "colors": "BasicMagics",
        "conda": "PackagingMagics",
        "config": "ConfigMagics",
        "connect_info": "KernelMagics",
        "cp": "Other",
        "debug": "ExecutionMagics",
        "dhist": "OSMagics",
        "dirs": "OSMagics",
        "doctest_mode": "BasicMagics",
        "ed": "Other",
        "edit": "KernelMagics",
        "env": "OSMagics",
        "gui": "BasicMagics",
        "hist": "Other",
        "history": "HistoryMagics",
        "killbgscripts": "ScriptMagics",
        "ldir": "Other",
        "less": "KernelMagics",
        "lf": "Other",
        "lk": "Other",
        "ll": "Other",
        "load": "CodeMagics",
        "load_ext": "ExtensionMagics",
        "loadpy": "CodeMagics",
        "logoff": "LoggingMagics",
        "logon": "LoggingMagics",
        "logstart": "LoggingMagics",
        "logstate": "LoggingMagics",
        "logstop": "LoggingMagics",
        "ls": "Other",
        "lsmagic": "BasicMagics",
        "lx": "Other",
        "macro": "ExecutionMagics",
        "magic": "BasicMagics",
        "man": "KernelMagics",
        "matplotlib": "PylabMagics",
        "mkdir": "Other",
        "more": "KernelMagics",
        "mv": "Other",
        "notebook": "BasicMagics",
        "page": "BasicMagics",
        "pastebin": "CodeMagics",
        "pdb": "ExecutionMagics",
        "pdef": "NamespaceMagics",
        "pdoc": "NamespaceMagics",
        "pfile": "NamespaceMagics",
        "pinfo": "NamespaceMagics",
        "pinfo2": "NamespaceMagics",
        "pip": "PackagingMagics",
        "popd": "OSMagics",
        "pprint": "BasicMagics",
        "precision": "BasicMagics",
        "prun": "ExecutionMagics",
        "psearch": "NamespaceMagics",
        "psource": "NamespaceMagics",
        "pushd": "OSMagics",
        "pwd": "OSMagics",
        "pycat": "OSMagics",
        "pylab": "PylabMagics",
        "qtconsole": "KernelMagics",
        "quickref": "BasicMagics",
        "recall": "HistoryMagics",
        "rehashx": "OSMagics",
        "reload_ext": "ExtensionMagics",
        "rep": "Other",
        "rerun": "HistoryMagics",
        "reset": "NamespaceMagics",
        "reset_selective": "NamespaceMagics",
        "rm": "Other",
        "rmdir": "Other",
        "run": "ExecutionMagics",
        "save": "CodeMagics",
        "sc": "OSMagics",
        "set_env": "OSMagics",
        "store": "StoreMagics",
        "sx": "OSMagics",
        "system": "OSMagics",
        "tb": "ExecutionMagics",
        "time": "ExecutionMagics",
        "timeit": "ExecutionMagics",
        "unalias": "OSMagics",
        "unload_ext": "ExtensionMagics",
        "who": "NamespaceMagics",
        "who_ls": "NamespaceMagics",
        "whos": "NamespaceMagics",
        "xdel": "NamespaceMagics",
        "xmode": "BasicMagics"
       }
      },
      "text/plain": [
       "Available line magics:\n",
       "%alias  %alias_magic  %autoawait  %autocall  %automagic  %autosave  %bookmark  %cat  %cd  %clear  %colors  %conda  %config  %connect_info  %cp  %debug  %dhist  %dirs  %doctest_mode  %ed  %edit  %env  %gui  %hist  %history  %killbgscripts  %ldir  %less  %lf  %lk  %ll  %load  %load_ext  %loadpy  %logoff  %logon  %logstart  %logstate  %logstop  %ls  %lsmagic  %lx  %macro  %magic  %man  %matplotlib  %mkdir  %more  %mv  %notebook  %page  %pastebin  %pdb  %pdef  %pdoc  %pfile  %pinfo  %pinfo2  %pip  %popd  %pprint  %precision  %prun  %psearch  %psource  %pushd  %pwd  %pycat  %pylab  %qtconsole  %quickref  %recall  %rehashx  %reload_ext  %rep  %rerun  %reset  %reset_selective  %rm  %rmdir  %run  %save  %sc  %set_env  %store  %sx  %system  %tb  %time  %timeit  %unalias  %unload_ext  %who  %who_ls  %whos  %xdel  %xmode\n",
       "\n",
       "Available cell magics:\n",
       "%%!  %%HTML  %%SVG  %%bash  %%capture  %%debug  %%file  %%html  %%javascript  %%js  %%latex  %%markdown  %%perl  %%prun  %%pypy  %%python  %%python2  %%python3  %%ruby  %%script  %%sh  %%svg  %%sx  %%system  %%time  %%timeit  %%writefile\n",
       "\n",
       "Automagic is ON, % prefix IS NOT needed for line magics."
      ]
     },
     "execution_count": 1,
     "metadata": {},
     "output_type": "execute_result"
    }
   ],
   "source": [
    "%lsmagic"
   ]
  },
  {
   "cell_type": "code",
   "execution_count": 2,
   "metadata": {},
   "outputs": [],
   "source": [
    "!echo 1 >> sample.txt"
   ]
  },
  {
   "cell_type": "code",
   "execution_count": 3,
   "metadata": {
    "scrolled": true
   },
   "outputs": [
    {
     "name": "stdout",
     "output_type": "stream",
     "text": [
      "10\r\n",
      "45\r\n",
      "1\r\n"
     ]
    }
   ],
   "source": [
    "!cat sample.txt"
   ]
  },
  {
   "cell_type": "code",
   "execution_count": 8,
   "metadata": {},
   "outputs": [
    {
     "name": "stdout",
     "output_type": "stream",
     "text": [
      "10\r\n",
      "45\r\n",
      "1\r\n",
      "adding stuff\r\n",
      "adding stuff\r\n"
     ]
    }
   ],
   "source": [
    "!cat sample.txt"
   ]
  },
  {
   "cell_type": "code",
   "execution_count": null,
   "metadata": {},
   "outputs": [],
   "source": [
    "!cat sample.txt >> stuff_to_add.txt"
   ]
  },
  {
   "cell_type": "code",
   "execution_count": null,
   "metadata": {},
   "outputs": [],
   "source": [
    "!cat stuff_to_add.txt"
   ]
  },
  {
   "cell_type": "code",
   "execution_count": null,
   "metadata": {},
   "outputs": [],
   "source": [
    "!mv stuff_to_add.txt sample.txt"
   ]
  },
  {
   "cell_type": "code",
   "execution_count": null,
   "metadata": {},
   "outputs": [],
   "source": [
    "!cat sample.txt"
   ]
  },
  {
   "cell_type": "code",
   "execution_count": null,
   "metadata": {},
   "outputs": [],
   "source": [
    "%lsmagic"
   ]
  },
  {
   "cell_type": "code",
   "execution_count": null,
   "metadata": {},
   "outputs": [],
   "source": [
    "%timeit [pow(i,i) for i in range(20)]"
   ]
  },
  {
   "cell_type": "code",
   "execution_count": null,
   "metadata": {},
   "outputs": [],
   "source": [
    "%%capture capt\n",
    "import sys\n",
    "print('hello stdout')\n",
    "print('and stderr', file=sys.stderr)"
   ]
  },
  {
   "cell_type": "code",
   "execution_count": null,
   "metadata": {},
   "outputs": [],
   "source": [
    "capt.show()"
   ]
  },
  {
   "cell_type": "code",
   "execution_count": null,
   "metadata": {},
   "outputs": [],
   "source": [
    "%%writefile script.py\n",
    "def main():\n",
    "    print(\"Hello World\")\n",
    "if __name__ == '__main__':\n",
    "    main()"
   ]
  },
  {
   "cell_type": "code",
   "execution_count": null,
   "metadata": {},
   "outputs": [],
   "source": [
    "%run script.py"
   ]
  },
  {
   "cell_type": "code",
   "execution_count": null,
   "metadata": {},
   "outputs": [],
   "source": [
    "%%script python2\n",
    "import sys\n",
    "print 'hello from Python %s' % sys.version"
   ]
  },
  {
   "cell_type": "code",
   "execution_count": null,
   "metadata": {},
   "outputs": [],
   "source": [
    "%%script python3\n",
    "import sys\n",
    "print('hello from Python %s' % sys.version)"
   ]
  },
  {
   "cell_type": "code",
   "execution_count": null,
   "metadata": {},
   "outputs": [],
   "source": [
    "%%ruby\n",
    "puts \"hello from Ruby #{RUBY_VERSION}\""
   ]
  },
  {
   "cell_type": "code",
   "execution_count": null,
   "metadata": {},
   "outputs": [],
   "source": [
    "%%ruby --bg --out ruby_lines\n",
    "for n in 1...10\n",
    "    sleep 1\n",
    "    puts \"line #{n}\"\n",
    "    STDOUT.flush\n",
    "end"
   ]
  },
  {
   "cell_type": "code",
   "execution_count": null,
   "metadata": {},
   "outputs": [],
   "source": [
    "print(ruby_lines)"
   ]
  },
  {
   "cell_type": "code",
   "execution_count": null,
   "metadata": {},
   "outputs": [],
   "source": [
    "print(ruby_lines.read().decode('utf8'))"
   ]
  },
  {
   "cell_type": "code",
   "execution_count": null,
   "metadata": {},
   "outputs": [],
   "source": [
    "%%bash\n",
    "echo \"hi, stdout\"\n",
    "echo \"hello, stderr\" >&2"
   ]
  },
  {
   "cell_type": "markdown",
   "metadata": {},
   "source": [
    "\n"
   ]
  },
  {
   "cell_type": "markdown",
   "metadata": {},
   "source": [
    "## Examples of things we can do in Python"
   ]
  },
  {
   "cell_type": "code",
   "execution_count": 17,
   "metadata": {},
   "outputs": [],
   "source": [
    "None"
   ]
  },
  {
   "cell_type": "code",
   "execution_count": 18,
   "metadata": {},
   "outputs": [
    {
     "data": {
      "text/plain": [
       "'this is text'"
      ]
     },
     "execution_count": 18,
     "metadata": {},
     "output_type": "execute_result"
    }
   ],
   "source": [
    "\"this is text\""
   ]
  },
  {
   "cell_type": "code",
   "execution_count": 19,
   "metadata": {},
   "outputs": [],
   "source": [
    "# this is a comment"
   ]
  },
  {
   "cell_type": "code",
   "execution_count": 20,
   "metadata": {},
   "outputs": [
    {
     "data": {
      "text/plain": [
       "718"
      ]
     },
     "execution_count": 20,
     "metadata": {},
     "output_type": "execute_result"
    }
   ],
   "source": [
    "718 # this is a number (integer to be precise)"
   ]
  },
  {
   "cell_type": "code",
   "execution_count": 44,
   "metadata": {},
   "outputs": [
    {
     "ename": "ValueError",
     "evalue": "not enough values to unpack (expected 3, got 2)",
     "output_type": "error",
     "traceback": [
      "\u001b[0;31m---------------------------------------------------------------------------\u001b[0m",
      "\u001b[0;31mValueError\u001b[0m                                Traceback (most recent call last)",
      "\u001b[0;32m<ipython-input-44-2601b6d037b9>\u001b[0m in \u001b[0;36m<module>\u001b[0;34m\u001b[0m\n\u001b[0;32m----> 1\u001b[0;31m \u001b[0ma\u001b[0m\u001b[0;34m,\u001b[0m \u001b[0mb\u001b[0m\u001b[0;34m,\u001b[0m \u001b[0mc\u001b[0m \u001b[0;34m=\u001b[0m \u001b[0;34m(\u001b[0m\u001b[0;36m1\u001b[0m\u001b[0;34m,\u001b[0m \u001b[0;36m2\u001b[0m\u001b[0;34m)\u001b[0m\u001b[0;34m\u001b[0m\u001b[0;34m\u001b[0m\u001b[0m\n\u001b[0m\u001b[1;32m      2\u001b[0m \u001b[0mb\u001b[0m\u001b[0;34m\u001b[0m\u001b[0;34m\u001b[0m\u001b[0m\n",
      "\u001b[0;31mValueError\u001b[0m: not enough values to unpack (expected 3, got 2)"
     ]
    }
   ],
   "source": [
    "a, b, c = (1, 2)\n",
    "b"
   ]
  },
  {
   "cell_type": "code",
   "execution_count": null,
   "metadata": {},
   "outputs": [],
   "source": [
    "3**3 # **3"
   ]
  },
  {
   "cell_type": "code",
   "execution_count": 24,
   "metadata": {},
   "outputs": [
    {
     "name": "stdout",
     "output_type": "stream",
     "text": [
      "10\n"
     ]
    }
   ],
   "source": [
    "print(\"10\") and print(\"3\")"
   ]
  },
  {
   "cell_type": "code",
   "execution_count": 28,
   "metadata": {},
   "outputs": [
    {
     "data": {
      "text/plain": [
       "10"
      ]
     },
     "execution_count": 28,
     "metadata": {},
     "output_type": "execute_result"
    }
   ],
   "source": [
    "10 or 11 # then show 3 or 5 (and ask why) # then 5 and 3 (and ask why)"
   ]
  },
  {
   "cell_type": "code",
   "execution_count": null,
   "metadata": {},
   "outputs": [],
   "source": [
    "True or False # and True"
   ]
  },
  {
   "cell_type": "code",
   "execution_count": 29,
   "metadata": {},
   "outputs": [
    {
     "name": "stdout",
     "output_type": "stream",
     "text": [
      "\n",
      "Please wait a moment while I gather a list of all available modules...\n",
      "\n"
     ]
    },
    {
     "name": "stderr",
     "output_type": "stream",
     "text": [
      "/usr/local/Cellar/jupyterlab/2.2.8/libexec/lib/python3.8/site-packages/IPython/kernel/__init__.py:12: ShimWarning: The `IPython.kernel` package has been deprecated since IPython 4.0.You should import from ipykernel or jupyter_client instead.\n",
      "  warn(\"The `IPython.kernel` package has been deprecated since IPython 4.0.\"\n"
     ]
    },
    {
     "name": "stdout",
     "output_type": "stream",
     "text": [
      "IPython             antigravity         imp                 requests\n",
      "__future__          appnope             importlib           resource\n",
      "_abc                argon2              inspect             rlcompleter\n",
      "_ast                argparse            io                  rmagic\n",
      "_asyncio            array               ipaddress           runpy\n",
      "_bisect             ast                 ipykernel           sched\n",
      "_blake2             async_generator     ipykernel_launcher  secrets\n",
      "_bootlocale         asynchat            ipython_genutils    select\n",
      "_bz2                asyncio             itertools           selectors\n",
      "_cffi_backend       asyncore            jedi                send2trash\n",
      "_codecs             atexit              jinja2              setuptools\n",
      "_codecs_cn          attr                json                shelve\n",
      "_codecs_hk          audioop             json5               shlex\n",
      "_codecs_iso2022     autoreload          jsonschema          shutil\n",
      "_codecs_jp          backcall            jupyter             signal\n",
      "_codecs_kr          base64              jupyter_client      site\n",
      "_codecs_tw          bdb                 jupyter_console     six\n",
      "_collections        binascii            jupyter_core        smtpd\n",
      "_collections_abc    binhex              jupyterlab          smtplib\n",
      "_compat_pickle      bisect              jupyterlab_pygments sndhdr\n",
      "_compression        bleach              jupyterlab_server   socket\n",
      "_contextvars        builtins            keyword             socketserver\n",
      "_crypt              bz2                 lib2to3             sqlite3\n",
      "_csv                cProfile            linecache           sre_compile\n",
      "_ctypes             calendar            locale              sre_constants\n",
      "_ctypes_test        certifi             logging             sre_parse\n",
      "_curses             cffi                lzma                ssl\n",
      "_curses_panel       cgi                 mailbox             stat\n",
      "_datetime           cgitb               mailcap             statistics\n",
      "_dbm                chardet             markupsafe          storemagic\n",
      "_decimal            chunk               marshal             string\n",
      "_distutils_hack     cmath               math                stringprep\n",
      "_dummy_thread       cmd                 mimetypes           struct\n",
      "_elementtree        code                mistune             subprocess\n",
      "_functools          codecs              mmap                sunau\n",
      "_gdbm               codeop              modulefinder        symbol\n",
      "_hashlib            collections         multiprocessing     sympyprinting\n",
      "_heapq              colorsys            nbclient            symtable\n",
      "_imp                compileall          nbconvert           sys\n",
      "_io                 concurrent          nbformat            sysconfig\n",
      "_json               configparser        nest_asyncio        syslog\n",
      "_locale             contextlib          netrc               tabnanny\n",
      "_lsprof             contextvars         nis                 tarfile\n",
      "_lzma               copy                nntplib             telnetlib\n",
      "_markupbase         copyreg             notebook            tempfile\n",
      "_md5                crypt               ntpath              terminado\n",
      "_multibytecodec     csv                 nturl2path          termios\n",
      "_multiprocessing    ctypes              numbers             test\n",
      "_opcode             curses              opcode              testpath\n",
      "_operator           cythonmagic         operator            tests\n",
      "_osx_support        dataclasses         optparse            textwrap\n",
      "_pickle             datetime            os                  this\n",
      "_posixshmem         dateutil            packaging           threading\n",
      "_posixsubprocess    dbm                 pandocfilters       time\n",
      "_py_abc             decimal             parser              timeit\n",
      "_pydecimal          decorator           parso               tkinter\n",
      "_pyio               defusedxml          pathlib             token\n",
      "_pyrsistent_version difflib             pdb                 tokenize\n",
      "_queue              dis                 pexpect             tornado\n",
      "_random             distutils           pickle              trace\n",
      "_scproxy            doctest             pickleshare         traceback\n",
      "_sha1               dummy_threading     pickletools         tracemalloc\n",
      "_sha256             easy_install        pip                 traitlets\n",
      "_sha3               email               pipes               tty\n",
      "_sha512             encodings           pkg_resources       turtle\n",
      "_signal             ensurepip           pkgutil             turtledemo\n",
      "_sitebuiltins       entrypoints         platform            types\n",
      "_socket             enum                plistlib            typing\n",
      "_sqlite3            errno               poplib              unicodedata\n",
      "_sre                faulthandler        posix               unittest\n",
      "_ssl                fcntl               posixpath           urllib\n",
      "_stat               filecmp             pprint              urllib3\n",
      "_statistics         fileinput           profile             uu\n",
      "_string             fnmatch             prometheus_client   uuid\n",
      "_strptime           formatter           prompt_toolkit      venv\n",
      "_struct             fractions           pstats              warnings\n",
      "_symtable           ftplib              pty                 wave\n",
      "_sysconfigdata__darwin_darwin functools           ptyprocess          wcwidth\n",
      "_testbuffer         gc                  pvectorc            weakref\n",
      "_testcapi           genericpath         pwd                 webbrowser\n",
      "_testimportmultiple getopt              py_compile          webencodings\n",
      "_testinternalcapi   getpass             pyclbr              wheel\n",
      "_testmultiphase     gettext             pycparser           wsgiref\n",
      "_thread             glob                pydoc               xdrlib\n",
      "_threading_local    grp                 pydoc_data          xml\n",
      "_tkinter            gzip                pyexpat             xmlrpc\n",
      "_tracemalloc        hashlib             pygments            xxlimited\n",
      "_uuid               heapq               pyparsing           xxsubtype\n",
      "_warnings           hmac                pyrsistent          zipapp\n",
      "_weakref            html                queue               zipfile\n",
      "_weakrefset         http                quopri              zipimport\n",
      "_xxsubinterpreters  idlelib             random              zlib\n",
      "_xxtestfuzz         idna                re                  zmq\n",
      "abc                 imaplib             readline            \n",
      "aifc                imghdr              reprlib             \n",
      "\n",
      "Enter any module name to get more help.  Or, type \"modules spam\" to search\n",
      "for modules whose name or summary contain the string \"spam\".\n",
      "\n"
     ]
    },
    {
     "name": "stderr",
     "output_type": "stream",
     "text": [
      "/usr/local/opt/python@3.8/Frameworks/Python.framework/Versions/3.8/lib/python3.8/pkgutil.py:107: VisibleDeprecationWarning: zmq.eventloop.minitornado is deprecated in pyzmq 14.0 and will be removed.\n",
      "    Install tornado itself to use zmq with the tornado IOLoop.\n",
      "    \n",
      "  yield from walk_packages(path, info.name+'.', onerror)\n"
     ]
    }
   ],
   "source": [
    "help(\"modules\")"
   ]
  },
  {
   "cell_type": "code",
   "execution_count": null,
   "metadata": {},
   "outputs": [],
   "source": [
    "import this"
   ]
  },
  {
   "cell_type": "markdown",
   "metadata": {},
   "source": [
    "# Built in features"
   ]
  },
  {
   "cell_type": "markdown",
   "metadata": {},
   "source": [
    "## python has built in functions"
   ]
  },
  {
   "cell_type": "code",
   "execution_count": null,
   "metadata": {},
   "outputs": [],
   "source": [
    "dir(__builtins__)"
   ]
  },
  {
   "cell_type": "code",
   "execution_count": null,
   "metadata": {},
   "outputs": [],
   "source": [
    "print(\"hello world\")"
   ]
  },
  {
   "cell_type": "code",
   "execution_count": null,
   "metadata": {},
   "outputs": [],
   "source": [
    "type(\"hello world\")"
   ]
  },
  {
   "cell_type": "code",
   "execution_count": null,
   "metadata": {},
   "outputs": [],
   "source": [
    "print(\"hellow)"
   ]
  },
  {
   "cell_type": "code",
   "execution_count": null,
   "metadata": {},
   "outputs": [],
   "source": [
    "hex(170)"
   ]
  },
  {
   "cell_type": "code",
   "execution_count": null,
   "metadata": {},
   "outputs": [],
   "source": [
    "input()"
   ]
  },
  {
   "cell_type": "markdown",
   "metadata": {},
   "source": [
    "## python has built in modules"
   ]
  },
  {
   "cell_type": "code",
   "execution_count": null,
   "metadata": {},
   "outputs": [],
   "source": [
    "help(\"modules\")"
   ]
  },
  {
   "cell_type": "code",
   "execution_count": null,
   "metadata": {},
   "outputs": [],
   "source": [
    "print(dir.__doc__)\n",
    "print(\"\\n\")\n",
    "print(help.__doc__)\n",
    "print(\"\\n\")\n",
    "print(print.__doc__)"
   ]
  },
  {
   "cell_type": "markdown",
   "metadata": {},
   "source": [
    "# Variable declations\n",
    "\n",
    "## Naming conventions\n",
    "* Variables can only contain letters, numbers, and underscores. Variable names can start with a letter or an underscore, but can not start with a number.\n",
    "* Spaces are not allowed in variable names, so we use underscores instead of spaces. For example, use student_name instead of \"student name\".\n",
    "* You cannot use Python [keywords](https://docs.python.org/3/reference/lexical_analysis.html#keywords) as variable names.\n",
    "* Variable names should be descriptive, without being too long. For example mc_wheels is better than just \"wheels\", and number_of_wheels_on_a_motorycle.\n",
    "* Be careful about using the lowercase letter l and the uppercase letter O in places where they could be confused with the numbers 1 and 0.\n"
   ]
  },
  {
   "cell_type": "code",
   "execution_count": null,
   "metadata": {},
   "outputs": [],
   "source": [
    "variable = \"string\""
   ]
  },
  {
   "cell_type": "code",
   "execution_count": null,
   "metadata": {},
   "outputs": [],
   "source": [
    "variable = 23"
   ]
  },
  {
   "cell_type": "code",
   "execution_count": null,
   "metadata": {},
   "outputs": [],
   "source": [
    "variable = True"
   ]
  },
  {
   "cell_type": "code",
   "execution_count": null,
   "metadata": {},
   "outputs": [],
   "source": [
    "s = 3\n",
    "a = s\n",
    "a = s = 2\n",
    "print(a)\n",
    "print(s)"
   ]
  },
  {
   "cell_type": "code",
   "execution_count": null,
   "metadata": {},
   "outputs": [],
   "source": [
    "s, a = (4, 2)\n",
    "s, a"
   ]
  },
  {
   "cell_type": "code",
   "execution_count": null,
   "metadata": {},
   "outputs": [],
   "source": [
    "a = s = 4 \n",
    "a == s"
   ]
  },
  {
   "cell_type": "code",
   "execution_count": null,
   "metadata": {},
   "outputs": [],
   "source": [
    "a = True if 5 > 3 else False"
   ]
  },
  {
   "cell_type": "code",
   "execution_count": null,
   "metadata": {},
   "outputs": [],
   "source": [
    "a"
   ]
  },
  {
   "cell_type": "code",
   "execution_count": null,
   "metadata": {},
   "outputs": [],
   "source": [
    "variable = True\n",
    "if variable: #if not variable:\n",
    "    print(\"what do you think this does?\")"
   ]
  },
  {
   "cell_type": "code",
   "execution_count": null,
   "metadata": {},
   "outputs": [],
   "source": [
    "li = list() # li = []"
   ]
  },
  {
   "cell_type": "code",
   "execution_count": null,
   "metadata": {},
   "outputs": [],
   "source": [
    "li.append(0)\n",
    "#li.append(1)\n",
    "#li.append(2)\n",
    "#li.append(2) "
   ]
  },
  {
   "cell_type": "code",
   "execution_count": null,
   "metadata": {},
   "outputs": [],
   "source": [
    "li"
   ]
  },
  {
   "cell_type": "markdown",
   "metadata": {},
   "source": [
    "# Data Types"
   ]
  },
  {
   "cell_type": "markdown",
   "metadata": {},
   "source": [
    "## What is a data type?"
   ]
  },
  {
   "cell_type": "markdown",
   "metadata": {},
   "source": [
    "A data type is an attribute of data which tells the interpreter (or compiler in the case of other languages) how the program intends to use the data. A data type constrains the values an expression might take. It constrains the operations that can be done on the data type and provides a set of values from which an expression may take its value."
   ]
  },
  {
   "cell_type": "markdown",
   "metadata": {},
   "source": [
    "## Primitive Data Types"
   ]
  },
  {
   "cell_type": "code",
   "execution_count": null,
   "metadata": {},
   "outputs": [],
   "source": [
    "s = \"string\"\n",
    "print(s, type(s))"
   ]
  },
  {
   "cell_type": "code",
   "execution_count": null,
   "metadata": {},
   "outputs": [],
   "source": [
    "s: str = \"string\""
   ]
  },
  {
   "cell_type": "code",
   "execution_count": null,
   "metadata": {},
   "outputs": [],
   "source": [
    "s = 4\n",
    "print(s, type(s))"
   ]
  },
  {
   "cell_type": "code",
   "execution_count": null,
   "metadata": {},
   "outputs": [],
   "source": [
    "s: int = 4"
   ]
  },
  {
   "cell_type": "code",
   "execution_count": null,
   "metadata": {},
   "outputs": [],
   "source": [
    "s = True \n",
    "print(s, type(s))"
   ]
  },
  {
   "cell_type": "code",
   "execution_count": null,
   "metadata": {},
   "outputs": [],
   "source": [
    "s: bool = True"
   ]
  },
  {
   "cell_type": "code",
   "execution_count": null,
   "metadata": {},
   "outputs": [],
   "source": [
    "s = 3.14159\n",
    "print(s, type(s))"
   ]
  },
  {
   "cell_type": "code",
   "execution_count": null,
   "metadata": {},
   "outputs": [],
   "source": [
    "s: float = 3.14159"
   ]
  },
  {
   "cell_type": "code",
   "execution_count": null,
   "metadata": {},
   "outputs": [],
   "source": [
    "s = 3 +6j\n",
    "print(s, type(s))"
   ]
  },
  {
   "cell_type": "code",
   "execution_count": null,
   "metadata": {},
   "outputs": [],
   "source": [
    "s: complex = 3 + 6j"
   ]
  },
  {
   "cell_type": "code",
   "execution_count": null,
   "metadata": {},
   "outputs": [],
   "source": [
    "isinstance(True, bool)"
   ]
  },
  {
   "cell_type": "markdown",
   "metadata": {},
   "source": [
    "## Data Types in python\n",
    "\n",
    "Boolean types:  \n",
    "```bool``` - binary value  \n",
    "\n",
    "Text types:  \n",
    "```str``` - string\n",
    "\n",
    "Numeric types:  \n",
    "```int``` - integer  \n",
    "```float``` - floating point number  \n",
    "```complex``` - complex number  \n",
    "\n",
    "Sequence types:  \n",
    "```list``` - mutable array  \n",
    "```tuple``` - immutable array  \n",
    "```range``` - array of sequential numbers  \n",
    "\n",
    "Set types:  \n",
    "```set``` - non-repetitious unordered collection  \n",
    "```frozenset``` - immutable set\n",
    "\n",
    "Mapping types:\n",
    "```dict``` - maps values to objects\n",
    "\n",
    "Binary Sequence Types  \n",
    "```bytes``` - byte literals, either b'val' or created with ```bytes()```  \n",
    "```bytearray``` - mutable bytes "
   ]
  },
  {
   "cell_type": "markdown",
   "metadata": {},
   "source": [
    "# Bools"
   ]
  },
  {
   "cell_type": "code",
   "execution_count": null,
   "metadata": {},
   "outputs": [],
   "source": [
    "statement1 = True\n",
    "statement2 = False"
   ]
  },
  {
   "cell_type": "code",
   "execution_count": null,
   "metadata": {},
   "outputs": [],
   "source": [
    "statement1 and statement2 # explain order/short circuit"
   ]
  },
  {
   "cell_type": "code",
   "execution_count": null,
   "metadata": {},
   "outputs": [],
   "source": [
    "statement1 or statement2"
   ]
  },
  {
   "cell_type": "code",
   "execution_count": null,
   "metadata": {},
   "outputs": [],
   "source": [
    "not statement1"
   ]
  },
  {
   "cell_type": "code",
   "execution_count": null,
   "metadata": {},
   "outputs": [],
   "source": [
    "statement1 is True"
   ]
  },
  {
   "cell_type": "code",
   "execution_count": null,
   "metadata": {},
   "outputs": [],
   "source": [
    "statement2 is not True"
   ]
  },
  {
   "cell_type": "markdown",
   "metadata": {},
   "source": [
    "## Strings"
   ]
  },
  {
   "cell_type": "code",
   "execution_count": null,
   "metadata": {},
   "outputs": [],
   "source": [
    "\"this is a string\""
   ]
  },
  {
   "cell_type": "code",
   "execution_count": null,
   "metadata": {},
   "outputs": [],
   "source": [
    "s = \"this is also a string\""
   ]
  },
  {
   "cell_type": "code",
   "execution_count": null,
   "metadata": {},
   "outputs": [],
   "source": [
    "type(s)"
   ]
  },
  {
   "cell_type": "code",
   "execution_count": null,
   "metadata": {},
   "outputs": [],
   "source": [
    "s[:]"
   ]
  },
  {
   "cell_type": "markdown",
   "metadata": {},
   "source": [
    "## Numeric types and Operators"
   ]
  },
  {
   "cell_type": "code",
   "execution_count": null,
   "metadata": {},
   "outputs": [],
   "source": [
    "s = 25\n",
    "s"
   ]
  },
  {
   "cell_type": "code",
   "execution_count": null,
   "metadata": {},
   "outputs": [],
   "source": [
    "f = 5\n",
    "f"
   ]
  },
  {
   "cell_type": "code",
   "execution_count": null,
   "metadata": {},
   "outputs": [],
   "source": [
    "s + f"
   ]
  },
  {
   "cell_type": "code",
   "execution_count": null,
   "metadata": {},
   "outputs": [],
   "source": [
    "s - f"
   ]
  },
  {
   "cell_type": "code",
   "execution_count": null,
   "metadata": {},
   "outputs": [],
   "source": [
    "s / f"
   ]
  },
  {
   "cell_type": "code",
   "execution_count": null,
   "metadata": {},
   "outputs": [],
   "source": [
    "s ** f"
   ]
  },
  {
   "cell_type": "code",
   "execution_count": null,
   "metadata": {},
   "outputs": [],
   "source": [
    "s % f"
   ]
  },
  {
   "cell_type": "code",
   "execution_count": null,
   "metadata": {},
   "outputs": [],
   "source": [
    "s == f"
   ]
  },
  {
   "cell_type": "code",
   "execution_count": null,
   "metadata": {},
   "outputs": [],
   "source": [
    "s >= f"
   ]
  },
  {
   "cell_type": "code",
   "execution_count": null,
   "metadata": {},
   "outputs": [],
   "source": [
    "s > f"
   ]
  },
  {
   "cell_type": "code",
   "execution_count": null,
   "metadata": {},
   "outputs": [],
   "source": [
    "s <= f"
   ]
  },
  {
   "cell_type": "code",
   "execution_count": null,
   "metadata": {},
   "outputs": [],
   "source": [
    "s < f"
   ]
  },
  {
   "cell_type": "code",
   "execution_count": null,
   "metadata": {},
   "outputs": [],
   "source": [
    "s += f"
   ]
  },
  {
   "cell_type": "code",
   "execution_count": null,
   "metadata": {},
   "outputs": [],
   "source": [
    "s"
   ]
  },
  {
   "cell_type": "markdown",
   "metadata": {},
   "source": [
    "# Lists"
   ]
  },
  {
   "cell_type": "code",
   "execution_count": null,
   "metadata": {},
   "outputs": [],
   "source": [
    "l = [0,1,2,3,4,5]\n",
    "l"
   ]
  },
  {
   "cell_type": "code",
   "execution_count": null,
   "metadata": {},
   "outputs": [],
   "source": [
    "l.append(6)\n",
    "l"
   ]
  },
  {
   "cell_type": "code",
   "execution_count": null,
   "metadata": {},
   "outputs": [],
   "source": [
    "l.pop()"
   ]
  },
  {
   "cell_type": "code",
   "execution_count": null,
   "metadata": {},
   "outputs": [],
   "source": [
    "len(l)"
   ]
  },
  {
   "cell_type": "code",
   "execution_count": null,
   "metadata": {},
   "outputs": [],
   "source": [
    "l.clear()\n",
    "l"
   ]
  },
  {
   "cell_type": "markdown",
   "metadata": {},
   "source": [
    "# Dicts"
   ]
  },
  {
   "cell_type": "code",
   "execution_count": null,
   "metadata": {},
   "outputs": [],
   "source": [
    "d = {}\n",
    "d['key'] = 'value'\n",
    "d"
   ]
  },
  {
   "cell_type": "code",
   "execution_count": null,
   "metadata": {},
   "outputs": [],
   "source": [
    "d['key']"
   ]
  },
  {
   "cell_type": "code",
   "execution_count": null,
   "metadata": {},
   "outputs": [],
   "source": [
    "d.get('key')"
   ]
  },
  {
   "cell_type": "code",
   "execution_count": null,
   "metadata": {},
   "outputs": [],
   "source": [
    "d['e']"
   ]
  },
  {
   "cell_type": "code",
   "execution_count": null,
   "metadata": {},
   "outputs": [],
   "source": [
    "d.get('e')"
   ]
  },
  {
   "cell_type": "code",
   "execution_count": null,
   "metadata": {},
   "outputs": [],
   "source": [
    "d.items()"
   ]
  },
  {
   "cell_type": "markdown",
   "metadata": {},
   "source": [
    "# Strings, String Operations and String methods\n",
    "\n",
    "Strings are sequences of characters delimited by quotes. Python's `str` type allows for unicode encoding.\n",
    "\n",
    "```python\n",
    "    >>> \"basic string\" #\n",
    "    basic string\n",
    "    \n",
    "    >>> s = \"basic string\"\n",
    "    >>> print(s)\n",
    "    \"basic string\"\n",
    "    \n",
    "    >>> s = \"basic string\"\n",
    "    >>> s[0]\n",
    "    \"b\"\n",
    "```"
   ]
  },
  {
   "cell_type": "code",
   "execution_count": null,
   "metadata": {},
   "outputs": [],
   "source": [
    "# empty string\n",
    "\"\""
   ]
  },
  {
   "cell_type": "code",
   "execution_count": null,
   "metadata": {},
   "outputs": [],
   "source": [
    "\"\" == \"\""
   ]
  },
  {
   "cell_type": "code",
   "execution_count": null,
   "metadata": {},
   "outputs": [],
   "source": [
    "# string indexing\n",
    "\"string\"[0] # [-1] #"
   ]
  },
  {
   "cell_type": "code",
   "execution_count": null,
   "metadata": {},
   "outputs": [],
   "source": [
    "\"string\"[:0] == \"\""
   ]
  },
  {
   "cell_type": "code",
   "execution_count": null,
   "metadata": {},
   "outputs": [],
   "source": [
    "\"\".join(\"string\")"
   ]
  },
  {
   "cell_type": "code",
   "execution_count": null,
   "metadata": {},
   "outputs": [],
   "source": [
    "# declaring a string variable\n",
    "\n",
    "example = \"this is an example of a string\"\n",
    "print(example)# type(example))"
   ]
  },
  {
   "cell_type": "code",
   "execution_count": null,
   "metadata": {},
   "outputs": [],
   "source": [
    "# strings can have single...\n",
    "single_quote_example = 'this is an example that allows \"double\" quotes' #then add /n\n",
    "single_quote_example"
   ]
  },
  {
   "cell_type": "code",
   "execution_count": null,
   "metadata": {},
   "outputs": [],
   "source": [
    "# double...\n",
    "double_quote_example = \"this is an example that allows 'single' quotes\"\n",
    "double_quote_example"
   ]
  },
  {
   "cell_type": "code",
   "execution_count": null,
   "metadata": {},
   "outputs": [],
   "source": [
    "# or triple quotes\n",
    "triple_quoted = \"\"\"\n",
    "\n",
    "this is an example that can span multiple lines \n",
    "\n",
    "\"\"\"\n",
    "triple_quoted"
   ]
  },
  {
   "cell_type": "code",
   "execution_count": null,
   "metadata": {},
   "outputs": [],
   "source": [
    "# examples of escape characters useful in python\n",
    "# \"\\\\\"\n",
    "example = \"backslash to escape \\\\\"\n",
    "# \"\\\"\"\n",
    "example1 = \"escape quote \\\"\"\n",
    "# \"\\r\"\n",
    "example2 = \"carriage return \\rreplaces the line\"\n",
    "# \"\\t\"\n",
    "example3 = \"tabbed \\t\\t\\t example\\n\"\n",
    "# \"\\n\"\n",
    "example4 = \"example\\nwith new line\"\n",
    "print(example)\n",
    "print(example1)\n",
    "print(example2)\n",
    "print(example3)\n",
    "print(example4)"
   ]
  },
  {
   "cell_type": "code",
   "execution_count": 5,
   "metadata": {},
   "outputs": [
    {
     "name": "stdout",
     "output_type": "stream",
     "text": [
      "entertain \n",
      " me\n"
     ]
    }
   ],
   "source": [
    "example2 = \"concatenation\"\n",
    "print('entertain \\n me')"
   ]
  },
  {
   "cell_type": "code",
   "execution_count": null,
   "metadata": {},
   "outputs": [],
   "source": [
    "example + \" \" + example2"
   ]
  },
  {
   "cell_type": "code",
   "execution_count": null,
   "metadata": {},
   "outputs": [],
   "source": [
    "example = example + \" \" +  example2\n",
    "\n",
    "# also:\n",
    "#example += \" \" + example2"
   ]
  },
  {
   "cell_type": "code",
   "execution_count": null,
   "metadata": {},
   "outputs": [],
   "source": [
    "\"\" in [\"\", \"0\"]"
   ]
  },
  {
   "cell_type": "markdown",
   "metadata": {},
   "source": [
    "# String Formatting"
   ]
  },
  {
   "cell_type": "code",
   "execution_count": null,
   "metadata": {},
   "outputs": [],
   "source": [
    "example = \"abcdefghijklmnopqrstuvwxyz\" "
   ]
  },
  {
   "cell_type": "code",
   "execution_count": null,
   "metadata": {},
   "outputs": [],
   "source": [
    "import string\n",
    "string.ascii_lowercase\n",
    "\"h e w d a e f e w d a t\".split(maxsplit=5)"
   ]
  },
  {
   "cell_type": "code",
   "execution_count": null,
   "metadata": {},
   "outputs": [],
   "source": [
    "# C style string formatting\n",
    "\n",
    "example = 718\n",
    "\n",
    "\"%s\" % example"
   ]
  },
  {
   "cell_type": "code",
   "execution_count": 2,
   "metadata": {},
   "outputs": [
    {
     "data": {
      "text/plain": [
       "'string 718 99 3.1416 0x2ce'"
      ]
     },
     "execution_count": 2,
     "metadata": {},
     "output_type": "execute_result"
    }
   ],
   "source": [
    "s = \"string\"\n",
    "i = 0x2ce\n",
    "f = 98.6 \n",
    "e = 3.14159\n",
    "g = 718\n",
    "\"%s %d %.f %.4f 0x%x\" % (s, i, f, e, g)"
   ]
  },
  {
   "cell_type": "code",
   "execution_count": null,
   "metadata": {},
   "outputs": [],
   "source": [
    "name = input(\"Enter a name here:\")\n",
    "errno = 50159747054\n",
    "\n",
    "'Hey %(name)s, there is a 0x%(errno)x error!' % { \"name\": name, \"errno\": errno }"
   ]
  },
  {
   "cell_type": "code",
   "execution_count": null,
   "metadata": {},
   "outputs": [],
   "source": [
    "# \"New\" style string formatting\n",
    "e = \"Hello\"\n",
    "f = \"World\"\n",
    "\"{} {}\".format(e, f)\n"
   ]
  },
  {
   "cell_type": "code",
   "execution_count": null,
   "metadata": {},
   "outputs": [],
   "source": [
    "\"{e} {f}\".format(e=e, f=f)"
   ]
  },
  {
   "cell_type": "code",
   "execution_count": null,
   "metadata": {},
   "outputs": [],
   "source": [
    "# f strings in python 3.6+\n",
    "e = \"Hello\"\n",
    "f = \"World\"\n",
    "\n",
    "f\"{e} {f} {i / 100.0}\""
   ]
  },
  {
   "cell_type": "code",
   "execution_count": null,
   "metadata": {},
   "outputs": [],
   "source": [
    "f\"{round(2.43434, 4)}\""
   ]
  },
  {
   "cell_type": "code",
   "execution_count": null,
   "metadata": {},
   "outputs": [],
   "source": [
    "i = 0x2ce\n",
    "str(i)"
   ]
  },
  {
   "cell_type": "code",
   "execution_count": null,
   "metadata": {},
   "outputs": [],
   "source": [
    "# operations"
   ]
  },
  {
   "cell_type": "code",
   "execution_count": null,
   "metadata": {},
   "outputs": [],
   "source": [
    "\"\".join(\"string\")"
   ]
  },
  {
   "cell_type": "code",
   "execution_count": null,
   "metadata": {},
   "outputs": [],
   "source": [
    "\"\".join([\"s\", \"t\", \"r\", \"i\", \"n\", \"g\"])"
   ]
  },
  {
   "cell_type": "code",
   "execution_count": null,
   "metadata": {},
   "outputs": [],
   "source": [
    "example = \"this is a string\"\n",
    "example.capitalize()"
   ]
  },
  {
   "cell_type": "code",
   "execution_count": null,
   "metadata": {},
   "outputs": [],
   "source": [
    "example.title()"
   ]
  },
  {
   "cell_type": "code",
   "execution_count": null,
   "metadata": {},
   "outputs": [],
   "source": [
    "example2 = example.upper()\n",
    "example2"
   ]
  },
  {
   "cell_type": "code",
   "execution_count": null,
   "metadata": {},
   "outputs": [],
   "source": [
    "example2.lower()"
   ]
  },
  {
   "cell_type": "code",
   "execution_count": null,
   "metadata": {},
   "outputs": [],
   "source": [
    "example2.center(100)"
   ]
  },
  {
   "cell_type": "code",
   "execution_count": null,
   "metadata": {},
   "outputs": [],
   "source": [
    "example2.count(\"IS\")"
   ]
  },
  {
   "cell_type": "code",
   "execution_count": null,
   "metadata": {},
   "outputs": [],
   "source": [
    "example2.find(\"THIS\")"
   ]
  },
  {
   "cell_type": "code",
   "execution_count": null,
   "metadata": {},
   "outputs": [],
   "source": [
    "example2.endswith(\"string\") # then try example2.lower().endswith(\"string\") to show chained operations"
   ]
  },
  {
   "cell_type": "code",
   "execution_count": null,
   "metadata": {},
   "outputs": [],
   "source": [
    "\"this is a sentence\".split()"
   ]
  },
  {
   "cell_type": "code",
   "execution_count": null,
   "metadata": {},
   "outputs": [],
   "source": [
    "\"1234567\".isalnum()"
   ]
  },
  {
   "cell_type": "code",
   "execution_count": null,
   "metadata": {},
   "outputs": [],
   "source": [
    "example = \"new string\"\n",
    "example[0:3] "
   ]
  },
  {
   "cell_type": "code",
   "execution_count": null,
   "metadata": {},
   "outputs": [],
   "source": [
    "example = \"   message    \"\n",
    "\n",
    "print(example.lstrip())\n",
    "print(example.rstrip())\n",
    "print(example.strip())"
   ]
  },
  {
   "cell_type": "code",
   "execution_count": null,
   "metadata": {},
   "outputs": [],
   "source": [
    "s = \"\"\n",
    "[s for s in dir(\"\") if not s.endswith('__')]"
   ]
  },
  {
   "cell_type": "markdown",
   "metadata": {},
   "source": [
    "# Putting it all together"
   ]
  },
  {
   "cell_type": "markdown",
   "metadata": {},
   "source": [
    "## Example 1 Creating a madlib:\n",
    "\n",
    "\"It was a {first_adjective}, cold November day. I woke up to the {second_adjective} smell of {first_noun} downstairs. I quickly got ready, grabbing my {second_noun} and ran downstairs to {first_verb} the {third_noun}. It was {day} and I was late! I rushed outside to see {person} at the bodega {second_verb}. I had no time for that and it was {weather} outside so I headed to the subway. On the train, I see {crazy_event} so I {action_in_response}. I finally get to my stop and leave the train. I'm {number} minutes {time_of_arrival} so I {action}. I get to the meeting {condition} only to find out that {meeting_event}\""
   ]
  },
  {
   "cell_type": "code",
   "execution_count": 9,
   "metadata": {},
   "outputs": [
    {
     "name": "stdout",
     "output_type": "stream",
     "text": [
      "enter an adjective: shocking\n",
      "enter an adjective: extra nasty\n",
      "enter a noun: turtle butts\n",
      "enter a noun: taco ingredients\n",
      "enter a verb: burn\n",
      "enter a noun: bridge\n",
      "enter a special day: president's day weekend\n",
      "enter a person: Vin diesel\n",
      "enter a verb: wildin'\n",
      "enter a weather condition (e.g. hot, cold): hotter than a mother ....\n",
      "enter a crazy event: aliens landing\n",
      "enter an action in response: start a full on war\n",
      "enter a number of minutes: 493\n",
      "enter early/late: late\n",
      "enter an action: argue with everybody\n",
      "enter the condition you're in when you show up: hungover\n",
      "enter a reason the meeting was cancelled: diarrhea took over\n",
      "It was a shocking, cold November day. I woke up to the nasty smell of turtle butts downstairs. I quickly got ready, grabbing my taco ingredients and ran downstairs to burn the bridge. It was president's day weekend and I was late! I rushed outside to see wildin at the bodega wildin'. I had no time for that and it was hotter than a mother .... outside so I headed to the subway. On the train, I see aliens landing so I start a full on war. I finally get to my stop and leave the train. I'm 492 minutes early so I argue with everybody. I get to the meeting hungover only to find out that diarrhea took over\n"
     ]
    }
   ],
   "source": [
    "maddest = f'It was a {first_adjective}, cold November day. I woke up to the {second_adjective} smell of {first_noun} downstairs. I quickly got ready, grabbing my {second_noun} and ran downstairs to {first_verb} the {third_noun}. It was {day} and I was late! I rushed outside to see {person} at the bodega {second_verb}. I had no time for that and it was {weather} outside so I headed to the subway. On the train, I see {crazy_event} so I {action_in_response}. I finally get to my stop and leave the train. I\\'m {number} minutes {time_of_arrival} so I {action}. I get to the meeting {condition} only to find out that {meeting_event}'\n",
    "\n",
    "first_adjective = input(\"enter an adjective: \")\n",
    "second_adjective = input(\"enter an adjective: \")\n",
    "first_noun = input(\"enter a noun: \")\n",
    "second_noun = input(\"enter a noun: \")\n",
    "first_verb = input(\"enter a verb: \")\n",
    "third_noun = input(\"enter a noun: \")\n",
    "day = input(\"enter a special day: \")\n",
    "person = input(\"enter a person: \")\n",
    "second_verb = input(\"enter a verb: \")\n",
    "weather = input(\"enter a weather condition (e.g. hot, cold): \")\n",
    "crazy_event = input(\"enter a crazy event: \")\n",
    "action_in_response = input(\"enter an action in response: \")\n",
    "number = input(\"enter a number of minutes: \")\n",
    "time_of_arrival = input(\"enter early/late: \")\n",
    "action = input(\"enter an action: \")\n",
    "condition = input(\"enter the condition you're in when you show up: \")\n",
    "meeting_event = input(\"enter a reason the meeting was cancelled: \")\n",
    "\n",
    "print(maddest)\n"
   ]
  },
  {
   "cell_type": "markdown",
   "metadata": {},
   "source": [
    "<div style=\"background: #000;\n",
    "            color: #FFF;\n",
    "            margin: 0px;\n",
    "                padding: 10px 0px 20px 0px;\n",
    "            text-align: center; \n",
    "                \">\n",
    "    <h1>Lab</h1>\n",
    "</div>\n"
   ]
  },
  {
   "cell_type": "markdown",
   "metadata": {},
   "source": [
    "### Question 1: \n",
    "\n",
    "Explain data types in your own words."
   ]
  },
  {
   "cell_type": "markdown",
   "metadata": {},
   "source": []
  },
  {
   "cell_type": "markdown",
   "metadata": {},
   "source": [
    "### Exercise 1:\n",
    "\n",
    "Store your first name, in lowercase, in a variable.\n",
    "Using that one variable, print your name in lowercase, Titlecase, and UPPERCASE.\n"
   ]
  },
  {
   "cell_type": "code",
   "execution_count": 1,
   "metadata": {},
   "outputs": [
    {
     "name": "stdout",
     "output_type": "stream",
     "text": [
      "luis\n",
      "Luis\n",
      "LUIS\n"
     ]
    }
   ],
   "source": [
    "name = \"luis\"\n",
    "print(name.lower())\n",
    "print(name.title())\n",
    "print(name.upper())"
   ]
  },
  {
   "cell_type": "markdown",
   "metadata": {},
   "source": [
    "### Exercise 2:\n",
    "\n",
    "Find a quote that you like. Store the quote in a variable, with an appropriate introduction such as \"Ken Thompson once said, 'One of my most productive days was throwing away 1000 lines of code'\". Print the quote 1000 times."
   ]
  },
  {
   "cell_type": "code",
   "execution_count": 6,
   "metadata": {},
   "outputs": [
    {
     "name": "stdout",
     "output_type": "stream",
     "text": [
      "Old friends used to say, \"Could've, would've, should've, but ya didn't.\"\n",
      "Old friends used to say, \"Could've, would've, should've, but ya didn't.\"\n",
      "Old friends used to say, \"Could've, would've, should've, but ya didn't.\"\n",
      "Old friends used to say, \"Could've, would've, should've, but ya didn't.\"\n",
      "Old friends used to say, \"Could've, would've, should've, but ya didn't.\"\n",
      "Old friends used to say, \"Could've, would've, should've, but ya didn't.\"\n",
      "Old friends used to say, \"Could've, would've, should've, but ya didn't.\"\n",
      "Old friends used to say, \"Could've, would've, should've, but ya didn't.\"\n",
      "Old friends used to say, \"Could've, would've, should've, but ya didn't.\"\n",
      "Old friends used to say, \"Could've, would've, should've, but ya didn't.\"\n",
      "Old friends used to say, \"Could've, would've, should've, but ya didn't.\"\n",
      "Old friends used to say, \"Could've, would've, should've, but ya didn't.\"\n",
      "Old friends used to say, \"Could've, would've, should've, but ya didn't.\"\n",
      "Old friends used to say, \"Could've, would've, should've, but ya didn't.\"\n",
      "Old friends used to say, \"Could've, would've, should've, but ya didn't.\"\n",
      "Old friends used to say, \"Could've, would've, should've, but ya didn't.\"\n",
      "Old friends used to say, \"Could've, would've, should've, but ya didn't.\"\n",
      "Old friends used to say, \"Could've, would've, should've, but ya didn't.\"\n",
      "Old friends used to say, \"Could've, would've, should've, but ya didn't.\"\n",
      "Old friends used to say, \"Could've, would've, should've, but ya didn't.\"\n",
      "Old friends used to say, \"Could've, would've, should've, but ya didn't.\"\n",
      "Old friends used to say, \"Could've, would've, should've, but ya didn't.\"\n",
      "Old friends used to say, \"Could've, would've, should've, but ya didn't.\"\n",
      "Old friends used to say, \"Could've, would've, should've, but ya didn't.\"\n",
      "Old friends used to say, \"Could've, would've, should've, but ya didn't.\"\n",
      "Old friends used to say, \"Could've, would've, should've, but ya didn't.\"\n",
      "Old friends used to say, \"Could've, would've, should've, but ya didn't.\"\n",
      "Old friends used to say, \"Could've, would've, should've, but ya didn't.\"\n",
      "Old friends used to say, \"Could've, would've, should've, but ya didn't.\"\n",
      "Old friends used to say, \"Could've, would've, should've, but ya didn't.\"\n",
      "Old friends used to say, \"Could've, would've, should've, but ya didn't.\"\n",
      "Old friends used to say, \"Could've, would've, should've, but ya didn't.\"\n",
      "Old friends used to say, \"Could've, would've, should've, but ya didn't.\"\n",
      "Old friends used to say, \"Could've, would've, should've, but ya didn't.\"\n",
      "Old friends used to say, \"Could've, would've, should've, but ya didn't.\"\n",
      "Old friends used to say, \"Could've, would've, should've, but ya didn't.\"\n",
      "Old friends used to say, \"Could've, would've, should've, but ya didn't.\"\n",
      "Old friends used to say, \"Could've, would've, should've, but ya didn't.\"\n",
      "Old friends used to say, \"Could've, would've, should've, but ya didn't.\"\n",
      "Old friends used to say, \"Could've, would've, should've, but ya didn't.\"\n",
      "Old friends used to say, \"Could've, would've, should've, but ya didn't.\"\n",
      "Old friends used to say, \"Could've, would've, should've, but ya didn't.\"\n",
      "Old friends used to say, \"Could've, would've, should've, but ya didn't.\"\n",
      "Old friends used to say, \"Could've, would've, should've, but ya didn't.\"\n",
      "Old friends used to say, \"Could've, would've, should've, but ya didn't.\"\n",
      "Old friends used to say, \"Could've, would've, should've, but ya didn't.\"\n",
      "Old friends used to say, \"Could've, would've, should've, but ya didn't.\"\n",
      "Old friends used to say, \"Could've, would've, should've, but ya didn't.\"\n",
      "Old friends used to say, \"Could've, would've, should've, but ya didn't.\"\n",
      "Old friends used to say, \"Could've, would've, should've, but ya didn't.\"\n",
      "Old friends used to say, \"Could've, would've, should've, but ya didn't.\"\n",
      "Old friends used to say, \"Could've, would've, should've, but ya didn't.\"\n",
      "Old friends used to say, \"Could've, would've, should've, but ya didn't.\"\n",
      "Old friends used to say, \"Could've, would've, should've, but ya didn't.\"\n",
      "Old friends used to say, \"Could've, would've, should've, but ya didn't.\"\n",
      "Old friends used to say, \"Could've, would've, should've, but ya didn't.\"\n",
      "Old friends used to say, \"Could've, would've, should've, but ya didn't.\"\n",
      "Old friends used to say, \"Could've, would've, should've, but ya didn't.\"\n",
      "Old friends used to say, \"Could've, would've, should've, but ya didn't.\"\n",
      "Old friends used to say, \"Could've, would've, should've, but ya didn't.\"\n",
      "Old friends used to say, \"Could've, would've, should've, but ya didn't.\"\n",
      "Old friends used to say, \"Could've, would've, should've, but ya didn't.\"\n",
      "Old friends used to say, \"Could've, would've, should've, but ya didn't.\"\n",
      "Old friends used to say, \"Could've, would've, should've, but ya didn't.\"\n",
      "Old friends used to say, \"Could've, would've, should've, but ya didn't.\"\n",
      "Old friends used to say, \"Could've, would've, should've, but ya didn't.\"\n",
      "Old friends used to say, \"Could've, would've, should've, but ya didn't.\"\n",
      "Old friends used to say, \"Could've, would've, should've, but ya didn't.\"\n",
      "Old friends used to say, \"Could've, would've, should've, but ya didn't.\"\n",
      "Old friends used to say, \"Could've, would've, should've, but ya didn't.\"\n",
      "Old friends used to say, \"Could've, would've, should've, but ya didn't.\"\n",
      "Old friends used to say, \"Could've, would've, should've, but ya didn't.\"\n",
      "Old friends used to say, \"Could've, would've, should've, but ya didn't.\"\n",
      "Old friends used to say, \"Could've, would've, should've, but ya didn't.\"\n",
      "Old friends used to say, \"Could've, would've, should've, but ya didn't.\"\n",
      "Old friends used to say, \"Could've, would've, should've, but ya didn't.\"\n",
      "Old friends used to say, \"Could've, would've, should've, but ya didn't.\"\n",
      "Old friends used to say, \"Could've, would've, should've, but ya didn't.\"\n",
      "Old friends used to say, \"Could've, would've, should've, but ya didn't.\"\n",
      "Old friends used to say, \"Could've, would've, should've, but ya didn't.\"\n",
      "Old friends used to say, \"Could've, would've, should've, but ya didn't.\"\n",
      "Old friends used to say, \"Could've, would've, should've, but ya didn't.\"\n",
      "Old friends used to say, \"Could've, would've, should've, but ya didn't.\"\n",
      "Old friends used to say, \"Could've, would've, should've, but ya didn't.\"\n",
      "Old friends used to say, \"Could've, would've, should've, but ya didn't.\"\n",
      "Old friends used to say, \"Could've, would've, should've, but ya didn't.\"\n",
      "Old friends used to say, \"Could've, would've, should've, but ya didn't.\"\n",
      "Old friends used to say, \"Could've, would've, should've, but ya didn't.\"\n",
      "Old friends used to say, \"Could've, would've, should've, but ya didn't.\"\n",
      "Old friends used to say, \"Could've, would've, should've, but ya didn't.\"\n",
      "Old friends used to say, \"Could've, would've, should've, but ya didn't.\"\n",
      "Old friends used to say, \"Could've, would've, should've, but ya didn't.\"\n",
      "Old friends used to say, \"Could've, would've, should've, but ya didn't.\"\n",
      "Old friends used to say, \"Could've, would've, should've, but ya didn't.\"\n",
      "Old friends used to say, \"Could've, would've, should've, but ya didn't.\"\n",
      "Old friends used to say, \"Could've, would've, should've, but ya didn't.\"\n",
      "Old friends used to say, \"Could've, would've, should've, but ya didn't.\"\n",
      "Old friends used to say, \"Could've, would've, should've, but ya didn't.\"\n",
      "Old friends used to say, \"Could've, would've, should've, but ya didn't.\"\n",
      "Old friends used to say, \"Could've, would've, should've, but ya didn't.\"\n",
      "Old friends used to say, \"Could've, would've, should've, but ya didn't.\"\n",
      "Old friends used to say, \"Could've, would've, should've, but ya didn't.\"\n",
      "Old friends used to say, \"Could've, would've, should've, but ya didn't.\"\n",
      "Old friends used to say, \"Could've, would've, should've, but ya didn't.\"\n",
      "Old friends used to say, \"Could've, would've, should've, but ya didn't.\"\n",
      "Old friends used to say, \"Could've, would've, should've, but ya didn't.\"\n",
      "Old friends used to say, \"Could've, would've, should've, but ya didn't.\"\n",
      "Old friends used to say, \"Could've, would've, should've, but ya didn't.\"\n",
      "Old friends used to say, \"Could've, would've, should've, but ya didn't.\"\n",
      "Old friends used to say, \"Could've, would've, should've, but ya didn't.\"\n",
      "Old friends used to say, \"Could've, would've, should've, but ya didn't.\"\n",
      "Old friends used to say, \"Could've, would've, should've, but ya didn't.\"\n",
      "Old friends used to say, \"Could've, would've, should've, but ya didn't.\"\n",
      "Old friends used to say, \"Could've, would've, should've, but ya didn't.\"\n",
      "Old friends used to say, \"Could've, would've, should've, but ya didn't.\"\n",
      "Old friends used to say, \"Could've, would've, should've, but ya didn't.\"\n",
      "Old friends used to say, \"Could've, would've, should've, but ya didn't.\"\n",
      "Old friends used to say, \"Could've, would've, should've, but ya didn't.\"\n",
      "Old friends used to say, \"Could've, would've, should've, but ya didn't.\"\n",
      "Old friends used to say, \"Could've, would've, should've, but ya didn't.\"\n",
      "Old friends used to say, \"Could've, would've, should've, but ya didn't.\"\n",
      "Old friends used to say, \"Could've, would've, should've, but ya didn't.\"\n",
      "Old friends used to say, \"Could've, would've, should've, but ya didn't.\"\n",
      "Old friends used to say, \"Could've, would've, should've, but ya didn't.\"\n",
      "Old friends used to say, \"Could've, would've, should've, but ya didn't.\"\n",
      "Old friends used to say, \"Could've, would've, should've, but ya didn't.\"\n",
      "Old friends used to say, \"Could've, would've, should've, but ya didn't.\"\n",
      "Old friends used to say, \"Could've, would've, should've, but ya didn't.\"\n",
      "Old friends used to say, \"Could've, would've, should've, but ya didn't.\"\n",
      "Old friends used to say, \"Could've, would've, should've, but ya didn't.\"\n",
      "Old friends used to say, \"Could've, would've, should've, but ya didn't.\"\n",
      "Old friends used to say, \"Could've, would've, should've, but ya didn't.\"\n",
      "Old friends used to say, \"Could've, would've, should've, but ya didn't.\"\n",
      "Old friends used to say, \"Could've, would've, should've, but ya didn't.\"\n",
      "Old friends used to say, \"Could've, would've, should've, but ya didn't.\"\n",
      "Old friends used to say, \"Could've, would've, should've, but ya didn't.\"\n",
      "Old friends used to say, \"Could've, would've, should've, but ya didn't.\"\n",
      "Old friends used to say, \"Could've, would've, should've, but ya didn't.\"\n",
      "Old friends used to say, \"Could've, would've, should've, but ya didn't.\"\n",
      "Old friends used to say, \"Could've, would've, should've, but ya didn't.\"\n",
      "Old friends used to say, \"Could've, would've, should've, but ya didn't.\"\n",
      "Old friends used to say, \"Could've, would've, should've, but ya didn't.\"\n",
      "Old friends used to say, \"Could've, would've, should've, but ya didn't.\"\n",
      "Old friends used to say, \"Could've, would've, should've, but ya didn't.\"\n",
      "Old friends used to say, \"Could've, would've, should've, but ya didn't.\"\n",
      "Old friends used to say, \"Could've, would've, should've, but ya didn't.\"\n",
      "Old friends used to say, \"Could've, would've, should've, but ya didn't.\"\n",
      "Old friends used to say, \"Could've, would've, should've, but ya didn't.\"\n",
      "Old friends used to say, \"Could've, would've, should've, but ya didn't.\"\n",
      "Old friends used to say, \"Could've, would've, should've, but ya didn't.\"\n",
      "Old friends used to say, \"Could've, would've, should've, but ya didn't.\"\n",
      "Old friends used to say, \"Could've, would've, should've, but ya didn't.\"\n",
      "Old friends used to say, \"Could've, would've, should've, but ya didn't.\"\n",
      "Old friends used to say, \"Could've, would've, should've, but ya didn't.\"\n",
      "Old friends used to say, \"Could've, would've, should've, but ya didn't.\"\n",
      "Old friends used to say, \"Could've, would've, should've, but ya didn't.\"\n",
      "Old friends used to say, \"Could've, would've, should've, but ya didn't.\"\n",
      "Old friends used to say, \"Could've, would've, should've, but ya didn't.\"\n",
      "Old friends used to say, \"Could've, would've, should've, but ya didn't.\"\n",
      "Old friends used to say, \"Could've, would've, should've, but ya didn't.\"\n",
      "Old friends used to say, \"Could've, would've, should've, but ya didn't.\"\n",
      "Old friends used to say, \"Could've, would've, should've, but ya didn't.\"\n",
      "Old friends used to say, \"Could've, would've, should've, but ya didn't.\"\n",
      "Old friends used to say, \"Could've, would've, should've, but ya didn't.\"\n",
      "Old friends used to say, \"Could've, would've, should've, but ya didn't.\"\n",
      "Old friends used to say, \"Could've, would've, should've, but ya didn't.\"\n",
      "Old friends used to say, \"Could've, would've, should've, but ya didn't.\"\n",
      "Old friends used to say, \"Could've, would've, should've, but ya didn't.\"\n",
      "Old friends used to say, \"Could've, would've, should've, but ya didn't.\"\n",
      "Old friends used to say, \"Could've, would've, should've, but ya didn't.\"\n",
      "Old friends used to say, \"Could've, would've, should've, but ya didn't.\"\n",
      "Old friends used to say, \"Could've, would've, should've, but ya didn't.\"\n",
      "Old friends used to say, \"Could've, would've, should've, but ya didn't.\"\n",
      "Old friends used to say, \"Could've, would've, should've, but ya didn't.\"\n",
      "Old friends used to say, \"Could've, would've, should've, but ya didn't.\"\n",
      "Old friends used to say, \"Could've, would've, should've, but ya didn't.\"\n",
      "Old friends used to say, \"Could've, would've, should've, but ya didn't.\"\n",
      "Old friends used to say, \"Could've, would've, should've, but ya didn't.\"\n",
      "Old friends used to say, \"Could've, would've, should've, but ya didn't.\"\n",
      "Old friends used to say, \"Could've, would've, should've, but ya didn't.\"\n",
      "Old friends used to say, \"Could've, would've, should've, but ya didn't.\"\n",
      "Old friends used to say, \"Could've, would've, should've, but ya didn't.\"\n",
      "Old friends used to say, \"Could've, would've, should've, but ya didn't.\"\n",
      "Old friends used to say, \"Could've, would've, should've, but ya didn't.\"\n",
      "Old friends used to say, \"Could've, would've, should've, but ya didn't.\"\n",
      "Old friends used to say, \"Could've, would've, should've, but ya didn't.\"\n",
      "Old friends used to say, \"Could've, would've, should've, but ya didn't.\"\n",
      "Old friends used to say, \"Could've, would've, should've, but ya didn't.\"\n",
      "Old friends used to say, \"Could've, would've, should've, but ya didn't.\"\n",
      "Old friends used to say, \"Could've, would've, should've, but ya didn't.\"\n",
      "Old friends used to say, \"Could've, would've, should've, but ya didn't.\"\n",
      "Old friends used to say, \"Could've, would've, should've, but ya didn't.\"\n",
      "Old friends used to say, \"Could've, would've, should've, but ya didn't.\"\n",
      "Old friends used to say, \"Could've, would've, should've, but ya didn't.\"\n",
      "Old friends used to say, \"Could've, would've, should've, but ya didn't.\"\n",
      "Old friends used to say, \"Could've, would've, should've, but ya didn't.\"\n",
      "Old friends used to say, \"Could've, would've, should've, but ya didn't.\"\n",
      "Old friends used to say, \"Could've, would've, should've, but ya didn't.\"\n",
      "Old friends used to say, \"Could've, would've, should've, but ya didn't.\"\n",
      "Old friends used to say, \"Could've, would've, should've, but ya didn't.\"\n",
      "Old friends used to say, \"Could've, would've, should've, but ya didn't.\"\n",
      "Old friends used to say, \"Could've, would've, should've, but ya didn't.\"\n",
      "Old friends used to say, \"Could've, would've, should've, but ya didn't.\"\n",
      "Old friends used to say, \"Could've, would've, should've, but ya didn't.\"\n",
      "Old friends used to say, \"Could've, would've, should've, but ya didn't.\"\n",
      "Old friends used to say, \"Could've, would've, should've, but ya didn't.\"\n",
      "Old friends used to say, \"Could've, would've, should've, but ya didn't.\"\n",
      "Old friends used to say, \"Could've, would've, should've, but ya didn't.\"\n",
      "Old friends used to say, \"Could've, would've, should've, but ya didn't.\"\n",
      "Old friends used to say, \"Could've, would've, should've, but ya didn't.\"\n",
      "Old friends used to say, \"Could've, would've, should've, but ya didn't.\"\n",
      "Old friends used to say, \"Could've, would've, should've, but ya didn't.\"\n",
      "Old friends used to say, \"Could've, would've, should've, but ya didn't.\"\n",
      "Old friends used to say, \"Could've, would've, should've, but ya didn't.\"\n",
      "Old friends used to say, \"Could've, would've, should've, but ya didn't.\"\n",
      "Old friends used to say, \"Could've, would've, should've, but ya didn't.\"\n",
      "Old friends used to say, \"Could've, would've, should've, but ya didn't.\"\n",
      "Old friends used to say, \"Could've, would've, should've, but ya didn't.\"\n",
      "Old friends used to say, \"Could've, would've, should've, but ya didn't.\"\n",
      "Old friends used to say, \"Could've, would've, should've, but ya didn't.\"\n",
      "Old friends used to say, \"Could've, would've, should've, but ya didn't.\"\n",
      "Old friends used to say, \"Could've, would've, should've, but ya didn't.\"\n",
      "Old friends used to say, \"Could've, would've, should've, but ya didn't.\"\n",
      "Old friends used to say, \"Could've, would've, should've, but ya didn't.\"\n",
      "Old friends used to say, \"Could've, would've, should've, but ya didn't.\"\n",
      "Old friends used to say, \"Could've, would've, should've, but ya didn't.\"\n",
      "Old friends used to say, \"Could've, would've, should've, but ya didn't.\"\n",
      "Old friends used to say, \"Could've, would've, should've, but ya didn't.\"\n",
      "Old friends used to say, \"Could've, would've, should've, but ya didn't.\"\n",
      "Old friends used to say, \"Could've, would've, should've, but ya didn't.\"\n",
      "Old friends used to say, \"Could've, would've, should've, but ya didn't.\"\n",
      "Old friends used to say, \"Could've, would've, should've, but ya didn't.\"\n",
      "Old friends used to say, \"Could've, would've, should've, but ya didn't.\"\n",
      "Old friends used to say, \"Could've, would've, should've, but ya didn't.\"\n",
      "Old friends used to say, \"Could've, would've, should've, but ya didn't.\"\n",
      "Old friends used to say, \"Could've, would've, should've, but ya didn't.\"\n",
      "Old friends used to say, \"Could've, would've, should've, but ya didn't.\"\n",
      "Old friends used to say, \"Could've, would've, should've, but ya didn't.\"\n",
      "Old friends used to say, \"Could've, would've, should've, but ya didn't.\"\n",
      "Old friends used to say, \"Could've, would've, should've, but ya didn't.\"\n",
      "Old friends used to say, \"Could've, would've, should've, but ya didn't.\"\n",
      "Old friends used to say, \"Could've, would've, should've, but ya didn't.\"\n",
      "Old friends used to say, \"Could've, would've, should've, but ya didn't.\"\n",
      "Old friends used to say, \"Could've, would've, should've, but ya didn't.\"\n",
      "Old friends used to say, \"Could've, would've, should've, but ya didn't.\"\n",
      "Old friends used to say, \"Could've, would've, should've, but ya didn't.\"\n",
      "Old friends used to say, \"Could've, would've, should've, but ya didn't.\"\n",
      "Old friends used to say, \"Could've, would've, should've, but ya didn't.\"\n",
      "Old friends used to say, \"Could've, would've, should've, but ya didn't.\"\n",
      "Old friends used to say, \"Could've, would've, should've, but ya didn't.\"\n",
      "Old friends used to say, \"Could've, would've, should've, but ya didn't.\"\n",
      "Old friends used to say, \"Could've, would've, should've, but ya didn't.\"\n",
      "Old friends used to say, \"Could've, would've, should've, but ya didn't.\"\n",
      "Old friends used to say, \"Could've, would've, should've, but ya didn't.\"\n",
      "Old friends used to say, \"Could've, would've, should've, but ya didn't.\"\n",
      "Old friends used to say, \"Could've, would've, should've, but ya didn't.\"\n",
      "Old friends used to say, \"Could've, would've, should've, but ya didn't.\"\n",
      "Old friends used to say, \"Could've, would've, should've, but ya didn't.\"\n",
      "Old friends used to say, \"Could've, would've, should've, but ya didn't.\"\n",
      "Old friends used to say, \"Could've, would've, should've, but ya didn't.\"\n",
      "Old friends used to say, \"Could've, would've, should've, but ya didn't.\"\n",
      "Old friends used to say, \"Could've, would've, should've, but ya didn't.\"\n",
      "Old friends used to say, \"Could've, would've, should've, but ya didn't.\"\n",
      "Old friends used to say, \"Could've, would've, should've, but ya didn't.\"\n",
      "Old friends used to say, \"Could've, would've, should've, but ya didn't.\"\n",
      "Old friends used to say, \"Could've, would've, should've, but ya didn't.\"\n",
      "Old friends used to say, \"Could've, would've, should've, but ya didn't.\"\n",
      "Old friends used to say, \"Could've, would've, should've, but ya didn't.\"\n",
      "Old friends used to say, \"Could've, would've, should've, but ya didn't.\"\n",
      "Old friends used to say, \"Could've, would've, should've, but ya didn't.\"\n",
      "Old friends used to say, \"Could've, would've, should've, but ya didn't.\"\n",
      "Old friends used to say, \"Could've, would've, should've, but ya didn't.\"\n",
      "Old friends used to say, \"Could've, would've, should've, but ya didn't.\"\n",
      "Old friends used to say, \"Could've, would've, should've, but ya didn't.\"\n",
      "Old friends used to say, \"Could've, would've, should've, but ya didn't.\"\n",
      "Old friends used to say, \"Could've, would've, should've, but ya didn't.\"\n",
      "Old friends used to say, \"Could've, would've, should've, but ya didn't.\"\n",
      "Old friends used to say, \"Could've, would've, should've, but ya didn't.\"\n",
      "Old friends used to say, \"Could've, would've, should've, but ya didn't.\"\n",
      "Old friends used to say, \"Could've, would've, should've, but ya didn't.\"\n",
      "Old friends used to say, \"Could've, would've, should've, but ya didn't.\"\n",
      "Old friends used to say, \"Could've, would've, should've, but ya didn't.\"\n",
      "Old friends used to say, \"Could've, would've, should've, but ya didn't.\"\n",
      "Old friends used to say, \"Could've, would've, should've, but ya didn't.\"\n",
      "Old friends used to say, \"Could've, would've, should've, but ya didn't.\"\n",
      "Old friends used to say, \"Could've, would've, should've, but ya didn't.\"\n",
      "Old friends used to say, \"Could've, would've, should've, but ya didn't.\"\n",
      "Old friends used to say, \"Could've, would've, should've, but ya didn't.\"\n",
      "Old friends used to say, \"Could've, would've, should've, but ya didn't.\"\n",
      "Old friends used to say, \"Could've, would've, should've, but ya didn't.\"\n",
      "Old friends used to say, \"Could've, would've, should've, but ya didn't.\"\n",
      "Old friends used to say, \"Could've, would've, should've, but ya didn't.\"\n",
      "Old friends used to say, \"Could've, would've, should've, but ya didn't.\"\n",
      "Old friends used to say, \"Could've, would've, should've, but ya didn't.\"\n",
      "Old friends used to say, \"Could've, would've, should've, but ya didn't.\"\n",
      "Old friends used to say, \"Could've, would've, should've, but ya didn't.\"\n",
      "Old friends used to say, \"Could've, would've, should've, but ya didn't.\"\n",
      "Old friends used to say, \"Could've, would've, should've, but ya didn't.\"\n",
      "Old friends used to say, \"Could've, would've, should've, but ya didn't.\"\n",
      "Old friends used to say, \"Could've, would've, should've, but ya didn't.\"\n",
      "Old friends used to say, \"Could've, would've, should've, but ya didn't.\"\n",
      "Old friends used to say, \"Could've, would've, should've, but ya didn't.\"\n",
      "Old friends used to say, \"Could've, would've, should've, but ya didn't.\"\n",
      "Old friends used to say, \"Could've, would've, should've, but ya didn't.\"\n",
      "Old friends used to say, \"Could've, would've, should've, but ya didn't.\"\n",
      "Old friends used to say, \"Could've, would've, should've, but ya didn't.\"\n",
      "Old friends used to say, \"Could've, would've, should've, but ya didn't.\"\n",
      "Old friends used to say, \"Could've, would've, should've, but ya didn't.\"\n",
      "Old friends used to say, \"Could've, would've, should've, but ya didn't.\"\n",
      "Old friends used to say, \"Could've, would've, should've, but ya didn't.\"\n",
      "Old friends used to say, \"Could've, would've, should've, but ya didn't.\"\n",
      "Old friends used to say, \"Could've, would've, should've, but ya didn't.\"\n",
      "Old friends used to say, \"Could've, would've, should've, but ya didn't.\"\n",
      "Old friends used to say, \"Could've, would've, should've, but ya didn't.\"\n",
      "Old friends used to say, \"Could've, would've, should've, but ya didn't.\"\n",
      "Old friends used to say, \"Could've, would've, should've, but ya didn't.\"\n",
      "Old friends used to say, \"Could've, would've, should've, but ya didn't.\"\n",
      "Old friends used to say, \"Could've, would've, should've, but ya didn't.\"\n",
      "Old friends used to say, \"Could've, would've, should've, but ya didn't.\"\n",
      "Old friends used to say, \"Could've, would've, should've, but ya didn't.\"\n",
      "Old friends used to say, \"Could've, would've, should've, but ya didn't.\"\n",
      "Old friends used to say, \"Could've, would've, should've, but ya didn't.\"\n",
      "Old friends used to say, \"Could've, would've, should've, but ya didn't.\"\n",
      "Old friends used to say, \"Could've, would've, should've, but ya didn't.\"\n",
      "Old friends used to say, \"Could've, would've, should've, but ya didn't.\"\n",
      "Old friends used to say, \"Could've, would've, should've, but ya didn't.\"\n",
      "Old friends used to say, \"Could've, would've, should've, but ya didn't.\"\n",
      "Old friends used to say, \"Could've, would've, should've, but ya didn't.\"\n",
      "Old friends used to say, \"Could've, would've, should've, but ya didn't.\"\n",
      "Old friends used to say, \"Could've, would've, should've, but ya didn't.\"\n",
      "Old friends used to say, \"Could've, would've, should've, but ya didn't.\"\n",
      "Old friends used to say, \"Could've, would've, should've, but ya didn't.\"\n",
      "Old friends used to say, \"Could've, would've, should've, but ya didn't.\"\n",
      "Old friends used to say, \"Could've, would've, should've, but ya didn't.\"\n",
      "Old friends used to say, \"Could've, would've, should've, but ya didn't.\"\n",
      "Old friends used to say, \"Could've, would've, should've, but ya didn't.\"\n",
      "Old friends used to say, \"Could've, would've, should've, but ya didn't.\"\n",
      "Old friends used to say, \"Could've, would've, should've, but ya didn't.\"\n",
      "Old friends used to say, \"Could've, would've, should've, but ya didn't.\"\n",
      "Old friends used to say, \"Could've, would've, should've, but ya didn't.\"\n",
      "Old friends used to say, \"Could've, would've, should've, but ya didn't.\"\n",
      "Old friends used to say, \"Could've, would've, should've, but ya didn't.\"\n",
      "Old friends used to say, \"Could've, would've, should've, but ya didn't.\"\n",
      "Old friends used to say, \"Could've, would've, should've, but ya didn't.\"\n",
      "Old friends used to say, \"Could've, would've, should've, but ya didn't.\"\n",
      "Old friends used to say, \"Could've, would've, should've, but ya didn't.\"\n",
      "Old friends used to say, \"Could've, would've, should've, but ya didn't.\"\n",
      "Old friends used to say, \"Could've, would've, should've, but ya didn't.\"\n",
      "Old friends used to say, \"Could've, would've, should've, but ya didn't.\"\n",
      "Old friends used to say, \"Could've, would've, should've, but ya didn't.\"\n",
      "Old friends used to say, \"Could've, would've, should've, but ya didn't.\"\n",
      "Old friends used to say, \"Could've, would've, should've, but ya didn't.\"\n",
      "Old friends used to say, \"Could've, would've, should've, but ya didn't.\"\n",
      "Old friends used to say, \"Could've, would've, should've, but ya didn't.\"\n",
      "Old friends used to say, \"Could've, would've, should've, but ya didn't.\"\n",
      "Old friends used to say, \"Could've, would've, should've, but ya didn't.\"\n",
      "Old friends used to say, \"Could've, would've, should've, but ya didn't.\"\n",
      "Old friends used to say, \"Could've, would've, should've, but ya didn't.\"\n",
      "Old friends used to say, \"Could've, would've, should've, but ya didn't.\"\n",
      "Old friends used to say, \"Could've, would've, should've, but ya didn't.\"\n",
      "Old friends used to say, \"Could've, would've, should've, but ya didn't.\"\n",
      "Old friends used to say, \"Could've, would've, should've, but ya didn't.\"\n",
      "Old friends used to say, \"Could've, would've, should've, but ya didn't.\"\n",
      "Old friends used to say, \"Could've, would've, should've, but ya didn't.\"\n",
      "Old friends used to say, \"Could've, would've, should've, but ya didn't.\"\n",
      "Old friends used to say, \"Could've, would've, should've, but ya didn't.\"\n",
      "Old friends used to say, \"Could've, would've, should've, but ya didn't.\"\n",
      "Old friends used to say, \"Could've, would've, should've, but ya didn't.\"\n",
      "Old friends used to say, \"Could've, would've, should've, but ya didn't.\"\n",
      "Old friends used to say, \"Could've, would've, should've, but ya didn't.\"\n",
      "Old friends used to say, \"Could've, would've, should've, but ya didn't.\"\n",
      "Old friends used to say, \"Could've, would've, should've, but ya didn't.\"\n",
      "Old friends used to say, \"Could've, would've, should've, but ya didn't.\"\n",
      "Old friends used to say, \"Could've, would've, should've, but ya didn't.\"\n",
      "Old friends used to say, \"Could've, would've, should've, but ya didn't.\"\n",
      "Old friends used to say, \"Could've, would've, should've, but ya didn't.\"\n",
      "Old friends used to say, \"Could've, would've, should've, but ya didn't.\"\n",
      "Old friends used to say, \"Could've, would've, should've, but ya didn't.\"\n",
      "Old friends used to say, \"Could've, would've, should've, but ya didn't.\"\n",
      "Old friends used to say, \"Could've, would've, should've, but ya didn't.\"\n",
      "Old friends used to say, \"Could've, would've, should've, but ya didn't.\"\n",
      "Old friends used to say, \"Could've, would've, should've, but ya didn't.\"\n",
      "Old friends used to say, \"Could've, would've, should've, but ya didn't.\"\n",
      "Old friends used to say, \"Could've, would've, should've, but ya didn't.\"\n",
      "Old friends used to say, \"Could've, would've, should've, but ya didn't.\"\n",
      "Old friends used to say, \"Could've, would've, should've, but ya didn't.\"\n",
      "Old friends used to say, \"Could've, would've, should've, but ya didn't.\"\n",
      "Old friends used to say, \"Could've, would've, should've, but ya didn't.\"\n",
      "Old friends used to say, \"Could've, would've, should've, but ya didn't.\"\n",
      "Old friends used to say, \"Could've, would've, should've, but ya didn't.\"\n",
      "Old friends used to say, \"Could've, would've, should've, but ya didn't.\"\n",
      "Old friends used to say, \"Could've, would've, should've, but ya didn't.\"\n",
      "Old friends used to say, \"Could've, would've, should've, but ya didn't.\"\n",
      "Old friends used to say, \"Could've, would've, should've, but ya didn't.\"\n",
      "Old friends used to say, \"Could've, would've, should've, but ya didn't.\"\n",
      "Old friends used to say, \"Could've, would've, should've, but ya didn't.\"\n",
      "Old friends used to say, \"Could've, would've, should've, but ya didn't.\"\n",
      "Old friends used to say, \"Could've, would've, should've, but ya didn't.\"\n",
      "Old friends used to say, \"Could've, would've, should've, but ya didn't.\"\n",
      "Old friends used to say, \"Could've, would've, should've, but ya didn't.\"\n",
      "Old friends used to say, \"Could've, would've, should've, but ya didn't.\"\n",
      "Old friends used to say, \"Could've, would've, should've, but ya didn't.\"\n",
      "Old friends used to say, \"Could've, would've, should've, but ya didn't.\"\n",
      "Old friends used to say, \"Could've, would've, should've, but ya didn't.\"\n",
      "Old friends used to say, \"Could've, would've, should've, but ya didn't.\"\n",
      "Old friends used to say, \"Could've, would've, should've, but ya didn't.\"\n",
      "Old friends used to say, \"Could've, would've, should've, but ya didn't.\"\n",
      "Old friends used to say, \"Could've, would've, should've, but ya didn't.\"\n",
      "Old friends used to say, \"Could've, would've, should've, but ya didn't.\"\n",
      "Old friends used to say, \"Could've, would've, should've, but ya didn't.\"\n",
      "Old friends used to say, \"Could've, would've, should've, but ya didn't.\"\n",
      "Old friends used to say, \"Could've, would've, should've, but ya didn't.\"\n",
      "Old friends used to say, \"Could've, would've, should've, but ya didn't.\"\n",
      "Old friends used to say, \"Could've, would've, should've, but ya didn't.\"\n",
      "Old friends used to say, \"Could've, would've, should've, but ya didn't.\"\n",
      "Old friends used to say, \"Could've, would've, should've, but ya didn't.\"\n",
      "Old friends used to say, \"Could've, would've, should've, but ya didn't.\"\n",
      "Old friends used to say, \"Could've, would've, should've, but ya didn't.\"\n",
      "Old friends used to say, \"Could've, would've, should've, but ya didn't.\"\n",
      "Old friends used to say, \"Could've, would've, should've, but ya didn't.\"\n",
      "Old friends used to say, \"Could've, would've, should've, but ya didn't.\"\n",
      "Old friends used to say, \"Could've, would've, should've, but ya didn't.\"\n",
      "Old friends used to say, \"Could've, would've, should've, but ya didn't.\"\n",
      "Old friends used to say, \"Could've, would've, should've, but ya didn't.\"\n",
      "Old friends used to say, \"Could've, would've, should've, but ya didn't.\"\n",
      "Old friends used to say, \"Could've, would've, should've, but ya didn't.\"\n",
      "Old friends used to say, \"Could've, would've, should've, but ya didn't.\"\n",
      "Old friends used to say, \"Could've, would've, should've, but ya didn't.\"\n",
      "Old friends used to say, \"Could've, would've, should've, but ya didn't.\"\n",
      "Old friends used to say, \"Could've, would've, should've, but ya didn't.\"\n",
      "Old friends used to say, \"Could've, would've, should've, but ya didn't.\"\n",
      "Old friends used to say, \"Could've, would've, should've, but ya didn't.\"\n",
      "Old friends used to say, \"Could've, would've, should've, but ya didn't.\"\n",
      "Old friends used to say, \"Could've, would've, should've, but ya didn't.\"\n",
      "Old friends used to say, \"Could've, would've, should've, but ya didn't.\"\n",
      "Old friends used to say, \"Could've, would've, should've, but ya didn't.\"\n",
      "Old friends used to say, \"Could've, would've, should've, but ya didn't.\"\n",
      "Old friends used to say, \"Could've, would've, should've, but ya didn't.\"\n",
      "Old friends used to say, \"Could've, would've, should've, but ya didn't.\"\n",
      "Old friends used to say, \"Could've, would've, should've, but ya didn't.\"\n",
      "Old friends used to say, \"Could've, would've, should've, but ya didn't.\"\n",
      "Old friends used to say, \"Could've, would've, should've, but ya didn't.\"\n",
      "Old friends used to say, \"Could've, would've, should've, but ya didn't.\"\n",
      "Old friends used to say, \"Could've, would've, should've, but ya didn't.\"\n",
      "Old friends used to say, \"Could've, would've, should've, but ya didn't.\"\n",
      "Old friends used to say, \"Could've, would've, should've, but ya didn't.\"\n",
      "Old friends used to say, \"Could've, would've, should've, but ya didn't.\"\n",
      "Old friends used to say, \"Could've, would've, should've, but ya didn't.\"\n",
      "Old friends used to say, \"Could've, would've, should've, but ya didn't.\"\n",
      "Old friends used to say, \"Could've, would've, should've, but ya didn't.\"\n",
      "Old friends used to say, \"Could've, would've, should've, but ya didn't.\"\n",
      "Old friends used to say, \"Could've, would've, should've, but ya didn't.\"\n",
      "Old friends used to say, \"Could've, would've, should've, but ya didn't.\"\n",
      "Old friends used to say, \"Could've, would've, should've, but ya didn't.\"\n",
      "Old friends used to say, \"Could've, would've, should've, but ya didn't.\"\n",
      "Old friends used to say, \"Could've, would've, should've, but ya didn't.\"\n",
      "Old friends used to say, \"Could've, would've, should've, but ya didn't.\"\n",
      "Old friends used to say, \"Could've, would've, should've, but ya didn't.\"\n",
      "Old friends used to say, \"Could've, would've, should've, but ya didn't.\"\n",
      "Old friends used to say, \"Could've, would've, should've, but ya didn't.\"\n",
      "Old friends used to say, \"Could've, would've, should've, but ya didn't.\"\n",
      "Old friends used to say, \"Could've, would've, should've, but ya didn't.\"\n",
      "Old friends used to say, \"Could've, would've, should've, but ya didn't.\"\n",
      "Old friends used to say, \"Could've, would've, should've, but ya didn't.\"\n",
      "Old friends used to say, \"Could've, would've, should've, but ya didn't.\"\n",
      "Old friends used to say, \"Could've, would've, should've, but ya didn't.\"\n",
      "Old friends used to say, \"Could've, would've, should've, but ya didn't.\"\n",
      "Old friends used to say, \"Could've, would've, should've, but ya didn't.\"\n",
      "Old friends used to say, \"Could've, would've, should've, but ya didn't.\"\n",
      "Old friends used to say, \"Could've, would've, should've, but ya didn't.\"\n",
      "Old friends used to say, \"Could've, would've, should've, but ya didn't.\"\n",
      "Old friends used to say, \"Could've, would've, should've, but ya didn't.\"\n",
      "Old friends used to say, \"Could've, would've, should've, but ya didn't.\"\n",
      "Old friends used to say, \"Could've, would've, should've, but ya didn't.\"\n",
      "Old friends used to say, \"Could've, would've, should've, but ya didn't.\"\n",
      "Old friends used to say, \"Could've, would've, should've, but ya didn't.\"\n",
      "Old friends used to say, \"Could've, would've, should've, but ya didn't.\"\n",
      "Old friends used to say, \"Could've, would've, should've, but ya didn't.\"\n",
      "Old friends used to say, \"Could've, would've, should've, but ya didn't.\"\n",
      "Old friends used to say, \"Could've, would've, should've, but ya didn't.\"\n",
      "Old friends used to say, \"Could've, would've, should've, but ya didn't.\"\n",
      "Old friends used to say, \"Could've, would've, should've, but ya didn't.\"\n",
      "Old friends used to say, \"Could've, would've, should've, but ya didn't.\"\n",
      "Old friends used to say, \"Could've, would've, should've, but ya didn't.\"\n",
      "Old friends used to say, \"Could've, would've, should've, but ya didn't.\"\n",
      "Old friends used to say, \"Could've, would've, should've, but ya didn't.\"\n",
      "Old friends used to say, \"Could've, would've, should've, but ya didn't.\"\n",
      "Old friends used to say, \"Could've, would've, should've, but ya didn't.\"\n",
      "Old friends used to say, \"Could've, would've, should've, but ya didn't.\"\n",
      "Old friends used to say, \"Could've, would've, should've, but ya didn't.\"\n",
      "Old friends used to say, \"Could've, would've, should've, but ya didn't.\"\n",
      "Old friends used to say, \"Could've, would've, should've, but ya didn't.\"\n",
      "Old friends used to say, \"Could've, would've, should've, but ya didn't.\"\n",
      "Old friends used to say, \"Could've, would've, should've, but ya didn't.\"\n",
      "Old friends used to say, \"Could've, would've, should've, but ya didn't.\"\n",
      "Old friends used to say, \"Could've, would've, should've, but ya didn't.\"\n",
      "Old friends used to say, \"Could've, would've, should've, but ya didn't.\"\n",
      "Old friends used to say, \"Could've, would've, should've, but ya didn't.\"\n",
      "Old friends used to say, \"Could've, would've, should've, but ya didn't.\"\n",
      "Old friends used to say, \"Could've, would've, should've, but ya didn't.\"\n",
      "Old friends used to say, \"Could've, would've, should've, but ya didn't.\"\n",
      "Old friends used to say, \"Could've, would've, should've, but ya didn't.\"\n",
      "Old friends used to say, \"Could've, would've, should've, but ya didn't.\"\n",
      "Old friends used to say, \"Could've, would've, should've, but ya didn't.\"\n",
      "Old friends used to say, \"Could've, would've, should've, but ya didn't.\"\n",
      "Old friends used to say, \"Could've, would've, should've, but ya didn't.\"\n",
      "Old friends used to say, \"Could've, would've, should've, but ya didn't.\"\n",
      "Old friends used to say, \"Could've, would've, should've, but ya didn't.\"\n",
      "Old friends used to say, \"Could've, would've, should've, but ya didn't.\"\n",
      "Old friends used to say, \"Could've, would've, should've, but ya didn't.\"\n",
      "Old friends used to say, \"Could've, would've, should've, but ya didn't.\"\n",
      "Old friends used to say, \"Could've, would've, should've, but ya didn't.\"\n",
      "Old friends used to say, \"Could've, would've, should've, but ya didn't.\"\n",
      "Old friends used to say, \"Could've, would've, should've, but ya didn't.\"\n",
      "Old friends used to say, \"Could've, would've, should've, but ya didn't.\"\n",
      "Old friends used to say, \"Could've, would've, should've, but ya didn't.\"\n",
      "Old friends used to say, \"Could've, would've, should've, but ya didn't.\"\n",
      "Old friends used to say, \"Could've, would've, should've, but ya didn't.\"\n",
      "Old friends used to say, \"Could've, would've, should've, but ya didn't.\"\n",
      "Old friends used to say, \"Could've, would've, should've, but ya didn't.\"\n",
      "Old friends used to say, \"Could've, would've, should've, but ya didn't.\"\n",
      "Old friends used to say, \"Could've, would've, should've, but ya didn't.\"\n",
      "Old friends used to say, \"Could've, would've, should've, but ya didn't.\"\n",
      "Old friends used to say, \"Could've, would've, should've, but ya didn't.\"\n",
      "Old friends used to say, \"Could've, would've, should've, but ya didn't.\"\n",
      "Old friends used to say, \"Could've, would've, should've, but ya didn't.\"\n",
      "Old friends used to say, \"Could've, would've, should've, but ya didn't.\"\n",
      "Old friends used to say, \"Could've, would've, should've, but ya didn't.\"\n",
      "Old friends used to say, \"Could've, would've, should've, but ya didn't.\"\n",
      "Old friends used to say, \"Could've, would've, should've, but ya didn't.\"\n",
      "Old friends used to say, \"Could've, would've, should've, but ya didn't.\"\n",
      "Old friends used to say, \"Could've, would've, should've, but ya didn't.\"\n",
      "Old friends used to say, \"Could've, would've, should've, but ya didn't.\"\n",
      "Old friends used to say, \"Could've, would've, should've, but ya didn't.\"\n",
      "Old friends used to say, \"Could've, would've, should've, but ya didn't.\"\n",
      "Old friends used to say, \"Could've, would've, should've, but ya didn't.\"\n",
      "Old friends used to say, \"Could've, would've, should've, but ya didn't.\"\n",
      "Old friends used to say, \"Could've, would've, should've, but ya didn't.\"\n",
      "Old friends used to say, \"Could've, would've, should've, but ya didn't.\"\n",
      "Old friends used to say, \"Could've, would've, should've, but ya didn't.\"\n",
      "Old friends used to say, \"Could've, would've, should've, but ya didn't.\"\n",
      "Old friends used to say, \"Could've, would've, should've, but ya didn't.\"\n",
      "Old friends used to say, \"Could've, would've, should've, but ya didn't.\"\n",
      "Old friends used to say, \"Could've, would've, should've, but ya didn't.\"\n",
      "Old friends used to say, \"Could've, would've, should've, but ya didn't.\"\n",
      "Old friends used to say, \"Could've, would've, should've, but ya didn't.\"\n",
      "Old friends used to say, \"Could've, would've, should've, but ya didn't.\"\n",
      "Old friends used to say, \"Could've, would've, should've, but ya didn't.\"\n",
      "Old friends used to say, \"Could've, would've, should've, but ya didn't.\"\n",
      "Old friends used to say, \"Could've, would've, should've, but ya didn't.\"\n",
      "Old friends used to say, \"Could've, would've, should've, but ya didn't.\"\n",
      "Old friends used to say, \"Could've, would've, should've, but ya didn't.\"\n",
      "Old friends used to say, \"Could've, would've, should've, but ya didn't.\"\n",
      "Old friends used to say, \"Could've, would've, should've, but ya didn't.\"\n",
      "Old friends used to say, \"Could've, would've, should've, but ya didn't.\"\n",
      "Old friends used to say, \"Could've, would've, should've, but ya didn't.\"\n",
      "Old friends used to say, \"Could've, would've, should've, but ya didn't.\"\n",
      "Old friends used to say, \"Could've, would've, should've, but ya didn't.\"\n",
      "Old friends used to say, \"Could've, would've, should've, but ya didn't.\"\n",
      "Old friends used to say, \"Could've, would've, should've, but ya didn't.\"\n",
      "Old friends used to say, \"Could've, would've, should've, but ya didn't.\"\n",
      "Old friends used to say, \"Could've, would've, should've, but ya didn't.\"\n",
      "Old friends used to say, \"Could've, would've, should've, but ya didn't.\"\n",
      "Old friends used to say, \"Could've, would've, should've, but ya didn't.\"\n",
      "Old friends used to say, \"Could've, would've, should've, but ya didn't.\"\n",
      "Old friends used to say, \"Could've, would've, should've, but ya didn't.\"\n",
      "Old friends used to say, \"Could've, would've, should've, but ya didn't.\"\n",
      "Old friends used to say, \"Could've, would've, should've, but ya didn't.\"\n",
      "Old friends used to say, \"Could've, would've, should've, but ya didn't.\"\n",
      "Old friends used to say, \"Could've, would've, should've, but ya didn't.\"\n",
      "Old friends used to say, \"Could've, would've, should've, but ya didn't.\"\n",
      "Old friends used to say, \"Could've, would've, should've, but ya didn't.\"\n",
      "Old friends used to say, \"Could've, would've, should've, but ya didn't.\"\n",
      "Old friends used to say, \"Could've, would've, should've, but ya didn't.\"\n",
      "Old friends used to say, \"Could've, would've, should've, but ya didn't.\"\n",
      "Old friends used to say, \"Could've, would've, should've, but ya didn't.\"\n",
      "Old friends used to say, \"Could've, would've, should've, but ya didn't.\"\n",
      "Old friends used to say, \"Could've, would've, should've, but ya didn't.\"\n",
      "Old friends used to say, \"Could've, would've, should've, but ya didn't.\"\n",
      "Old friends used to say, \"Could've, would've, should've, but ya didn't.\"\n",
      "Old friends used to say, \"Could've, would've, should've, but ya didn't.\"\n",
      "Old friends used to say, \"Could've, would've, should've, but ya didn't.\"\n",
      "Old friends used to say, \"Could've, would've, should've, but ya didn't.\"\n",
      "Old friends used to say, \"Could've, would've, should've, but ya didn't.\"\n",
      "Old friends used to say, \"Could've, would've, should've, but ya didn't.\"\n",
      "Old friends used to say, \"Could've, would've, should've, but ya didn't.\"\n",
      "Old friends used to say, \"Could've, would've, should've, but ya didn't.\"\n",
      "Old friends used to say, \"Could've, would've, should've, but ya didn't.\"\n",
      "Old friends used to say, \"Could've, would've, should've, but ya didn't.\"\n",
      "Old friends used to say, \"Could've, would've, should've, but ya didn't.\"\n",
      "Old friends used to say, \"Could've, would've, should've, but ya didn't.\"\n",
      "Old friends used to say, \"Could've, would've, should've, but ya didn't.\"\n",
      "Old friends used to say, \"Could've, would've, should've, but ya didn't.\"\n",
      "Old friends used to say, \"Could've, would've, should've, but ya didn't.\"\n",
      "Old friends used to say, \"Could've, would've, should've, but ya didn't.\"\n",
      "Old friends used to say, \"Could've, would've, should've, but ya didn't.\"\n",
      "Old friends used to say, \"Could've, would've, should've, but ya didn't.\"\n",
      "Old friends used to say, \"Could've, would've, should've, but ya didn't.\"\n",
      "Old friends used to say, \"Could've, would've, should've, but ya didn't.\"\n",
      "Old friends used to say, \"Could've, would've, should've, but ya didn't.\"\n",
      "Old friends used to say, \"Could've, would've, should've, but ya didn't.\"\n",
      "Old friends used to say, \"Could've, would've, should've, but ya didn't.\"\n",
      "Old friends used to say, \"Could've, would've, should've, but ya didn't.\"\n",
      "Old friends used to say, \"Could've, would've, should've, but ya didn't.\"\n",
      "Old friends used to say, \"Could've, would've, should've, but ya didn't.\"\n",
      "Old friends used to say, \"Could've, would've, should've, but ya didn't.\"\n",
      "Old friends used to say, \"Could've, would've, should've, but ya didn't.\"\n",
      "Old friends used to say, \"Could've, would've, should've, but ya didn't.\"\n",
      "Old friends used to say, \"Could've, would've, should've, but ya didn't.\"\n",
      "Old friends used to say, \"Could've, would've, should've, but ya didn't.\"\n",
      "Old friends used to say, \"Could've, would've, should've, but ya didn't.\"\n",
      "Old friends used to say, \"Could've, would've, should've, but ya didn't.\"\n",
      "Old friends used to say, \"Could've, would've, should've, but ya didn't.\"\n",
      "Old friends used to say, \"Could've, would've, should've, but ya didn't.\"\n",
      "Old friends used to say, \"Could've, would've, should've, but ya didn't.\"\n",
      "Old friends used to say, \"Could've, would've, should've, but ya didn't.\"\n",
      "Old friends used to say, \"Could've, would've, should've, but ya didn't.\"\n",
      "Old friends used to say, \"Could've, would've, should've, but ya didn't.\"\n",
      "Old friends used to say, \"Could've, would've, should've, but ya didn't.\"\n",
      "Old friends used to say, \"Could've, would've, should've, but ya didn't.\"\n",
      "Old friends used to say, \"Could've, would've, should've, but ya didn't.\"\n",
      "Old friends used to say, \"Could've, would've, should've, but ya didn't.\"\n",
      "Old friends used to say, \"Could've, would've, should've, but ya didn't.\"\n",
      "Old friends used to say, \"Could've, would've, should've, but ya didn't.\"\n",
      "Old friends used to say, \"Could've, would've, should've, but ya didn't.\"\n",
      "Old friends used to say, \"Could've, would've, should've, but ya didn't.\"\n",
      "Old friends used to say, \"Could've, would've, should've, but ya didn't.\"\n",
      "Old friends used to say, \"Could've, would've, should've, but ya didn't.\"\n",
      "Old friends used to say, \"Could've, would've, should've, but ya didn't.\"\n",
      "Old friends used to say, \"Could've, would've, should've, but ya didn't.\"\n",
      "Old friends used to say, \"Could've, would've, should've, but ya didn't.\"\n",
      "Old friends used to say, \"Could've, would've, should've, but ya didn't.\"\n",
      "Old friends used to say, \"Could've, would've, should've, but ya didn't.\"\n",
      "Old friends used to say, \"Could've, would've, should've, but ya didn't.\"\n",
      "Old friends used to say, \"Could've, would've, should've, but ya didn't.\"\n",
      "Old friends used to say, \"Could've, would've, should've, but ya didn't.\"\n",
      "Old friends used to say, \"Could've, would've, should've, but ya didn't.\"\n",
      "Old friends used to say, \"Could've, would've, should've, but ya didn't.\"\n",
      "Old friends used to say, \"Could've, would've, should've, but ya didn't.\"\n",
      "Old friends used to say, \"Could've, would've, should've, but ya didn't.\"\n",
      "Old friends used to say, \"Could've, would've, should've, but ya didn't.\"\n",
      "Old friends used to say, \"Could've, would've, should've, but ya didn't.\"\n",
      "Old friends used to say, \"Could've, would've, should've, but ya didn't.\"\n",
      "Old friends used to say, \"Could've, would've, should've, but ya didn't.\"\n",
      "Old friends used to say, \"Could've, would've, should've, but ya didn't.\"\n",
      "Old friends used to say, \"Could've, would've, should've, but ya didn't.\"\n",
      "Old friends used to say, \"Could've, would've, should've, but ya didn't.\"\n",
      "Old friends used to say, \"Could've, would've, should've, but ya didn't.\"\n",
      "Old friends used to say, \"Could've, would've, should've, but ya didn't.\"\n",
      "Old friends used to say, \"Could've, would've, should've, but ya didn't.\"\n",
      "Old friends used to say, \"Could've, would've, should've, but ya didn't.\"\n",
      "Old friends used to say, \"Could've, would've, should've, but ya didn't.\"\n",
      "Old friends used to say, \"Could've, would've, should've, but ya didn't.\"\n",
      "Old friends used to say, \"Could've, would've, should've, but ya didn't.\"\n",
      "Old friends used to say, \"Could've, would've, should've, but ya didn't.\"\n",
      "Old friends used to say, \"Could've, would've, should've, but ya didn't.\"\n",
      "Old friends used to say, \"Could've, would've, should've, but ya didn't.\"\n",
      "Old friends used to say, \"Could've, would've, should've, but ya didn't.\"\n",
      "Old friends used to say, \"Could've, would've, should've, but ya didn't.\"\n",
      "Old friends used to say, \"Could've, would've, should've, but ya didn't.\"\n",
      "Old friends used to say, \"Could've, would've, should've, but ya didn't.\"\n",
      "Old friends used to say, \"Could've, would've, should've, but ya didn't.\"\n",
      "Old friends used to say, \"Could've, would've, should've, but ya didn't.\"\n",
      "Old friends used to say, \"Could've, would've, should've, but ya didn't.\"\n",
      "Old friends used to say, \"Could've, would've, should've, but ya didn't.\"\n",
      "Old friends used to say, \"Could've, would've, should've, but ya didn't.\"\n",
      "Old friends used to say, \"Could've, would've, should've, but ya didn't.\"\n",
      "Old friends used to say, \"Could've, would've, should've, but ya didn't.\"\n",
      "Old friends used to say, \"Could've, would've, should've, but ya didn't.\"\n",
      "Old friends used to say, \"Could've, would've, should've, but ya didn't.\"\n",
      "Old friends used to say, \"Could've, would've, should've, but ya didn't.\"\n",
      "Old friends used to say, \"Could've, would've, should've, but ya didn't.\"\n",
      "Old friends used to say, \"Could've, would've, should've, but ya didn't.\"\n",
      "Old friends used to say, \"Could've, would've, should've, but ya didn't.\"\n",
      "Old friends used to say, \"Could've, would've, should've, but ya didn't.\"\n",
      "Old friends used to say, \"Could've, would've, should've, but ya didn't.\"\n",
      "Old friends used to say, \"Could've, would've, should've, but ya didn't.\"\n",
      "Old friends used to say, \"Could've, would've, should've, but ya didn't.\"\n",
      "Old friends used to say, \"Could've, would've, should've, but ya didn't.\"\n",
      "Old friends used to say, \"Could've, would've, should've, but ya didn't.\"\n",
      "Old friends used to say, \"Could've, would've, should've, but ya didn't.\"\n",
      "Old friends used to say, \"Could've, would've, should've, but ya didn't.\"\n",
      "Old friends used to say, \"Could've, would've, should've, but ya didn't.\"\n",
      "Old friends used to say, \"Could've, would've, should've, but ya didn't.\"\n",
      "Old friends used to say, \"Could've, would've, should've, but ya didn't.\"\n",
      "Old friends used to say, \"Could've, would've, should've, but ya didn't.\"\n",
      "Old friends used to say, \"Could've, would've, should've, but ya didn't.\"\n",
      "Old friends used to say, \"Could've, would've, should've, but ya didn't.\"\n",
      "Old friends used to say, \"Could've, would've, should've, but ya didn't.\"\n",
      "Old friends used to say, \"Could've, would've, should've, but ya didn't.\"\n",
      "Old friends used to say, \"Could've, would've, should've, but ya didn't.\"\n",
      "Old friends used to say, \"Could've, would've, should've, but ya didn't.\"\n",
      "Old friends used to say, \"Could've, would've, should've, but ya didn't.\"\n",
      "Old friends used to say, \"Could've, would've, should've, but ya didn't.\"\n",
      "Old friends used to say, \"Could've, would've, should've, but ya didn't.\"\n",
      "Old friends used to say, \"Could've, would've, should've, but ya didn't.\"\n",
      "Old friends used to say, \"Could've, would've, should've, but ya didn't.\"\n",
      "Old friends used to say, \"Could've, would've, should've, but ya didn't.\"\n",
      "Old friends used to say, \"Could've, would've, should've, but ya didn't.\"\n",
      "Old friends used to say, \"Could've, would've, should've, but ya didn't.\"\n",
      "Old friends used to say, \"Could've, would've, should've, but ya didn't.\"\n",
      "Old friends used to say, \"Could've, would've, should've, but ya didn't.\"\n",
      "Old friends used to say, \"Could've, would've, should've, but ya didn't.\"\n",
      "Old friends used to say, \"Could've, would've, should've, but ya didn't.\"\n",
      "Old friends used to say, \"Could've, would've, should've, but ya didn't.\"\n",
      "Old friends used to say, \"Could've, would've, should've, but ya didn't.\"\n",
      "Old friends used to say, \"Could've, would've, should've, but ya didn't.\"\n",
      "Old friends used to say, \"Could've, would've, should've, but ya didn't.\"\n",
      "Old friends used to say, \"Could've, would've, should've, but ya didn't.\"\n",
      "Old friends used to say, \"Could've, would've, should've, but ya didn't.\"\n",
      "Old friends used to say, \"Could've, would've, should've, but ya didn't.\"\n",
      "Old friends used to say, \"Could've, would've, should've, but ya didn't.\"\n",
      "Old friends used to say, \"Could've, would've, should've, but ya didn't.\"\n",
      "Old friends used to say, \"Could've, would've, should've, but ya didn't.\"\n",
      "Old friends used to say, \"Could've, would've, should've, but ya didn't.\"\n",
      "Old friends used to say, \"Could've, would've, should've, but ya didn't.\"\n",
      "Old friends used to say, \"Could've, would've, should've, but ya didn't.\"\n",
      "Old friends used to say, \"Could've, would've, should've, but ya didn't.\"\n",
      "Old friends used to say, \"Could've, would've, should've, but ya didn't.\"\n",
      "Old friends used to say, \"Could've, would've, should've, but ya didn't.\"\n",
      "Old friends used to say, \"Could've, would've, should've, but ya didn't.\"\n",
      "Old friends used to say, \"Could've, would've, should've, but ya didn't.\"\n",
      "Old friends used to say, \"Could've, would've, should've, but ya didn't.\"\n",
      "Old friends used to say, \"Could've, would've, should've, but ya didn't.\"\n",
      "Old friends used to say, \"Could've, would've, should've, but ya didn't.\"\n",
      "Old friends used to say, \"Could've, would've, should've, but ya didn't.\"\n",
      "Old friends used to say, \"Could've, would've, should've, but ya didn't.\"\n",
      "Old friends used to say, \"Could've, would've, should've, but ya didn't.\"\n",
      "Old friends used to say, \"Could've, would've, should've, but ya didn't.\"\n",
      "Old friends used to say, \"Could've, would've, should've, but ya didn't.\"\n",
      "Old friends used to say, \"Could've, would've, should've, but ya didn't.\"\n",
      "Old friends used to say, \"Could've, would've, should've, but ya didn't.\"\n",
      "Old friends used to say, \"Could've, would've, should've, but ya didn't.\"\n",
      "Old friends used to say, \"Could've, would've, should've, but ya didn't.\"\n",
      "Old friends used to say, \"Could've, would've, should've, but ya didn't.\"\n",
      "Old friends used to say, \"Could've, would've, should've, but ya didn't.\"\n",
      "Old friends used to say, \"Could've, would've, should've, but ya didn't.\"\n",
      "Old friends used to say, \"Could've, would've, should've, but ya didn't.\"\n",
      "Old friends used to say, \"Could've, would've, should've, but ya didn't.\"\n",
      "Old friends used to say, \"Could've, would've, should've, but ya didn't.\"\n",
      "Old friends used to say, \"Could've, would've, should've, but ya didn't.\"\n",
      "Old friends used to say, \"Could've, would've, should've, but ya didn't.\"\n",
      "Old friends used to say, \"Could've, would've, should've, but ya didn't.\"\n",
      "Old friends used to say, \"Could've, would've, should've, but ya didn't.\"\n",
      "Old friends used to say, \"Could've, would've, should've, but ya didn't.\"\n",
      "Old friends used to say, \"Could've, would've, should've, but ya didn't.\"\n",
      "Old friends used to say, \"Could've, would've, should've, but ya didn't.\"\n",
      "Old friends used to say, \"Could've, would've, should've, but ya didn't.\"\n",
      "Old friends used to say, \"Could've, would've, should've, but ya didn't.\"\n",
      "Old friends used to say, \"Could've, would've, should've, but ya didn't.\"\n",
      "Old friends used to say, \"Could've, would've, should've, but ya didn't.\"\n",
      "Old friends used to say, \"Could've, would've, should've, but ya didn't.\"\n",
      "Old friends used to say, \"Could've, would've, should've, but ya didn't.\"\n",
      "Old friends used to say, \"Could've, would've, should've, but ya didn't.\"\n",
      "Old friends used to say, \"Could've, would've, should've, but ya didn't.\"\n",
      "Old friends used to say, \"Could've, would've, should've, but ya didn't.\"\n",
      "Old friends used to say, \"Could've, would've, should've, but ya didn't.\"\n",
      "Old friends used to say, \"Could've, would've, should've, but ya didn't.\"\n",
      "Old friends used to say, \"Could've, would've, should've, but ya didn't.\"\n",
      "Old friends used to say, \"Could've, would've, should've, but ya didn't.\"\n",
      "Old friends used to say, \"Could've, would've, should've, but ya didn't.\"\n",
      "Old friends used to say, \"Could've, would've, should've, but ya didn't.\"\n",
      "Old friends used to say, \"Could've, would've, should've, but ya didn't.\"\n",
      "Old friends used to say, \"Could've, would've, should've, but ya didn't.\"\n",
      "Old friends used to say, \"Could've, would've, should've, but ya didn't.\"\n",
      "Old friends used to say, \"Could've, would've, should've, but ya didn't.\"\n",
      "Old friends used to say, \"Could've, would've, should've, but ya didn't.\"\n",
      "Old friends used to say, \"Could've, would've, should've, but ya didn't.\"\n",
      "Old friends used to say, \"Could've, would've, should've, but ya didn't.\"\n",
      "Old friends used to say, \"Could've, would've, should've, but ya didn't.\"\n",
      "Old friends used to say, \"Could've, would've, should've, but ya didn't.\"\n",
      "Old friends used to say, \"Could've, would've, should've, but ya didn't.\"\n",
      "Old friends used to say, \"Could've, would've, should've, but ya didn't.\"\n",
      "Old friends used to say, \"Could've, would've, should've, but ya didn't.\"\n",
      "Old friends used to say, \"Could've, would've, should've, but ya didn't.\"\n",
      "Old friends used to say, \"Could've, would've, should've, but ya didn't.\"\n",
      "Old friends used to say, \"Could've, would've, should've, but ya didn't.\"\n",
      "Old friends used to say, \"Could've, would've, should've, but ya didn't.\"\n",
      "Old friends used to say, \"Could've, would've, should've, but ya didn't.\"\n",
      "Old friends used to say, \"Could've, would've, should've, but ya didn't.\"\n",
      "Old friends used to say, \"Could've, would've, should've, but ya didn't.\"\n",
      "Old friends used to say, \"Could've, would've, should've, but ya didn't.\"\n",
      "Old friends used to say, \"Could've, would've, should've, but ya didn't.\"\n",
      "Old friends used to say, \"Could've, would've, should've, but ya didn't.\"\n",
      "Old friends used to say, \"Could've, would've, should've, but ya didn't.\"\n",
      "Old friends used to say, \"Could've, would've, should've, but ya didn't.\"\n",
      "Old friends used to say, \"Could've, would've, should've, but ya didn't.\"\n",
      "Old friends used to say, \"Could've, would've, should've, but ya didn't.\"\n",
      "Old friends used to say, \"Could've, would've, should've, but ya didn't.\"\n",
      "Old friends used to say, \"Could've, would've, should've, but ya didn't.\"\n",
      "Old friends used to say, \"Could've, would've, should've, but ya didn't.\"\n",
      "Old friends used to say, \"Could've, would've, should've, but ya didn't.\"\n",
      "Old friends used to say, \"Could've, would've, should've, but ya didn't.\"\n",
      "Old friends used to say, \"Could've, would've, should've, but ya didn't.\"\n",
      "Old friends used to say, \"Could've, would've, should've, but ya didn't.\"\n",
      "Old friends used to say, \"Could've, would've, should've, but ya didn't.\"\n",
      "Old friends used to say, \"Could've, would've, should've, but ya didn't.\"\n",
      "Old friends used to say, \"Could've, would've, should've, but ya didn't.\"\n",
      "Old friends used to say, \"Could've, would've, should've, but ya didn't.\"\n",
      "Old friends used to say, \"Could've, would've, should've, but ya didn't.\"\n",
      "Old friends used to say, \"Could've, would've, should've, but ya didn't.\"\n",
      "Old friends used to say, \"Could've, would've, should've, but ya didn't.\"\n",
      "Old friends used to say, \"Could've, would've, should've, but ya didn't.\"\n",
      "Old friends used to say, \"Could've, would've, should've, but ya didn't.\"\n",
      "Old friends used to say, \"Could've, would've, should've, but ya didn't.\"\n",
      "Old friends used to say, \"Could've, would've, should've, but ya didn't.\"\n",
      "Old friends used to say, \"Could've, would've, should've, but ya didn't.\"\n",
      "Old friends used to say, \"Could've, would've, should've, but ya didn't.\"\n",
      "Old friends used to say, \"Could've, would've, should've, but ya didn't.\"\n",
      "Old friends used to say, \"Could've, would've, should've, but ya didn't.\"\n",
      "Old friends used to say, \"Could've, would've, should've, but ya didn't.\"\n",
      "Old friends used to say, \"Could've, would've, should've, but ya didn't.\"\n",
      "Old friends used to say, \"Could've, would've, should've, but ya didn't.\"\n",
      "Old friends used to say, \"Could've, would've, should've, but ya didn't.\"\n",
      "Old friends used to say, \"Could've, would've, should've, but ya didn't.\"\n",
      "Old friends used to say, \"Could've, would've, should've, but ya didn't.\"\n",
      "Old friends used to say, \"Could've, would've, should've, but ya didn't.\"\n",
      "Old friends used to say, \"Could've, would've, should've, but ya didn't.\"\n",
      "Old friends used to say, \"Could've, would've, should've, but ya didn't.\"\n",
      "Old friends used to say, \"Could've, would've, should've, but ya didn't.\"\n",
      "Old friends used to say, \"Could've, would've, should've, but ya didn't.\"\n",
      "Old friends used to say, \"Could've, would've, should've, but ya didn't.\"\n",
      "Old friends used to say, \"Could've, would've, should've, but ya didn't.\"\n",
      "Old friends used to say, \"Could've, would've, should've, but ya didn't.\"\n",
      "Old friends used to say, \"Could've, would've, should've, but ya didn't.\"\n",
      "Old friends used to say, \"Could've, would've, should've, but ya didn't.\"\n",
      "Old friends used to say, \"Could've, would've, should've, but ya didn't.\"\n",
      "Old friends used to say, \"Could've, would've, should've, but ya didn't.\"\n",
      "Old friends used to say, \"Could've, would've, should've, but ya didn't.\"\n",
      "Old friends used to say, \"Could've, would've, should've, but ya didn't.\"\n",
      "Old friends used to say, \"Could've, would've, should've, but ya didn't.\"\n",
      "Old friends used to say, \"Could've, would've, should've, but ya didn't.\"\n",
      "Old friends used to say, \"Could've, would've, should've, but ya didn't.\"\n",
      "Old friends used to say, \"Could've, would've, should've, but ya didn't.\"\n",
      "Old friends used to say, \"Could've, would've, should've, but ya didn't.\"\n",
      "Old friends used to say, \"Could've, would've, should've, but ya didn't.\"\n",
      "Old friends used to say, \"Could've, would've, should've, but ya didn't.\"\n",
      "Old friends used to say, \"Could've, would've, should've, but ya didn't.\"\n",
      "Old friends used to say, \"Could've, would've, should've, but ya didn't.\"\n",
      "Old friends used to say, \"Could've, would've, should've, but ya didn't.\"\n",
      "Old friends used to say, \"Could've, would've, should've, but ya didn't.\"\n",
      "Old friends used to say, \"Could've, would've, should've, but ya didn't.\"\n",
      "Old friends used to say, \"Could've, would've, should've, but ya didn't.\"\n",
      "Old friends used to say, \"Could've, would've, should've, but ya didn't.\"\n",
      "Old friends used to say, \"Could've, would've, should've, but ya didn't.\"\n",
      "Old friends used to say, \"Could've, would've, should've, but ya didn't.\"\n",
      "Old friends used to say, \"Could've, would've, should've, but ya didn't.\"\n",
      "Old friends used to say, \"Could've, would've, should've, but ya didn't.\"\n",
      "Old friends used to say, \"Could've, would've, should've, but ya didn't.\"\n",
      "Old friends used to say, \"Could've, would've, should've, but ya didn't.\"\n",
      "Old friends used to say, \"Could've, would've, should've, but ya didn't.\"\n",
      "Old friends used to say, \"Could've, would've, should've, but ya didn't.\"\n",
      "Old friends used to say, \"Could've, would've, should've, but ya didn't.\"\n",
      "Old friends used to say, \"Could've, would've, should've, but ya didn't.\"\n",
      "Old friends used to say, \"Could've, would've, should've, but ya didn't.\"\n",
      "Old friends used to say, \"Could've, would've, should've, but ya didn't.\"\n",
      "Old friends used to say, \"Could've, would've, should've, but ya didn't.\"\n",
      "Old friends used to say, \"Could've, would've, should've, but ya didn't.\"\n",
      "Old friends used to say, \"Could've, would've, should've, but ya didn't.\"\n",
      "Old friends used to say, \"Could've, would've, should've, but ya didn't.\"\n",
      "Old friends used to say, \"Could've, would've, should've, but ya didn't.\"\n",
      "Old friends used to say, \"Could've, would've, should've, but ya didn't.\"\n",
      "Old friends used to say, \"Could've, would've, should've, but ya didn't.\"\n",
      "Old friends used to say, \"Could've, would've, should've, but ya didn't.\"\n",
      "Old friends used to say, \"Could've, would've, should've, but ya didn't.\"\n",
      "Old friends used to say, \"Could've, would've, should've, but ya didn't.\"\n",
      "Old friends used to say, \"Could've, would've, should've, but ya didn't.\"\n",
      "Old friends used to say, \"Could've, would've, should've, but ya didn't.\"\n",
      "Old friends used to say, \"Could've, would've, should've, but ya didn't.\"\n",
      "Old friends used to say, \"Could've, would've, should've, but ya didn't.\"\n",
      "Old friends used to say, \"Could've, would've, should've, but ya didn't.\"\n",
      "Old friends used to say, \"Could've, would've, should've, but ya didn't.\"\n",
      "Old friends used to say, \"Could've, would've, should've, but ya didn't.\"\n",
      "Old friends used to say, \"Could've, would've, should've, but ya didn't.\"\n",
      "Old friends used to say, \"Could've, would've, should've, but ya didn't.\"\n",
      "Old friends used to say, \"Could've, would've, should've, but ya didn't.\"\n",
      "Old friends used to say, \"Could've, would've, should've, but ya didn't.\"\n",
      "Old friends used to say, \"Could've, would've, should've, but ya didn't.\"\n",
      "Old friends used to say, \"Could've, would've, should've, but ya didn't.\"\n",
      "Old friends used to say, \"Could've, would've, should've, but ya didn't.\"\n",
      "Old friends used to say, \"Could've, would've, should've, but ya didn't.\"\n",
      "Old friends used to say, \"Could've, would've, should've, but ya didn't.\"\n",
      "Old friends used to say, \"Could've, would've, should've, but ya didn't.\"\n",
      "Old friends used to say, \"Could've, would've, should've, but ya didn't.\"\n",
      "Old friends used to say, \"Could've, would've, should've, but ya didn't.\"\n",
      "Old friends used to say, \"Could've, would've, should've, but ya didn't.\"\n",
      "Old friends used to say, \"Could've, would've, should've, but ya didn't.\"\n",
      "Old friends used to say, \"Could've, would've, should've, but ya didn't.\"\n",
      "Old friends used to say, \"Could've, would've, should've, but ya didn't.\"\n",
      "Old friends used to say, \"Could've, would've, should've, but ya didn't.\"\n",
      "Old friends used to say, \"Could've, would've, should've, but ya didn't.\"\n",
      "Old friends used to say, \"Could've, would've, should've, but ya didn't.\"\n",
      "Old friends used to say, \"Could've, would've, should've, but ya didn't.\"\n",
      "Old friends used to say, \"Could've, would've, should've, but ya didn't.\"\n",
      "Old friends used to say, \"Could've, would've, should've, but ya didn't.\"\n",
      "Old friends used to say, \"Could've, would've, should've, but ya didn't.\"\n",
      "Old friends used to say, \"Could've, would've, should've, but ya didn't.\"\n",
      "Old friends used to say, \"Could've, would've, should've, but ya didn't.\"\n",
      "Old friends used to say, \"Could've, would've, should've, but ya didn't.\"\n",
      "Old friends used to say, \"Could've, would've, should've, but ya didn't.\"\n",
      "Old friends used to say, \"Could've, would've, should've, but ya didn't.\"\n",
      "Old friends used to say, \"Could've, would've, should've, but ya didn't.\"\n",
      "Old friends used to say, \"Could've, would've, should've, but ya didn't.\"\n",
      "Old friends used to say, \"Could've, would've, should've, but ya didn't.\"\n",
      "Old friends used to say, \"Could've, would've, should've, but ya didn't.\"\n",
      "Old friends used to say, \"Could've, would've, should've, but ya didn't.\"\n",
      "Old friends used to say, \"Could've, would've, should've, but ya didn't.\"\n",
      "Old friends used to say, \"Could've, would've, should've, but ya didn't.\"\n",
      "Old friends used to say, \"Could've, would've, should've, but ya didn't.\"\n",
      "Old friends used to say, \"Could've, would've, should've, but ya didn't.\"\n",
      "Old friends used to say, \"Could've, would've, should've, but ya didn't.\"\n",
      "Old friends used to say, \"Could've, would've, should've, but ya didn't.\"\n",
      "Old friends used to say, \"Could've, would've, should've, but ya didn't.\"\n",
      "Old friends used to say, \"Could've, would've, should've, but ya didn't.\"\n",
      "Old friends used to say, \"Could've, would've, should've, but ya didn't.\"\n",
      "Old friends used to say, \"Could've, would've, should've, but ya didn't.\"\n",
      "Old friends used to say, \"Could've, would've, should've, but ya didn't.\"\n",
      "Old friends used to say, \"Could've, would've, should've, but ya didn't.\"\n",
      "Old friends used to say, \"Could've, would've, should've, but ya didn't.\"\n",
      "Old friends used to say, \"Could've, would've, should've, but ya didn't.\"\n",
      "Old friends used to say, \"Could've, would've, should've, but ya didn't.\"\n",
      "Old friends used to say, \"Could've, would've, should've, but ya didn't.\"\n",
      "Old friends used to say, \"Could've, would've, should've, but ya didn't.\"\n",
      "Old friends used to say, \"Could've, would've, should've, but ya didn't.\"\n",
      "Old friends used to say, \"Could've, would've, should've, but ya didn't.\"\n",
      "Old friends used to say, \"Could've, would've, should've, but ya didn't.\"\n",
      "Old friends used to say, \"Could've, would've, should've, but ya didn't.\"\n",
      "Old friends used to say, \"Could've, would've, should've, but ya didn't.\"\n",
      "Old friends used to say, \"Could've, would've, should've, but ya didn't.\"\n",
      "Old friends used to say, \"Could've, would've, should've, but ya didn't.\"\n",
      "Old friends used to say, \"Could've, would've, should've, but ya didn't.\"\n",
      "Old friends used to say, \"Could've, would've, should've, but ya didn't.\"\n",
      "Old friends used to say, \"Could've, would've, should've, but ya didn't.\"\n",
      "Old friends used to say, \"Could've, would've, should've, but ya didn't.\"\n",
      "Old friends used to say, \"Could've, would've, should've, but ya didn't.\"\n",
      "Old friends used to say, \"Could've, would've, should've, but ya didn't.\"\n",
      "Old friends used to say, \"Could've, would've, should've, but ya didn't.\"\n",
      "Old friends used to say, \"Could've, would've, should've, but ya didn't.\"\n",
      "Old friends used to say, \"Could've, would've, should've, but ya didn't.\"\n",
      "Old friends used to say, \"Could've, would've, should've, but ya didn't.\"\n",
      "Old friends used to say, \"Could've, would've, should've, but ya didn't.\"\n",
      "Old friends used to say, \"Could've, would've, should've, but ya didn't.\"\n",
      "Old friends used to say, \"Could've, would've, should've, but ya didn't.\"\n",
      "Old friends used to say, \"Could've, would've, should've, but ya didn't.\"\n",
      "Old friends used to say, \"Could've, would've, should've, but ya didn't.\"\n",
      "Old friends used to say, \"Could've, would've, should've, but ya didn't.\"\n",
      "Old friends used to say, \"Could've, would've, should've, but ya didn't.\"\n",
      "Old friends used to say, \"Could've, would've, should've, but ya didn't.\"\n",
      "Old friends used to say, \"Could've, would've, should've, but ya didn't.\"\n",
      "Old friends used to say, \"Could've, would've, should've, but ya didn't.\"\n",
      "Old friends used to say, \"Could've, would've, should've, but ya didn't.\"\n",
      "Old friends used to say, \"Could've, would've, should've, but ya didn't.\"\n",
      "Old friends used to say, \"Could've, would've, should've, but ya didn't.\"\n",
      "Old friends used to say, \"Could've, would've, should've, but ya didn't.\"\n",
      "Old friends used to say, \"Could've, would've, should've, but ya didn't.\"\n",
      "Old friends used to say, \"Could've, would've, should've, but ya didn't.\"\n",
      "Old friends used to say, \"Could've, would've, should've, but ya didn't.\"\n",
      "Old friends used to say, \"Could've, would've, should've, but ya didn't.\"\n",
      "Old friends used to say, \"Could've, would've, should've, but ya didn't.\"\n",
      "Old friends used to say, \"Could've, would've, should've, but ya didn't.\"\n",
      "Old friends used to say, \"Could've, would've, should've, but ya didn't.\"\n",
      "Old friends used to say, \"Could've, would've, should've, but ya didn't.\"\n",
      "Old friends used to say, \"Could've, would've, should've, but ya didn't.\"\n",
      "Old friends used to say, \"Could've, would've, should've, but ya didn't.\"\n",
      "Old friends used to say, \"Could've, would've, should've, but ya didn't.\"\n",
      "Old friends used to say, \"Could've, would've, should've, but ya didn't.\"\n",
      "Old friends used to say, \"Could've, would've, should've, but ya didn't.\"\n",
      "Old friends used to say, \"Could've, would've, should've, but ya didn't.\"\n",
      "Old friends used to say, \"Could've, would've, should've, but ya didn't.\"\n",
      "Old friends used to say, \"Could've, would've, should've, but ya didn't.\"\n",
      "Old friends used to say, \"Could've, would've, should've, but ya didn't.\"\n",
      "Old friends used to say, \"Could've, would've, should've, but ya didn't.\"\n",
      "Old friends used to say, \"Could've, would've, should've, but ya didn't.\"\n",
      "Old friends used to say, \"Could've, would've, should've, but ya didn't.\"\n",
      "Old friends used to say, \"Could've, would've, should've, but ya didn't.\"\n",
      "Old friends used to say, \"Could've, would've, should've, but ya didn't.\"\n",
      "Old friends used to say, \"Could've, would've, should've, but ya didn't.\"\n",
      "Old friends used to say, \"Could've, would've, should've, but ya didn't.\"\n",
      "Old friends used to say, \"Could've, would've, should've, but ya didn't.\"\n",
      "Old friends used to say, \"Could've, would've, should've, but ya didn't.\"\n",
      "Old friends used to say, \"Could've, would've, should've, but ya didn't.\"\n",
      "Old friends used to say, \"Could've, would've, should've, but ya didn't.\"\n",
      "Old friends used to say, \"Could've, would've, should've, but ya didn't.\"\n",
      "Old friends used to say, \"Could've, would've, should've, but ya didn't.\"\n",
      "Old friends used to say, \"Could've, would've, should've, but ya didn't.\"\n",
      "Old friends used to say, \"Could've, would've, should've, but ya didn't.\"\n",
      "Old friends used to say, \"Could've, would've, should've, but ya didn't.\"\n",
      "Old friends used to say, \"Could've, would've, should've, but ya didn't.\"\n",
      "Old friends used to say, \"Could've, would've, should've, but ya didn't.\"\n",
      "Old friends used to say, \"Could've, would've, should've, but ya didn't.\"\n",
      "Old friends used to say, \"Could've, would've, should've, but ya didn't.\"\n",
      "Old friends used to say, \"Could've, would've, should've, but ya didn't.\"\n",
      "Old friends used to say, \"Could've, would've, should've, but ya didn't.\"\n",
      "Old friends used to say, \"Could've, would've, should've, but ya didn't.\"\n",
      "Old friends used to say, \"Could've, would've, should've, but ya didn't.\"\n",
      "Old friends used to say, \"Could've, would've, should've, but ya didn't.\"\n",
      "Old friends used to say, \"Could've, would've, should've, but ya didn't.\"\n",
      "Old friends used to say, \"Could've, would've, should've, but ya didn't.\"\n",
      "Old friends used to say, \"Could've, would've, should've, but ya didn't.\"\n",
      "Old friends used to say, \"Could've, would've, should've, but ya didn't.\"\n"
     ]
    }
   ],
   "source": [
    "quote = 'Old friends used to say, \"Could\\'ve, would\\'ve, should\\'ve, but ya didn\\'t.\"'\n",
    "for n in range(1000):\n",
    "    print(quote)"
   ]
  },
  {
   "cell_type": "markdown",
   "metadata": {},
   "source": [
    "### Exercise 3:\n",
    "\n",
    "Use python string operations and methods to use the following variables to print this:\n",
    "\n",
    "    \"hello world\""
   ]
  },
  {
   "cell_type": "code",
   "execution_count": 18,
   "metadata": {},
   "outputs": [
    {
     "name": "stdout",
     "output_type": "stream",
     "text": [
      "hello world\n"
     ]
    }
   ],
   "source": [
    "message_1 = \"hELlo\"\n",
    "message_2 = \"                              wor\"\n",
    "message_3 = \"\"\n",
    "\n",
    "print(f'{message_1.lower()} {message_2.strip()}ld')"
   ]
  },
  {
   "cell_type": "code",
   "execution_count": null,
   "metadata": {},
   "outputs": [],
   "source": [
    "import random, string\n"
   ]
  },
  {
   "cell_type": "markdown",
   "metadata": {},
   "source": [
    "### Exercise 4\n",
    "\n",
    "Fix the following code so it prints properly"
   ]
  },
  {
   "cell_type": "code",
   "execution_count": 20,
   "metadata": {
    "scrolled": true
   },
   "outputs": [
    {
     "name": "stdout",
     "output_type": "stream",
     "text": [
      "The price is $3.44.\n"
     ]
    }
   ],
   "source": [
    "# Dollar amounts should only have two digits after the decimal\n",
    "print(\"The price is $%.2f.\" % (3.44444))"
   ]
  },
  {
   "cell_type": "code",
   "execution_count": 27,
   "metadata": {},
   "outputs": [
    {
     "name": "stdout",
     "output_type": "stream",
     "text": [
      "Enter your name: lou\n",
      "lou is learning\n"
     ]
    }
   ],
   "source": [
    "name = input(\"Enter your name: \")\n",
    "print(\"{name} is learning\".format(name = name) )"
   ]
  },
  {
   "cell_type": "markdown",
   "metadata": {},
   "source": [
    "### Exercise 5\n",
    "\n",
    "Create your own mad-lib with at least 5 inputs."
   ]
  },
  {
   "cell_type": "code",
   "execution_count": 34,
   "metadata": {},
   "outputs": [
    {
     "name": "stdout",
     "output_type": "stream",
     "text": [
      "Enter a sports team: Denver Broncos\n",
      "Enter a verb: dancing\n",
      "Enter a type of creature: bald eagle\n",
      "Enter your zip code: 10462\n",
      "Enter a profession (plural): police officers\n",
      "Enter your birthyear: 1987\n",
      "The way the Denver Broncos went out dancing was something for the ages. No other bald eagle on this Earth today is more consistent at dancing as the Denver Broncos. Truth be told, 10462 police officers were called to the scene to be witnesses of something that hasn't happened since the year 1987.\n"
     ]
    }
   ],
   "source": [
    "sportsteam = input(\"Enter a sports team: \")\n",
    "first_verb = input('Enter a verb: ')\n",
    "singular_creature = input('Enter a type of creature (singular): ')\n",
    "number = input('Enter your zip code: ')\n",
    "plural_profession = input('Enter a profession (plural): ')\n",
    "year = input('Enter your birthyear: ')\n",
    "\n",
    "madlib = f'The way the {sportsteam} went out {first_verb} was something for the ages. No other {singular_creature} on this Earth today is more consistent at {first_verb} as the {sportsteam}. Truth be told, {number} {plural_profession} were called to the scene to be witnesses of something that hasn\\'t happened since the year {year}.'\n",
    "\n",
    "\n",
    "\n",
    "print(madlib)"
   ]
  },
  {
   "cell_type": "code",
   "execution_count": null,
   "metadata": {},
   "outputs": [],
   "source": []
  }
 ],
 "metadata": {
  "kernelspec": {
   "display_name": "Python 3",
   "language": "python",
   "name": "python3"
  },
  "language_info": {
   "codemirror_mode": {
    "name": "ipython",
    "version": 3
   },
   "file_extension": ".py",
   "mimetype": "text/x-python",
   "name": "python",
   "nbconvert_exporter": "python",
   "pygments_lexer": "ipython3",
   "version": "3.8.5"
  }
 },
 "nbformat": 4,
 "nbformat_minor": 4
}
